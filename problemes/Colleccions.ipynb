{
 "cells": [
  {
   "cell_type": "markdown",
   "metadata": {},
   "source": [
    "\n",
    "<div id=\"capcalera\">\n",
    "<p><a href=\"https://colab.research.google.com/github/algorismica2019/algorismica2019.github.io/blob/master/problemes/Colleccions.ipynb\"><img style=\"margin:-10px 10px 20px 0\" width=\"150px\" align=\"right\" src=\"https://raw.githubusercontent.com/algorismica2019/algorismica2019.github.io/master/problemes/assets/colab-badge.png?raw=1\" alt=\"Obrir a Colab\" title=\"Obrir i executar a Google Colaboratory\"></a></p>\n",
    "    \n",
    "<p style=\"clear:both\"><img align='left' width=\"300px\" style=\"padding-right:10px;float=left\" src=\"https://raw.githubusercontent.com/algorismica2019/algorismica2019.github.io/master/problemes/assets/al-khwarizmi.png\">Aquest notebook forma part dels continguts teòrics dels problemes de l'assignatura d'<strong>Algorísmica</strong> del Grau d'Enginyeria Informàtica a la <a href=\"https://mat.ub.edu\">Facultat de Matemàtiques i Informàtica</a> de la <a href=\"https://www.ub.edu\">Universitat de Barcelona</a> impartida per <em>Jordi Vitrià</em> i <em>Mireia Ribera</em></p>\n",
    "\n",
    "<p>Els problemes s'ofereixen sota llicència <a href=\"https://creativecommons.org/licenses/by-nc-nd/3.0/us/legalcode\">CC-BY-NC-ND license</a>, i el codi sota <a href=\"https://opensource.org/licenses/MIT\">Llicència MIT</a>.</p><p style=\"clear:both;text-align:center\">&lt; <a href=\"Variables.ipynb\">Variables</a> | <a href=\"Teoria.ipynb\">Explicacions teòriques</a> | <a href=\"LListatProblemes.ipynb\">LListat de problemes</a> | <a href=\"Booleans.ipynb\">Booleans</a> &gt; </p>\n",
    "\n",
    "</div>"
   ]
  },
  {
   "cell_type": "markdown",
   "metadata": {},
   "source": [
    "# <span class=\"tema\">( Continguts teòrics)</span> Col.leccions"
   ]
  },
  {
   "cell_type": "markdown",
   "metadata": {},
   "source": [
    "## Documentació de Python relacionada\n",
    "\n",
    "- Tutorial 5. Data structures https://docs.python.org/3/tutorial/datastructures.html\n",
    "- Sequence types: list, tuple, range: https://docs.python.org/3/library/stdtypes.html?#sequence-types-list-tuple-range\n",
    "- Mapping types - dict : https://docs.python.org/3/library/stdtypes.html?#mapping-types-dict\n",
    "- Time complexity: https://wiki.python.org/moin/TimeComplexity"
   ]
  },
  {
   "cell_type": "markdown",
   "metadata": {},
   "source": [
    "## Introducció\n",
    "Les col.leccions són estructures de dades que guarden conjunts de valors. En aquesta assignatura es veuen principalment les llistes, les tuples i els diccionaris."
   ]
  },
  {
   "cell_type": "code",
   "execution_count": 1,
   "metadata": {},
   "outputs": [
    {
     "name": "stdout",
     "output_type": "stream",
     "text": [
      "['gat', 8, True, 0]\n",
      "adeu\n"
     ]
    }
   ],
   "source": [
    "# Exemple\n",
    "llista = [\"gat\", 8, True, 0b000]\n",
    "print(llista)\n",
    "diccionari = {1: \"hola\", 2: \"adeu\"}\n",
    "print(diccionari[2])"
   ]
  },
  {
   "cell_type": "markdown",
   "metadata": {},
   "source": [
    "Les llistes són conjunts ordenats d'elements. Una llista pot contenir elements de diferents tipus (no és **homogènia**) i els seus elements es poden canviar de manera directa (és **mutable**).\n",
    "\n",
    "Les tuples són molt semblants a les llistes però són immutables. Aquesta característica imposa certes restriccions en la programació però fa que el seu processament sigui molt més eficient i en molts casos redefinirem una llista com a tupla per guanyar eficiència. \n",
    "\n",
    "Els diccionaris són parelles de clau-valor que permeten recuperar un valor a partir de la seva clau de forma molt eficient. El diccionari, a l'igual que la llista es pot recorrer seqüencialment, però no té un ordre prefixat.\n",
    "\n",
    "Tant les llistes com els diccionaris actuen com a rang de valors i es poden recorrer en una iteració."
   ]
  },
  {
   "cell_type": "markdown",
   "metadata": {},
   "source": [
    "## Operacions amb col·leccions\n",
    "\n",
    "Cada col.lecció té una manera d'inicialitzar-la, de consultar valors, d'afegir-n'hi, d'esborrar-ne o de recorrer-la."
   ]
  },
  {
   "cell_type": "markdown",
   "metadata": {},
   "source": [
    "### Col.lecció *list*"
   ]
  },
  {
   "cell_type": "code",
   "execution_count": 2,
   "metadata": {},
   "outputs": [
    {
     "name": "stdout",
     "output_type": "stream",
     "text": [
      "[]\n",
      "['cotxe', 4, True]\n",
      "[0, 0, 0, 0, 0, 0, 0, 0, 0, 0]\n",
      "[0, 4, 8, 12, 16, 20, 24, 28, 32, 36, 40]\n",
      "['cotxe', 4, True]\n"
     ]
    }
   ],
   "source": [
    "# Inicialització de la col.lecció list\n",
    "llista1 = []\n",
    "llista2 = [\"cotxe\", 4, True]\n",
    "llista3 = [0] * 10\n",
    "llista4 = [i * 2 for i in range(21) if i % 2 == 0]\n",
    "llista5 = llista2\n",
    "print(llista1)\n",
    "print(llista2)\n",
    "print(llista3)\n",
    "print(llista4)\n",
    "print(llista5)"
   ]
  },
  {
   "cell_type": "code",
   "execution_count": 3,
   "metadata": {},
   "outputs": [
    {
     "name": "stdout",
     "output_type": "stream",
     "text": [
      "gat\n",
      "True\n",
      "6\n"
     ]
    }
   ],
   "source": [
    "# Consultar valors a la col.lecció list\n",
    "llista = [\"gat\", 8, True, 0b010, 6]\n",
    "print(llista[0])\n",
    "print(llista[2])\n",
    "print(llista[-1])  # començo pel darrera"
   ]
  },
  {
   "cell_type": "code",
   "execution_count": 4,
   "metadata": {},
   "outputs": [
    {
     "name": "stdout",
     "output_type": "stream",
     "text": [
      "['gat', 8, True, 0]\n",
      "['gat', 8, True, 0, 'Un altre valor']\n",
      "['gat', 'gos', 8, True, 0, 'Un altre valor']\n"
     ]
    }
   ],
   "source": [
    "# Afegir elements a la col.lecció list\n",
    "llista = [\"gat\", 8, True, 0b000]\n",
    "print(llista)\n",
    "llista.append(\"Un altre valor\")\n",
    "print(llista)\n",
    "llista.insert(1, \"gos\")\n",
    "print(llista)"
   ]
  },
  {
   "cell_type": "markdown",
   "metadata": {},
   "source": [
    "Com que la llista serà la col.lecció més usada aquest any veurem també l'operació de concatenació i l'slicing, i altres operacions auxiliars que ens resultaran molt útils per a molts algorismes"
   ]
  },
  {
   "cell_type": "markdown",
   "metadata": {},
   "source": [
    "### Còpia de llistes\n",
    "\n",
    "*Atenció*: Quan es fa una còpia d'una col.lecció es fa una còpia per referència, i per tant canvis a l'original afectaran al duplicat. \n",
    "\n",
    "Per evitar-ho caldrà crear una nova col.lecció i copiar els elements un a un, amb una iteració o amb slicing el contingut.\n",
    "\n",
    "- list1 = []\n",
    "- list2 = list1           # list 2 sempre valdrà el mateix que list1, és una còpia per referència\n",
    "- list3 = list1[:]        # list 3 ha copiat els continguts de list1, si variem list1, list3 no es veurà afectada\n",
    "\n",
    "Observa el següent codi i digues perquè list2 és diferent de list3"
   ]
  },
  {
   "cell_type": "code",
   "execution_count": 2,
   "metadata": {},
   "outputs": [
    {
     "name": "stdout",
     "output_type": "stream",
     "text": [
      "a original: [1, 2, 3]\n",
      "a modificada: [1, 2, 3, 4]\n",
      "b copiada per referència [1, 2, 3, 4]\n",
      "a original: [1, 2, 3]\n",
      "a modificada: [1, 2, 3, 4]\n",
      "b copiada element a element [[1, 2, 3]]\n"
     ]
    }
   ],
   "source": [
    "# efectes laterals de la còpia per referència\n",
    "a = [1,2,3]\n",
    "print(\"a original:\", a)\n",
    "b = a\n",
    "a.append(4)\n",
    "print(\"a modificada:\", a)\n",
    "print(\"b copiada per referència\", b)\n",
    "# però...\n",
    "a = [1, 2, 3]\n",
    "print(\"a original:\", a)\n",
    "b = [a[:]]\n",
    "a.append(4)\n",
    "print(\"a modificada:\", a)\n",
    "print(\"b copiada element a element\", b)"
   ]
  },
  {
   "cell_type": "code",
   "execution_count": null,
   "metadata": {},
   "outputs": [],
   "source": [
    "list1 = []\n",
    "list2 = list1\n",
    "list3 = list1[:] # Usant [:] només copiem el contingut. Per tant si modifiquem la list3, la list1\n",
    "                 # no es veurà afectada i viceversa.\n",
    "\n",
    "for i in range(10):\n",
    "    list1.append(i)\n",
    "    \n",
    "print(\"1. \", list1)\n",
    "print(\"2. \", list2)\n",
    "print(\"3. \", list3)"
   ]
  },
  {
   "cell_type": "markdown",
   "metadata": {},
   "source": [
    "#### Concatenació de llistes"
   ]
  },
  {
   "cell_type": "code",
   "execution_count": 5,
   "metadata": {},
   "outputs": [
    {
     "name": "stdout",
     "output_type": "stream",
     "text": [
      "['a', 'b', 'c', 'x', 'y', 'z']\n",
      "['x', 'y', 'z', 'a', 'b', 'c']\n"
     ]
    }
   ],
   "source": [
    "llista1 = [\"a\", \"b\", \"c\"]\n",
    "llista2 = [\"x\", \"y\", \"z\"]\n",
    "llista3 = llista1 + llista2\n",
    "print(llista3)\n",
    "llista4 = llista2 + llista1\n",
    "print(llista4)"
   ]
  },
  {
   "cell_type": "markdown",
   "metadata": {},
   "source": [
    "#### Slicing: o partir la llista en trossos"
   ]
  },
  {
   "cell_type": "code",
   "execution_count": 6,
   "metadata": {},
   "outputs": [
    {
     "name": "stdout",
     "output_type": "stream",
     "text": [
      "['a', 'b', 'c']\n",
      "['c', 'd']\n",
      "['a', 'c', 'e']\n"
     ]
    }
   ],
   "source": [
    "# puc triar una part de la llista indicant el rang de valors que vull\n",
    "# el rang s'indica amb tres valors: start (primer índex que agafo), stop (darrer índex, no s'hi arriba),\n",
    "#                                   step (salt)\n",
    "llista = ['a', 'b', 'c', 'd', 'e', 'f']\n",
    "print(llista[0:3])  #agafo la subllista entre els índexs 1 i 2(al 3 no hi arribo)\n",
    "print(llista[2:4])  #entre els índexs 2 i 3\n",
    "print(llista[0:5:2]) #entre els índexs 0 i 4 saltant de 2 en 2"
   ]
  },
  {
   "cell_type": "code",
   "execution_count": 7,
   "metadata": {},
   "outputs": [
    {
     "name": "stdout",
     "output_type": "stream",
     "text": [
      "['f', 'e', 'd', 'c', 'b', 'a']\n"
     ]
    }
   ],
   "source": [
    "# amb un valor negatiu de l'step podem invertir la llista\n",
    "llista = ['a', 'b', 'c', 'd', 'e', 'f']\n",
    "print(llista[::-1])"
   ]
  },
  {
   "cell_type": "markdown",
   "metadata": {},
   "source": [
    "####  Enumerate: amb Enumerate podem recorrer una col.lecció i a més obtenir-ne els índexs"
   ]
  },
  {
   "cell_type": "code",
   "execution_count": null,
   "metadata": {},
   "outputs": [],
   "source": [
    "# Exemple\n",
    "\n",
    "word=\"hola\"\n",
    "for i, a in enumerate(word):\n",
    "    print(\"index \", i, \" lletra \", a)"
   ]
  },
  {
   "cell_type": "markdown",
   "metadata": {},
   "source": [
    "#### Altres operacions auxiliars a les llistes"
   ]
  },
  {
   "cell_type": "code",
   "execution_count": 8,
   "metadata": {},
   "outputs": [
    {
     "name": "stdout",
     "output_type": "stream",
     "text": [
      "['a', 'b', 'c', 'c', 'r', 'x', 'z']\n"
     ]
    }
   ],
   "source": [
    "llista = ['b', 'c', 'x', 'c', 'r', 'a', 'z']\n",
    "llista.sort()      # ordena la llista\n",
    "print(llista)"
   ]
  },
  {
   "cell_type": "code",
   "execution_count": 9,
   "metadata": {},
   "outputs": [
    {
     "name": "stdout",
     "output_type": "stream",
     "text": [
      "['z', 'a', 'r', 'c', 'x', 'c', 'b']\n"
     ]
    }
   ],
   "source": [
    "llista = ['b', 'c', 'x', 'c', 'r', 'a', 'z']\n",
    "llista.reverse()   # inverteix la llista\n",
    "print(llista)"
   ]
  },
  {
   "cell_type": "code",
   "execution_count": 10,
   "metadata": {},
   "outputs": [
    {
     "data": {
      "text/plain": [
       "2"
      ]
     },
     "execution_count": 10,
     "metadata": {},
     "output_type": "execute_result"
    }
   ],
   "source": [
    "llista.count('c')  # compta quantes vegades apareix l'element indicat"
   ]
  },
  {
   "cell_type": "code",
   "execution_count": 11,
   "metadata": {},
   "outputs": [
    {
     "data": {
      "text/plain": [
       "7"
      ]
     },
     "execution_count": 11,
     "metadata": {},
     "output_type": "execute_result"
    }
   ],
   "source": [
    "len(llista)        # compta quants elements té la llista"
   ]
  },
  {
   "cell_type": "code",
   "execution_count": 12,
   "metadata": {},
   "outputs": [
    {
     "data": {
      "text/plain": [
       "True"
      ]
     },
     "execution_count": 12,
     "metadata": {},
     "output_type": "execute_result"
    }
   ],
   "source": [
    "'b' in llista      # verifica si l'element és a la llista"
   ]
  },
  {
   "cell_type": "markdown",
   "metadata": {},
   "source": [
    "### <span class=\"exercici\">Exercici 1: El 8 és primer o és darrer?</span>\n",
    "\n",
    "Donada una llista de nombres enters, retornar ``True`` si el nombre 8 és el primer element de la llista o és el darrer. Retornar ``False`` altrament.\n",
    "\n",
    "Posa  4 exemples de llistes, dues que retornin ``True`` i dues que retornin ``False``."
   ]
  },
  {
   "cell_type": "code",
   "execution_count": null,
   "metadata": {},
   "outputs": [],
   "source": [
    "def primerDarrer8(llista):\n",
    "    \"\"\"\n",
    "    Aquesta funció, donada una llista d’enters,\n",
    "    retorna True si 8 és el primer o el darrer element de la llista, \n",
    "    retorna False altrament\n",
    "    :param llista una llista d'enters\n",
    "    :return: True si 8 és a l'inici o final, False altrament\n",
    "    \"\"\"\n",
    "    pass"
   ]
  },
  {
   "cell_type": "markdown",
   "metadata": {},
   "source": [
    "### <span class=\"exercici\">Exercici 2: A mig camí</span>\n",
    "\n",
    "\n",
    "Donades dues llistes d'enters, cadascuna de longitud 3, retorna una nova llista que contingui els elements del mig de cada llista.\n",
    "\n",
    "Per exemple:\n",
    "- [4, 5, 6], [7, 8, 9] => [5, 8]\n",
    "- [6, 6, 6], [1, 2, 3] => [6, 2]"
   ]
  },
  {
   "cell_type": "code",
   "execution_count": 1,
   "metadata": {},
   "outputs": [],
   "source": [
    "def aMigCami(llista1, llista2):\n",
    "    \"\"\"\n",
    "    Aquesta funció, donades dues llistes d'enters,\n",
    "    retorna una nova llista formada pels seus dos elements del mig\n",
    "    :param llista1 una llista d'enters\n",
    "    :param llista2 una llista d'enters\n",
    "    :return: una llista formada pels dos elements del mig de llista1 i llista2\n",
    "    \"\"\"\n",
    "    pass"
   ]
  },
  {
   "cell_type": "markdown",
   "metadata": {},
   "source": [
    "### Col.lecció *Tupla*"
   ]
  },
  {
   "cell_type": "code",
   "execution_count": 28,
   "metadata": {},
   "outputs": [
    {
     "name": "stdout",
     "output_type": "stream",
     "text": [
      "('a', 'b', 'c', 'd') ('a', 'b', 'c', 'd') ('a',)\n"
     ]
    }
   ],
   "source": [
    "# Creació\n",
    "tupla1= 'a', 'b', 'c', 'd'\n",
    "tupla2= ('a', 'b', 'c', 'd')\n",
    "tupla3=('a', )\n",
    "print(tupla1,tupla2,tupla3)"
   ]
  },
  {
   "cell_type": "code",
   "execution_count": 29,
   "metadata": {},
   "outputs": [
    {
     "name": "stdout",
     "output_type": "stream",
     "text": [
      "a\n",
      "('b', 'c')\n",
      "* Conversió de llista a tupla\n",
      "[1, 2, 3]\n",
      "(1, 2, 3)\n",
      "* Conversió de tupla a llista\n",
      "(1, 2, 3)\n",
      "[1, 2, 3]\n"
     ]
    }
   ],
   "source": [
    "# Consulta\n",
    "print(tupla1[0])\n",
    "print(tupla2[1:3])\n",
    "# La resta d'operacions són també similars a les llistes\n",
    "print(\"* Conversió de llista a tupla\")\n",
    "# per convertir una llista en una tupla usem \"tuple\"\n",
    "llista = [1, 2, 3]\n",
    "print(llista)\n",
    "t = tuple(llista)\n",
    "print(t)\n",
    "print(\"* Conversió de tupla a llista\")\n",
    "# per convertir una tupla en una llista usem \"list\"\n",
    "tupla = (1,2,3)\n",
    "print(tupla)\n",
    "l = list(tupla)\n",
    "print(l)"
   ]
  },
  {
   "cell_type": "code",
   "execution_count": null,
   "metadata": {
    "scrolled": true
   },
   "outputs": [],
   "source": [
    "# Però atenció, no és possible fer:\n",
    "tupla5 = (1, 2, 3)\n",
    "tupla5[1] = 7  #les tuples són immutables"
   ]
  },
  {
   "cell_type": "markdown",
   "metadata": {},
   "source": [
    "### <span class=\"exercici\">Exercici 3:  Fes les operacions necessàries per crear les tuples (2,4), (3,5) i després convertir-les a llistes.</span>"
   ]
  },
  {
   "cell_type": "markdown",
   "metadata": {},
   "source": [
    "### <span class=\"exercici\">Exercici 4:  Fes un programa que vagi demanant nombres fins a que l'usuari entri 99 i després els mostri com una tupla.</span>"
   ]
  },
  {
   "cell_type": "markdown",
   "metadata": {},
   "source": [
    "### Col.lecció *diccionari*"
   ]
  },
  {
   "cell_type": "code",
   "execution_count": 15,
   "metadata": {},
   "outputs": [
    {
     "name": "stdout",
     "output_type": "stream",
     "text": [
      "{}\n",
      "{'clau1': 1, 3: 4}\n"
     ]
    }
   ],
   "source": [
    "# Inicialització de la col.lecció diccionari\n",
    "dicc1 = {}\n",
    "dicc2 = {\"clau1\": 1, 3: 4}  #inicialitzem amb dues parelles clau-valor clau1-1  i 3-4 (el 3 actua de clau)\n",
    "\n",
    "print(dicc1)\n",
    "print(dicc2)"
   ]
  },
  {
   "cell_type": "code",
   "execution_count": 16,
   "metadata": {},
   "outputs": [
    {
     "name": "stdout",
     "output_type": "stream",
     "text": [
      "1\n",
      "3\n",
      "dict_items([('clau1', 1), ('clau2', 2), ('clau3', 3)])\n",
      "dict_keys(['clau1', 'clau2', 'clau3'])\n",
      "dict_values([1, 2, 3])\n",
      "True\n"
     ]
    }
   ],
   "source": [
    "# Consultar valors a la col.lecció diccionari\n",
    "diccionari={\"clau1\": 1, \"clau2\": 2, \"clau3\": 3}\n",
    "print(diccionari[\"clau1\"])\n",
    "print(diccionari[\"clau3\"])\n",
    "print(diccionari.items())     # totes les parelles clau-valor\n",
    "print(diccionari.keys())      # totes les claus\n",
    "print(diccionari.values())    # tots els valors\n",
    "print(\"clau2\" in diccionari)  #verifica si clau2 és una clau"
   ]
  },
  {
   "cell_type": "code",
   "execution_count": 17,
   "metadata": {},
   "outputs": [
    {
     "name": "stdout",
     "output_type": "stream",
     "text": [
      "{'clau1': 1, 'clau2': 2, 'clau3': 3}\n"
     ]
    }
   ],
   "source": [
    "# Partint d'aquest diccionari, veurem les operacions bàsiques\n",
    "diccionari = {\"clau1\": 1, \"clau2\": 2, \"clau3\": 3}\n",
    "print(diccionari)"
   ]
  },
  {
   "cell_type": "code",
   "execution_count": 18,
   "metadata": {},
   "outputs": [
    {
     "name": "stdout",
     "output_type": "stream",
     "text": [
      "{'clau1': 1, 'clau2': 2, 'clau3': 3, 'clau_nova': 9}\n"
     ]
    }
   ],
   "source": [
    "# Afegir\n",
    "diccionari[\"clau_nova\"] = 9  # afegim una parella clau-valor\n",
    "print(diccionari)"
   ]
  },
  {
   "cell_type": "code",
   "execution_count": 19,
   "metadata": {},
   "outputs": [
    {
     "name": "stdout",
     "output_type": "stream",
     "text": [
      "{'clau1': 1, 'clau2': 5, 'clau3': 3, 'clau_nova': 9}\n"
     ]
    }
   ],
   "source": [
    "# Modificar\n",
    "diccionari[\"clau2\"] = 5  # canviem el valor d'una clau existent\n",
    "print(diccionari)"
   ]
  },
  {
   "cell_type": "code",
   "execution_count": 20,
   "metadata": {},
   "outputs": [
    {
     "name": "stdout",
     "output_type": "stream",
     "text": [
      "{'clau1': 1, 'clau2': 5, 'clau_nova': 9}\n"
     ]
    }
   ],
   "source": [
    "# Esborrar\n",
    "del diccionari[\"clau3\"]  # esborrem una parella clau-valor existent\n",
    "print(diccionari)"
   ]
  },
  {
   "cell_type": "code",
   "execution_count": 21,
   "metadata": {},
   "outputs": [
    {
     "name": "stdout",
     "output_type": "stream",
     "text": [
      "{}\n"
     ]
    }
   ],
   "source": [
    "# Esborrar tots els valors\n",
    "diccionari.clear()  # esborrem tots els valors\n",
    "print(diccionari)"
   ]
  },
  {
   "cell_type": "markdown",
   "metadata": {},
   "source": [
    "### <span class=\"exercici\">Exercici 5:  Crea un diccionari amb les equivalències dels símbols de moneda d'Estats Units, Europa i Japó i el seu nom complet. (Atenció: a Windows el símbol del Yen es pot introduir amb la combinació de tecles Alt + 0165)</span>"
   ]
  },
  {
   "cell_type": "markdown",
   "metadata": {},
   "source": [
    "### <span class=\"exercici\">Exercici 6:  Crea un programa que quan l'usuari entri una quantitat de diners amb un símbol la tradueixi al nom complet. Usa el diccionari creat anteriorment.</span>"
   ]
  },
  {
   "cell_type": "markdown",
   "metadata": {},
   "source": [
    "## Complexitat de les operacions\n",
    "\n",
    "Aquest contingut es troba duplicat al Notebook de complexitat. Es posa aquí per simplicitat.\n",
    "\n",
    "El cost de moltes operacions en les col·leccions és n, essent n el nombre d'elements de la llista."
   ]
  },
  {
   "cell_type": "markdown",
   "metadata": {},
   "source": [
    "### Col.lecció llista i tupla\n",
    "\n",
    "Cal tenir en compte que tot i que l'ordre de complexitat sigui equivalent en àmdues col.leccions, la complexitat real és molt menor en les tuples.\n",
    "\n",
    "|Complexitat | Operació|\n",
    "|------------|---------|\n",
    "| O(n) | inicialització|\n",
    "| O(n) | print |\n",
    "| O(1) | consulta [] |\n",
    "| O(1) | .append |\n",
    "| O(n) | .insert  | \n",
    "| O(n+m) | concatenació amb + |\n",
    "| O(n) | slicing |\n",
    "| O(log n) | .sort |\n",
    "| O(n) | .reverse |\n",
    "| O(n) | .count |\n",
    "| O(1) | len |\n",
    "| O(n) | x in llista |\n",
    "\n",
    "(*) amb insert # cal desplaçar tots els altres elements a la dreta\n",
    "\n",
    "### Col.lecció diccionari\n",
    "\n",
    "|Complexitat | Operació|\n",
    "|------------|---------| \n",
    "| O(n) | inicialització |\n",
    "| O(n) | print |\n",
    "| O(1) | consulta [clau] |\n",
    "| O(n) | .keys |\n",
    "| O(n) | .values |\n",
    "| O(1) | x in dicc |\n",
    "| O(1) | afegir  |\n",
    "| O(1) | esborrar |\n",
    "| O(1) | modificar |\n",
    "| O(n) | buidar |"
   ]
  },
  {
   "cell_type": "code",
   "execution_count": 1,
   "metadata": {},
   "outputs": [
    {
     "data": {
      "text/html": [
       "<style><style>\n",
       "\n",
       "@import url('http://fonts.googleapis.com/css?family=Source+Code+Pro');\n",
       "@import url('http://fonts.googleapis.com/css?family=Lora');\n",
       "\n",
       "/*   adapted from https://github.com/edwardtufte/et-book/blob/gh-pages/et-book.css */\n",
       "\n",
       "@charset \"UTF-8\";\n",
       "\n",
       "@font-face {\n",
       "  font-family: \"et-book\";\n",
       "  src: url(\"et-book/roman-line-figures.ttf\") format(\"truetype\");\n",
       "  font-weight: normal;\n",
       "  font-style: normal\n",
       "}\n",
       "\n",
       "@font-face {\n",
       "  font-family: \"et-book\";\n",
       "  src: url(\"et-book/display-italic-old-style-figures.ttf\") format(\"truetype\");\n",
       "  font-weight: normal;\n",
       "  font-style: italic\n",
       "}\n",
       "\n",
       "@font-face {\n",
       "  font-family: \"et-book\";\n",
       "  src: url(\"et-book/bold-line-figures.ttf\") format(\"truetype\");\n",
       "  font-weight: bold;\n",
       "  font-style: normal\n",
       "}\n",
       "\n",
       "@font-face {\n",
       "  font-family: \"et-book-roman-old-style\";\n",
       "  src: url(\"et-book/roman-old-style-figures.ttf\") format(\"truetype\");\n",
       "  font-weight: normal;\n",
       "  font-style: normal;\n",
       "}\n",
       "\n",
       "html {\n",
       "       font-size: 15px !important;\n",
       "}\n",
       "\n",
       ".tema, h1 span { font-size: 14pt;\n",
       "\tfont-style: italic;\n",
       "\tfont-weight: 100;}\n",
       "\n",
       "#capcalera {\tfont-family:Arial;\n",
       "\t\tfont-size:12pt;\n",
       "\t\tbackground-color:#fff1f1;\n",
       "\t\tpadding:5px;\n",
       "\t\t}\n",
       "#peu {\tfont-family:Arial;\n",
       "\tfont-size:12pt;\n",
       "\tbackground-color:#fff1f1;\n",
       "\tpadding:2px;\n",
       "\tline-height:1}\n",
       "\n",
       ".exercici {color:#a60d0d;\n",
       "\t   /* border-width:0 0 2px 2px !important;\n",
       "\t   border-style:solid !important;\n",
       "\t   border-color:#5e3333 !important; */ }\n",
       "\n",
       ".explicacio {}\n",
       "\n",
       ".avaluacio {}\n",
       "\n",
       "\n",
       "#notebook-container, .notebook_cell_list {\n",
       "       font-size: 1rem !important;\n",
       "       line-height: 1.5 !important;\n",
       "       width: 100%  !important;\n",
       "       margin-left: auto !important;\n",
       "       margin-right: auto !important;\n",
       "       padding-left: 12.5% !important;\n",
       "       font-family: et-book, Palatino, \"Palatino Linotype\", \"Palatino LT STD\", \"Book Antiqua\", Georgia, serif  !important;\n",
       "       background-color: #fffff8 !important;\n",
       "       color: #111 !important;\n",
       "       max-width: 1400px !important; }\n",
       "\n",
       " .rendered .input_prompt {\n",
       "\t min-width:0 !important; } \n",
       "\n",
       ".text_cell_render h1, .markdown h1 { \n",
       "     font-weight: 400;\n",
       "     font-style: normal;\n",
       "     margin-top: 0rem;\n",
       "     margin-bottom: 0rem;\n",
       "     font-size: 2rem; }\n",
       "\n",
       " .text_cell_render h2 { font-style: italic;\n",
       "     font-weight: 400;\n",
       "     font-size: 1.5rem;\n",
       "     margin-top: 1.5rem;\n",
       "     margin-bottom: 1.5em; }\n",
       "\n",
       " .text_cell_render h3 { font-style: italic;\n",
       "             font-weight: 400;\n",
       "             margin-top: 1rem;\n",
       "             margin-bottom: 1rem;\n",
       "             font-size: 1.2rem;\n",
       "             display: block; }\n",
       "\n",
       " .text_cell_render h4 {\n",
       "    font-size: 1.1rem;\n",
       "    font-weight: 400;\n",
       "    margin: 1rem auto; }\n",
       "\n",
       ".rendered_html p { \n",
       "\tfont-size: 1rem !important; \n",
       "    \tmargin-top: 1rem !important;;\n",
       "    \tmargin-bottom: 1rem !important;;\n",
       "    \tpadding-right: 0 !important;;\n",
       "    \tvertical-align: baseline !important;; }\n",
       "\n",
       ".rendered_html blockquote { font-size: 1.1rem !important;}\n",
       "\n",
       ".rendered_html ol, ul { width: 75% !important;; }\n",
       "\n",
       ".rendered_html li { padding: 0.5rem 0 !important;; }\n",
       "\n",
       ".rendered_html table {\n",
       "  border-top: 2px solid #111 !important;\n",
       "  border-bottom: 2px solid #111 !important;\n",
       "  font-size: 0.8rem !important;\n",
       "}\n",
       "\n",
       ".rendered_html th {\n",
       "  border-bottom: 1px solid #111 !important;\n",
       "}\n",
       "\t \n",
       ".rendered_html a { text-decoration: none !important;\n",
       "         background: linear-gradient(#fffff8, #fffff8), linear-gradient(#fffff8, #fffff8), linear-gradient(#333, #333);\n",
       "         background-size: 0.05em 1px, 0.05em 1px, 1px 1px;\n",
       "         background-repeat: no-repeat, no-repeat, repeat-x;\n",
       "         text-shadow: 0.03em 0 #fffff8, -0.03em 0 #fffff8, 0 0.03em #fffff8, 0 -0.03em #fffff8, 0.06em 0 #fffff8, -0.06em 0 #fffff8, 0.09em 0 #fffff8, -0.09em 0 #fffff8, 0.12em 0 #fffff8, -0.12em 0 #fffff8, 0.15em 0 #fffff8, -0.15em 0 #fffff8;\n",
       "         background-position: 0% 93%, 100% 93%, 0% 93%; }\n",
       "\n",
       ".rendered_html a:link::selection { text-shadow: 0.03em 0 #b4d5fe, -0.03em 0 #b4d5fe, 0 0.03em #b4d5fe, 0 -0.03em #b4d5fe, 0.06em 0 #b4d5fe, -0.06em 0 #b4d5fe, 0.09em 0 #b4d5fe, -0.09em 0 #b4d5fe, 0.12em 0 #b4d5fe, -0.12em 0 #b4d5fe, 0.15em 0 #b4d5fe, -0.15em 0 #b4d5fe;\n",
       "                    background: #b4d5fe; }\n",
       " \n",
       ".rendered_html pre { \n",
       "\tborder:1px solid #cccccc !important; }\n",
       "\n",
       ".rendered_html * code { \n",
       "\tfont-size: 1rem !important;\n",
       "        line-height: 1.5 !important;\n",
       "\tfont-family: Consolas, \"Liberation Mono\", Menlo, Courier, monospace !important;\n",
       "\tbackground-color: #fff !important }\n",
       "</style> \n",
       "<script>\n",
       "    MathJax.Hub.Config({\n",
       "                        TeX: {\n",
       "                           extensions: [\"AMSmath.js\"],\n",
       "                           equationNumbers: { autoNumber: \"AMS\", useLabelIds: true}\n",
       "                           },\n",
       "                tex2jax: {\n",
       "                    inlineMath: [ ['$','$'], [\"\\\\(\",\"\\\\)\"] ],\n",
       "                    displayMath: [ ['$$','$$'], [\"\\\\[\",\"\\\\]\"] ]\n",
       "                },\n",
       "                displayAlign: 'center', // Change this to 'center' to center equations.\n",
       "                \"HTML-CSS\": {\n",
       "                    scale: 95,\n",
       "                        availableFonts: [],\n",
       "                        preferredFont:null,\n",
       "                        webFont: \"TeX\",\n",
       "                    styles: {'.MathJax_Display': {\"margin\": 4}}\n",
       "                },\n",
       "                 \"fast-preview\": {\n",
       "                    \"disabled\": false\n",
       "                }\n",
       "        });\n",
       "</script>\n",
       "</style>"
      ],
      "text/plain": [
       "<IPython.core.display.HTML object>"
      ]
     },
     "execution_count": 1,
     "metadata": {},
     "output_type": "execute_result"
    }
   ],
   "source": [
    "# Executar aquesta cel.la per donar estil al notebook\n",
    "from IPython.core.display import HTML\n",
    "import requests\n",
    "style=requests.get('https://raw.githubusercontent.com/MireiaUB/algorismica2019.github.io/patch-1/prova.css').text\n",
    "HTML('<style>{}</style>'.format(style))"
   ]
  },
  {
   "cell_type": "markdown",
   "metadata": {},
   "source": [
    "<div id=\"peu\">\n",
    "<p><a href=\"https://colab.research.google.com/github/algorismica2019/algorismica2019.github.io/blob/master/problemes/Colleccions.ipynb\"><img style=\"margin:-10px 10px 20px 0\" width=\"150px\" align=\"right\" src=\"https://raw.githubusercontent.com/algorismica2019/algorismica2019.github.io/master/problemes/assets/colab-badge.png?raw=1\" alt=\"Obrir a Colab\" title=\"Obrir i executar a Google Colaboratory\"></a></p>\n",
    "    \n",
    "<p style=\"clear:both;text-align:center\">&lt; <a href=\"Variables.ipynb\">Variables</a> | <a href=\"Teoria.ipynb\">Explicacions teòriques</a> | <a href=\"LListatProblemes.ipynb\">LListat de problemes</a> | <a href=\"Booleans.ipynb\">Booleans</a> &gt; </p>\n",
    "</div>"
   ]
  }
 ],
 "metadata": {
  "kernelspec": {
   "display_name": "Python 3",
   "language": "python",
   "name": "python3"
  },
  "language_info": {
   "codemirror_mode": {
    "name": "ipython",
    "version": 3
   },
   "file_extension": ".py",
   "mimetype": "text/x-python",
   "name": "python",
   "nbconvert_exporter": "python",
   "pygments_lexer": "ipython3",
   "version": "3.7.3"
  }
 },
 "nbformat": 4,
 "nbformat_minor": 1
}
