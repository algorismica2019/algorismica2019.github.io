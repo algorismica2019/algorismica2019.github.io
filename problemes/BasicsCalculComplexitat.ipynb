{
 "cells": [
  {
   "cell_type": "markdown",
   "metadata": {},
   "source": [
    "\n",
    "<div id=\"capcalera\">\n",
    "<p><a href=\"https://colab.research.google.com/github/algorismica2019/algorismica2019.github.io/blob/master/problemes/BasicsCalculComplexitat.ipynb\"><img style=\"margin:-10px 10px 20px 0\" width=\"150px\" align=\"right\" src=\"https://raw.githubusercontent.com/algorismica2019/algorismica2019.github.io/master/problemes/assets/colab-badge.png?raw=1\" alt=\"Obrir a Colab\" title=\"Obrir i executar a Google Colaboratory\"></a></p>\n",
    "<p style=\"clear:both\"><img align='left' width=\"300px\" style=\"padding-right:10px;float=left\" src=\"https://raw.githubusercontent.com/algorismica2019/algorismica2019.github.io/master/problemes/assets/al-khwarizmi.png\">Aquest notebook forma part dels continguts teòrics dels problemes de l'assignatura d'<strong>Algorísmica</strong> deL Grau d'Enginyeria Informàtica a la <a href=\"https://mat.ub.edu\">Facultat de Matemàtiques i Informàtica</a> de la <a href=\"https://www.ub.edu\">Universitat de Barcelona</a> impartida per <em>Jordi Vitrià</em> i <em>Mireia Ribera</em></p>\n",
    "\n",
    "<p>Els problemes s'ofereixen sota llicència <a href=\"https://creativecommons.org/licenses/by-nc-nd/3.0/us/legalcode\">CC-BY-NC-ND license</a>, i el codi sota <a href=\"https://opensource.org/licenses/MIT\">Llicència MIT</a>.</p>\n",
    "\n",
    "<p style=\"clear:both;text-align:center\">&lt; <a href=\"BasicsFitxers.ipynb\">Bàsics Fitxers</a>| <a href=\"Basics.ipynb\">Problemes Bàsics de Python</a> | <a href=\"LListatProblemes.ipynb\">LListat de problemes general</a> | <a href=\"BasicsCercaAmbHash\">Cerca amb Hash</a> &gt; </p>\n",
    "\n",
    "</div>"
   ]
  },
  {
   "cell_type": "markdown",
   "metadata": {},
   "source": [
    "# <span class=\"tema\">(Bàsics Python)</span> Càlcul Complexitat"
   ]
  },
  {
   "cell_type": "markdown",
   "metadata": {},
   "source": [
    "En aquest notebook es plantegen diversos exercicis i la seva solució. L'exercici consisteix a fer el càlcul de la complexitat. S'anima a intentar fer el càlcul, i només després mirar les solucions.\n",
    "\n",
    "Les solucions de codi d'aquest notebook poden no ser òptimes, s'han triat només per criteris pedagògics i de demostració del càlcul de la complexitat. \n",
    "\n",
    "Les solucions a aquests exercicis són al fitxer [SolucionsCalculComplexitat](BasicsCalculComplexitat-Solucio.ipynb)"
   ]
  },
  {
   "cell_type": "markdown",
   "metadata": {},
   "source": [
    "<p class=\"exercici\">Exercici 1: Ordre invers. Tenim una llista ordenada (no necessàriament amb un ordre natural) de mida $n$. El que volem ara és donar-li la volta, és a dir, tenir l'ordre invers.</p>"
   ]
  },
  {
   "cell_type": "code",
   "execution_count": 23,
   "metadata": {},
   "outputs": [],
   "source": [
    "def reverse_order(arr):\n",
    "    size = len(arr)\n",
    "    if(size == 1):\n",
    "        return arr\n",
    "    elif(size == 2):\n",
    "        listAux = [arr[1], arr[0]]\n",
    "        return listAux\n",
    "    else:\n",
    "        leftArr = arr[:size // 2]\n",
    "        rightArr = arr[size // 2:]\n",
    "        revLeftArr = reverse_order(leftArr)\n",
    "        revRightArr = reverse_order(rightArr)\n",
    "        return revRightArr + revLeftArr"
   ]
  },
  {
   "cell_type": "code",
   "execution_count": 24,
   "metadata": {},
   "outputs": [
    {
     "data": {
      "text/plain": [
       "[8, 7, 6, 5, 4, 3, 2, 1]"
      ]
     },
     "execution_count": 24,
     "metadata": {},
     "output_type": "execute_result"
    }
   ],
   "source": [
    "reverse_order([1, 2, 3, 4, 5, 6, 7, 8])"
   ]
  },
  {
   "cell_type": "code",
   "execution_count": 25,
   "metadata": {},
   "outputs": [
    {
     "data": {
      "text/plain": [
       "[65, 45, 15, 12, 7, 6, 4, 3, 1]"
      ]
     },
     "execution_count": 25,
     "metadata": {},
     "output_type": "execute_result"
    }
   ],
   "source": [
    "reverse_order([1, 3, 4, 6, 7, 12, 15, 45, 65])"
   ]
  },
  {
   "cell_type": "code",
   "execution_count": 26,
   "metadata": {},
   "outputs": [
    {
     "data": {
      "text/plain": [
       "['fish', 'dog', 'cat']"
      ]
     },
     "execution_count": 26,
     "metadata": {},
     "output_type": "execute_result"
    }
   ],
   "source": [
    "reverse_order([\"cat\", \"dog\", \"fish\"])"
   ]
  },
  {
   "cell_type": "markdown",
   "metadata": {},
   "source": [
    "<p class=\"exercici\">Exercici 2: Teorema màster. Suposem algorismes la complexitat dels quals podem escriure com:\n",
    "\n",
    "1. $T(n)=3T(n/3)+\\sqrt{n}$\n",
    "2. $T(n)=3T(n/2)+n^2$\n",
    "3. $T(n)=4T(n/2)+n^2$\n",
    "\n",
    "Calcula la seva complexitat mitjançant el teorema Master</p>"
   ]
  },
  {
   "cell_type": "markdown",
   "metadata": {},
   "source": [
    "<p class=\"exercici\">Exercici 3: Norma en el infinit. Definim la norma a l'infinit d'una matriu $A$ cuadrada $nxn$ com: \n",
    "$$\\Vert{A}\\Vert_{\\infty}=max_{1\\leq{j}\\leq{n}}{\\sum_{k=1}^n}{|A_{j,k}|}$$</p>"
   ]
  },
  {
   "cell_type": "code",
   "execution_count": 27,
   "metadata": {},
   "outputs": [],
   "source": [
    "import math\n",
    "def infinity_norm(A):\n",
    "    inf_norm = 0\n",
    "    for j in range(len(A)):\n",
    "        row_sum = 0\n",
    "        for k in range(len(A[j])):\n",
    "            row_sum += abs(A[j][k])\n",
    "        if(inf_norm < row_sum):\n",
    "            inf_norm = row_sum\n",
    "    return inf_norm"
   ]
  },
  {
   "cell_type": "code",
   "execution_count": 28,
   "metadata": {},
   "outputs": [
    {
     "data": {
      "text/plain": [
       "9"
      ]
     },
     "execution_count": 28,
     "metadata": {},
     "output_type": "execute_result"
    }
   ],
   "source": [
    "infinity_norm([[3, 2, 1],\n",
    "               [1, 4, -4],\n",
    "               [-2, -4, -1]])"
   ]
  },
  {
   "cell_type": "code",
   "execution_count": 29,
   "metadata": {},
   "outputs": [
    {
     "data": {
      "text/plain": [
       "0"
      ]
     },
     "execution_count": 29,
     "metadata": {},
     "output_type": "execute_result"
    }
   ],
   "source": [
    "infinity_norm([[0, 0, 0],\n",
    "               [0, 0, 0],\n",
    "               [0, 0, 0]])"
   ]
  },
  {
   "cell_type": "markdown",
   "metadata": {},
   "source": [
    "<p class=\"exercici\">Exercici 4: La jugada de Bernoulli. En aquest problema tirarem una moneda $n$ cops. Suposarem que una moneda només pot treure cara (C) o creu (X). Volem saber totes les situacions possibles quan tirem la moneda els $n$ cops. Per exemple, per a $n=2$ les possibilitats són $(C,C), (C,X), (X,C), (X,X)$</p>"
   ]
  },
  {
   "cell_type": "code",
   "execution_count": 30,
   "metadata": {},
   "outputs": [],
   "source": [
    "def bernoulli_possibilities(n):\n",
    "    import itertools\n",
    "    a = list(set(itertools.product((\"X\", \"C\"), repeat = n)))\n",
    "    return(a)"
   ]
  },
  {
   "cell_type": "code",
   "execution_count": 31,
   "metadata": {},
   "outputs": [
    {
     "data": {
      "text/plain": [
       "[('X', 'C', 'C'),\n",
       " ('C', 'X', 'C'),\n",
       " ('C', 'X', 'X'),\n",
       " ('C', 'C', 'C'),\n",
       " ('C', 'C', 'X'),\n",
       " ('X', 'C', 'X'),\n",
       " ('X', 'X', 'X'),\n",
       " ('X', 'X', 'C')]"
      ]
     },
     "execution_count": 31,
     "metadata": {},
     "output_type": "execute_result"
    }
   ],
   "source": [
    "bernoulli_possibilities(3)"
   ]
  },
  {
   "cell_type": "code",
   "execution_count": 32,
   "metadata": {},
   "outputs": [
    {
     "data": {
      "text/plain": [
       "[('C', 'X', 'C', 'C'),\n",
       " ('C', 'C', 'X', 'C'),\n",
       " ('X', 'X', 'X', 'X'),\n",
       " ('X', 'C', 'C', 'X'),\n",
       " ('X', 'X', 'X', 'C'),\n",
       " ('X', 'C', 'C', 'C'),\n",
       " ('C', 'X', 'C', 'X'),\n",
       " ('C', 'C', 'X', 'X'),\n",
       " ('C', 'X', 'X', 'X'),\n",
       " ('C', 'C', 'C', 'X'),\n",
       " ('X', 'X', 'C', 'C'),\n",
       " ('X', 'C', 'X', 'C'),\n",
       " ('X', 'C', 'X', 'X'),\n",
       " ('X', 'X', 'C', 'X'),\n",
       " ('C', 'X', 'X', 'C'),\n",
       " ('C', 'C', 'C', 'C')]"
      ]
     },
     "execution_count": 32,
     "metadata": {},
     "output_type": "execute_result"
    }
   ],
   "source": [
    "bernoulli_possibilities(4)"
   ]
  },
  {
   "cell_type": "markdown",
   "metadata": {},
   "source": [
    "<p class=\"exercici\">Exercici 5: Residus quadràtics. Volem trobar els elements $r$ tal que $x^2 = r \\ (mod \\ m)$</p>"
   ]
  },
  {
   "cell_type": "code",
   "execution_count": 33,
   "metadata": {},
   "outputs": [],
   "source": [
    "def quadratic_residue(m):\n",
    "    q_residues = set()\n",
    "    for x in range(m):\n",
    "        r = (x ** 2) % m\n",
    "        if(r is not 0):\n",
    "            q_residues.add(r)\n",
    "    return q_residues"
   ]
  },
  {
   "cell_type": "code",
   "execution_count": 34,
   "metadata": {},
   "outputs": [
    {
     "data": {
      "text/plain": [
       "{1, 4, 6, 9, 10}"
      ]
     },
     "execution_count": 34,
     "metadata": {},
     "output_type": "execute_result"
    }
   ],
   "source": [
    "quadratic_residue(15)"
   ]
  },
  {
   "cell_type": "markdown",
   "metadata": {},
   "source": [
    "perque 1 mod 15 = 1 i 1 = 1^2; perque 25 mod 15 = 10 i 25 = 5^2; perque 64 mod 15 = 4 i 64 = 8^2 etc.\n",
    "\n",
    "Considerem que treballem amb nombres petits, i per tant les operacions de comparació i aritmètiques tenen un cost de $\\mathcal{O}(1)$"
   ]
  },
  {
   "cell_type": "markdown",
   "metadata": {},
   "source": [
    "<p class=\"exercici\">Exercici 6: Fusió de llistes. Donades dues llistes $A, B$ de mida $n$ i $m$ respectivament llistes volem fusionar-les sense alterar la llista inicial. Una manera de fer-ho és la següent:</p>"
   ]
  },
  {
   "cell_type": "code",
   "execution_count": 35,
   "metadata": {},
   "outputs": [],
   "source": [
    "def fusio(A, B):\n",
    "    novaA = A[:]\n",
    "    for i in range(len(B)):\n",
    "        novaA.append(B[i])\n",
    "    return novaA"
   ]
  },
  {
   "cell_type": "code",
   "execution_count": 36,
   "metadata": {},
   "outputs": [
    {
     "name": "stdout",
     "output_type": "stream",
     "text": [
      "[1, 3, 5, 4, 3, 2, 1, 1]\n",
      "[1, 3, 5, 4]\n",
      "[3, 2, 1, 1]\n"
     ]
    }
   ],
   "source": [
    "A = [1, 3, 5, 4]\n",
    "B = [3, 2, 1, 1]\n",
    "print(fusio(A, B))\n",
    "print(A)\n",
    "print(B)"
   ]
  },
  {
   "cell_type": "markdown",
   "metadata": {},
   "source": [
    "<p class=\"exercici\">Exercici 7: Eliminar duplicats. Suposem que tenim una llista amb $n$ elements $[a_1,a_2,...,a_n]$. Volem generar una nova llista amb el mateix ordre però amb només una còpia de cada element: la primera que surt a la llista. Un algorisme per fer açò és:</p>"
   ]
  },
  {
   "cell_type": "code",
   "execution_count": 37,
   "metadata": {},
   "outputs": [],
   "source": [
    "def delete_duplicates(A):\n",
    "    idx = 0\n",
    "    newList = []\n",
    "    while(idx<len(A)):\n",
    "        actual_elem = A[idx]\n",
    "        \n",
    "        if(actual_elem != 'repetit'):\n",
    "            newList.append(actual_elem)\n",
    "            for idx2 in range(idx+1, len(A)):\n",
    "                if(A[idx2] == actual_elem):\n",
    "                    A[idx2] = 'repetit'\n",
    "        idx+=1\n",
    "    return newList"
   ]
  },
  {
   "cell_type": "code",
   "execution_count": 38,
   "metadata": {},
   "outputs": [
    {
     "data": {
      "text/plain": [
       "[1, 2, 3, 4, 5, 6, 7, 9]"
      ]
     },
     "execution_count": 38,
     "metadata": {},
     "output_type": "execute_result"
    }
   ],
   "source": [
    "delete_duplicates([1, 1, 2, 3, 4, 5, 6, 7, 5, 2, 9])"
   ]
  },
  {
   "cell_type": "markdown",
   "metadata": {},
   "source": [
    "<p class=\"exercici\">Exercici 8: Producte dels $log(n)$ primers nombres. Donat un n real volem saber quin és el producte dels enters des d'1 fins a l'enter més gran més petit que $log(n)$</p>"
   ]
  },
  {
   "cell_type": "code",
   "execution_count": 39,
   "metadata": {},
   "outputs": [],
   "source": [
    "from math import log\n",
    "def multiplication(n):\n",
    "    condition = False\n",
    "    i = 1\n",
    "    product = 1\n",
    "    while(not condition):\n",
    "        product *= i\n",
    "        i += 1\n",
    "        if(i >= log(n)):\n",
    "            condition = True\n",
    "    return product"
   ]
  },
  {
   "cell_type": "code",
   "execution_count": 40,
   "metadata": {},
   "outputs": [
    {
     "data": {
      "text/plain": [
       "24"
      ]
     },
     "execution_count": 40,
     "metadata": {},
     "output_type": "execute_result"
    }
   ],
   "source": [
    "multiplication(120)"
   ]
  },
  {
   "cell_type": "markdown",
   "metadata": {},
   "source": [
    "<p class=\"exercici\">Exercici 9: Comprovar si un nombre és primer. Sigui $n$ un nombre, volem saber si és primer o no. Per fer-ho només necessitem saber si te algún divisor menor que $\\sqrt{n}$. Si no en té no serà primer.</p>"
   ]
  },
  {
   "cell_type": "code",
   "execution_count": 41,
   "metadata": {},
   "outputs": [],
   "source": [
    "from math import sqrt\n",
    "def check_prime_number(n):\n",
    "    prime = True\n",
    "    sqrtn = int(sqrt(n))\n",
    "    i = 2\n",
    "    while i <= sqrtn:\n",
    "        if(n % i == 0):\n",
    "            prime = False\n",
    "        i += 1\n",
    "    return prime"
   ]
  },
  {
   "cell_type": "markdown",
   "metadata": {},
   "source": [
    "<p class=\"exercici\">Exercici 10: Llista de repeticions. Volem saber quants cops surt cada nombre si fem totes les multiplicacions possibles d'1 fins a $n$ tres cops, és a dir, el següent algorisme:</p>"
   ]
  },
  {
   "cell_type": "code",
   "execution_count": 42,
   "metadata": {},
   "outputs": [],
   "source": [
    "def count_repetitions(n):\n",
    "    dict_of_reps = {}\n",
    "    for i in range(1, n+1):\n",
    "        for j in range(1, n+1):\n",
    "            for k in range(1, n+1):\n",
    "                if (i * j * k) not in dict_of_reps:\n",
    "                    dict_of_reps[(i * j * k)] = 1\n",
    "                else:\n",
    "                    dict_of_reps[(i * j * k)] += 1\n",
    "    return dict_of_reps"
   ]
  },
  {
   "cell_type": "markdown",
   "metadata": {},
   "source": [
    "Retorna només els nombres que surten com a key i el nombre de cops com a value."
   ]
  },
  {
   "cell_type": "code",
   "execution_count": 43,
   "metadata": {},
   "outputs": [
    {
     "data": {
      "text/plain": [
       "{1: 1, 2: 3, 4: 3, 8: 1}"
      ]
     },
     "execution_count": 43,
     "metadata": {},
     "output_type": "execute_result"
    }
   ],
   "source": [
    "count_repetitions(2)"
   ]
  },
  {
   "cell_type": "markdown",
   "metadata": {},
   "source": [
    "## Referències\n",
    "\n",
    "Aquests problemes i els càlculs han estat creats per Rubén Ballester, auxiliar docent del curs 2018-2019"
   ]
  },
  {
   "cell_type": "code",
   "execution_count": 1,
   "metadata": {},
   "outputs": [
    {
     "data": {
      "text/html": [
       "<style><style>\n",
       "\n",
       "@import url('http://fonts.googleapis.com/css?family=Source+Code+Pro');\n",
       "@import url('http://fonts.googleapis.com/css?family=Lora');\n",
       "\n",
       "/*   adapted from https://github.com/edwardtufte/et-book/blob/gh-pages/et-book.css */\n",
       "\n",
       "@charset \"UTF-8\";\n",
       "\n",
       "@font-face {\n",
       "  font-family: \"et-book\";\n",
       "  src: url(\"et-book/roman-line-figures.ttf\") format(\"truetype\");\n",
       "  font-weight: normal;\n",
       "  font-style: normal\n",
       "}\n",
       "\n",
       "@font-face {\n",
       "  font-family: \"et-book\";\n",
       "  src: url(\"et-book/display-italic-old-style-figures.ttf\") format(\"truetype\");\n",
       "  font-weight: normal;\n",
       "  font-style: italic\n",
       "}\n",
       "\n",
       "@font-face {\n",
       "  font-family: \"et-book\";\n",
       "  src: url(\"et-book/bold-line-figures.ttf\") format(\"truetype\");\n",
       "  font-weight: bold;\n",
       "  font-style: normal\n",
       "}\n",
       "\n",
       "@font-face {\n",
       "  font-family: \"et-book-roman-old-style\";\n",
       "  src: url(\"et-book/roman-old-style-figures.ttf\") format(\"truetype\");\n",
       "  font-weight: normal;\n",
       "  font-style: normal;\n",
       "}\n",
       "\n",
       "html {\n",
       "       font-size: 15px !important;\n",
       "}\n",
       "\n",
       ".tema, h1 span { font-size: 14pt;\n",
       "\tfont-style: italic;\n",
       "\tfont-weight: 100;}\n",
       "\n",
       "#capcalera {\tfont-family:Arial;\n",
       "\t\tfont-size:12pt;\n",
       "\t\tbackground-color:#fff1f1;\n",
       "\t\tpadding:5px;\n",
       "\t\t}\n",
       "#peu {\tfont-family:Arial;\n",
       "\tfont-size:12pt;\n",
       "\tbackground-color:#fff1f1;\n",
       "\tpadding:2px;\n",
       "\tline-height:1}\n",
       "\n",
       ".exercici {color:#a60d0d;\n",
       "\t   /* border-width:0 0 2px 2px !important;\n",
       "\t   border-style:solid !important;\n",
       "\t   border-color:#5e3333 !important; */ }\n",
       "\n",
       ".explicacio {}\n",
       "\n",
       ".avaluacio {}\n",
       "\n",
       "\n",
       "#notebook-container, .notebook_cell_list {\n",
       "       font-size: 1rem !important;\n",
       "       line-height: 1.5 !important;\n",
       "       width: 100%  !important;\n",
       "       margin-left: auto !important;\n",
       "       margin-right: auto !important;\n",
       "       padding-left: 12.5% !important;\n",
       "       font-family: et-book, Palatino, \"Palatino Linotype\", \"Palatino LT STD\", \"Book Antiqua\", Georgia, serif  !important;\n",
       "       background-color: #fffff8 !important;\n",
       "       color: #111 !important;\n",
       "       max-width: 1400px !important; }\n",
       "\n",
       " .rendered .input_prompt {\n",
       "\t min-width:0 !important; } \n",
       "\n",
       ".text_cell_render h1, .markdown h1 { \n",
       "     font-weight: 400;\n",
       "     font-style: normal;\n",
       "     margin-top: 0rem;\n",
       "     margin-bottom: 0rem;\n",
       "     font-size: 2rem; }\n",
       "\n",
       " .text_cell_render h2 { font-style: italic;\n",
       "     font-weight: 400;\n",
       "     font-size: 1.5rem;\n",
       "     margin-top: 1.5rem;\n",
       "     margin-bottom: 1.5em; }\n",
       "\n",
       " .text_cell_render h3 { font-style: italic;\n",
       "             font-weight: 400;\n",
       "             margin-top: 1rem;\n",
       "             margin-bottom: 1rem;\n",
       "             font-size: 1.2rem;\n",
       "             display: block; }\n",
       "\n",
       " .text_cell_render h4 {\n",
       "    font-size: 1.1rem;\n",
       "    font-weight: 400;\n",
       "    margin: 1rem auto; }\n",
       "\n",
       ".rendered_html p { \n",
       "\tfont-size: 1rem !important; \n",
       "    \tmargin-top: 1rem !important;;\n",
       "    \tmargin-bottom: 1rem !important;;\n",
       "    \tpadding-right: 0 !important;;\n",
       "    \tvertical-align: baseline !important;; }\n",
       "\n",
       ".rendered_html blockquote { font-size: 1.1rem !important;}\n",
       "\n",
       ".rendered_html ol, ul { width: 75% !important;; }\n",
       "\n",
       ".rendered_html li { padding: 0.5rem 0 !important;; }\n",
       "\n",
       ".rendered_html table {\n",
       "  border-top: 2px solid #111 !important;\n",
       "  border-bottom: 2px solid #111 !important;\n",
       "  font-size: 0.8rem !important;\n",
       "}\n",
       "\n",
       ".rendered_html th {\n",
       "  border-bottom: 1px solid #111 !important;\n",
       "}\n",
       "\t \n",
       ".rendered_html a { text-decoration: none !important;\n",
       "         background: linear-gradient(#fffff8, #fffff8), linear-gradient(#fffff8, #fffff8), linear-gradient(#333, #333);\n",
       "         background-size: 0.05em 1px, 0.05em 1px, 1px 1px;\n",
       "         background-repeat: no-repeat, no-repeat, repeat-x;\n",
       "         text-shadow: 0.03em 0 #fffff8, -0.03em 0 #fffff8, 0 0.03em #fffff8, 0 -0.03em #fffff8, 0.06em 0 #fffff8, -0.06em 0 #fffff8, 0.09em 0 #fffff8, -0.09em 0 #fffff8, 0.12em 0 #fffff8, -0.12em 0 #fffff8, 0.15em 0 #fffff8, -0.15em 0 #fffff8;\n",
       "         background-position: 0% 93%, 100% 93%, 0% 93%; }\n",
       "\n",
       ".rendered_html a:link::selection { text-shadow: 0.03em 0 #b4d5fe, -0.03em 0 #b4d5fe, 0 0.03em #b4d5fe, 0 -0.03em #b4d5fe, 0.06em 0 #b4d5fe, -0.06em 0 #b4d5fe, 0.09em 0 #b4d5fe, -0.09em 0 #b4d5fe, 0.12em 0 #b4d5fe, -0.12em 0 #b4d5fe, 0.15em 0 #b4d5fe, -0.15em 0 #b4d5fe;\n",
       "                    background: #b4d5fe; }\n",
       " \n",
       ".rendered_html pre { \n",
       "\tborder:1px solid #cccccc !important; }\n",
       "\n",
       ".rendered_html * code { \n",
       "\tfont-size: 1rem !important;\n",
       "        line-height: 1.5 !important;\n",
       "\tfont-family: Consolas, \"Liberation Mono\", Menlo, Courier, monospace !important;\n",
       "\tbackground-color: #fff !important }\n",
       "</style> \n",
       "<script>\n",
       "    MathJax.Hub.Config({\n",
       "                        TeX: {\n",
       "                           extensions: [\"AMSmath.js\"],\n",
       "                           equationNumbers: { autoNumber: \"AMS\", useLabelIds: true}\n",
       "                           },\n",
       "                tex2jax: {\n",
       "                    inlineMath: [ ['$','$'], [\"\\\\(\",\"\\\\)\"] ],\n",
       "                    displayMath: [ ['$$','$$'], [\"\\\\[\",\"\\\\]\"] ]\n",
       "                },\n",
       "                displayAlign: 'center', // Change this to 'center' to center equations.\n",
       "                \"HTML-CSS\": {\n",
       "                    scale: 95,\n",
       "                        availableFonts: [],\n",
       "                        preferredFont:null,\n",
       "                        webFont: \"TeX\",\n",
       "                    styles: {'.MathJax_Display': {\"margin\": 4}}\n",
       "                },\n",
       "                 \"fast-preview\": {\n",
       "                    \"disabled\": false\n",
       "                }\n",
       "        });\n",
       "</script>\n",
       "</style>"
      ],
      "text/plain": [
       "<IPython.core.display.HTML object>"
      ]
     },
     "execution_count": 1,
     "metadata": {},
     "output_type": "execute_result"
    }
   ],
   "source": [
    "# Executar aquesta cel.la per donar estil al notebook\n",
    "from IPython.core.display import HTML\n",
    "import requests\n",
    "style=requests.get('https://raw.githubusercontent.com/MireiaUB/algorismica2019.github.io/patch-1/prova.css').text\n",
    "HTML('<style>{}</style>'.format(style))"
   ]
  },
  {
   "cell_type": "markdown",
   "metadata": {},
   "source": [
    "<div id=\"peu\">\n",
    "<p><a href=\"https://colab.research.google.com/github/algorismica2019/algorismica2019.github.io/blob/master/problemes/BasicsCalculComplexitat.ipynb\"><img style=\"margin:-10px 10px 20px 0\" width=\"150px\" align=\"right\" src=\"https://raw.githubusercontent.com/algorismica2019/algorismica2019.github.io/master/problemes/assets/colab-badge.png?raw=1\" alt=\"Obrir a Colab\" title=\"Obrir i executar a Google Colaboratory\"></a></p>\n",
    "<p style=\"clear:both;text-align:center\">&lt; <a href=\"BasicsFitxers.ipynb\">Bàsics Fitxers</a>| <a href=\"Basics.ipynb\">Problemes Bàsics de Python</a> | <a href=\"LListatProblemes.ipynb\">LListat de problemes general</a> | <a href=\"BasicsCercaAmbHash\">Cerca amb Hash</a> &gt; </p>\n",
    "</div>"
   ]
  }
 ],
 "metadata": {
  "kernelspec": {
   "display_name": "Python 3",
   "language": "python",
   "name": "python3"
  },
  "language_info": {
   "codemirror_mode": {
    "name": "ipython",
    "version": 3
   },
   "file_extension": ".py",
   "mimetype": "text/x-python",
   "name": "python",
   "nbconvert_exporter": "python",
   "pygments_lexer": "ipython3",
   "version": "3.7.3"
  }
 },
 "nbformat": 4,
 "nbformat_minor": 2
}
