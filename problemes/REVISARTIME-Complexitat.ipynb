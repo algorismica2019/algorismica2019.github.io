{
 "cells": [
  {
   "cell_type": "markdown",
   "metadata": {},
   "source": [
    "\n",
    "<div id=\"capcalera\">\n",
    "<p><a href=\"https://colab.research.google.com/github/algorismica2019/algorismica2019.github.io/blob/master/problemes/Complexitat.ipynb\"><img style=\"margin:-10px 10px 20px 0\" width=\"150px\" align=\"right\" src=\"https://raw.githubusercontent.com/algorismica2019/algorismica2019.github.io/master/problemes/assets/colab-badge.png?raw=1\" alt=\"Obrir a Colab\" title=\"Obrir i executar a Google Colaboratory\"></a></p>\n",
    "<p style=\"clear:both\"><img align='left' width=\"300px\" style=\"padding-right:10px;float=left\" src=\"https://raw.githubusercontent.com/algorismica2019/algorismica2019.github.io/master/problemes/assets/al-khwarizmi.png\">Aquest notebook forma part dels continguts teòrics dels problemes de l'assignatura d'<strong>Algorísmica</strong> deL Grau d'Enginyeria Informàtica a la <a href=\"https://mat.ub.edu\">Facultat de Matemàtiques i Informàtica</a> de la <a href=\"https://www.ub.edu\">Universitat de Barcelona</a> impartida per <em>Jordi Vitrià</em> i <em>Mireia Ribera</em></p>\n",
    "\n",
    "<p>Els problemes s'ofereixen sota llicència <a href=\"https://creativecommons.org/licenses/by-nc-nd/3.0/us/legalcode\">CC-BY-NC-ND license</a>, i el codi sota <a href=\"https://opensource.org/licenses/MIT\">Llicència MIT</a>.</p>\n",
    "\n",
    "<p style=\"clear:both;text-align:center\">&lt; <a href=\"Fitxers.ipynb\">IO i Fitxers</a> | <a href=\"Teoria.ipynb\">Explicacions teòriques</a> | <a href=\"LListatProblemes.ipynb\">LListat de problemes</a> | <a href=\"ListComprehensions.ipynb\">List Comprehensions</a> &gt; </p>\n",
    "\n",
    "</div>"
   ]
  },
  {
   "cell_type": "markdown",
   "metadata": {},
   "source": [
    "# <span class=\"tema\">( Continguts teòrics)</span> Complexitat"
   ]
  },
  {
   "cell_type": "markdown",
   "metadata": {},
   "source": [
    "## Documentació relacionada\n",
    "\n",
    "- CS Dojo \"Introduction to Big O Notation and Time Complexity\" [video]: https://www.youtube.com/watch?v=D6xkbGLQesk "
   ]
  },
  {
   "cell_type": "markdown",
   "metadata": {},
   "source": [
    "## Complexitat de les operacions\n",
    "\n",
    "### Mesura empírica del cost computacional.\n",
    "\n",
    "`timeit` és un mòdul python que ens permet mesurar de forma aproximada el temps de procés d'unes linies de codi:\n",
    "\n",
    "```pyton\n",
    "import timeit\n",
    "\n",
    "start_time = timeit.default_timer()\n",
    "func1()\n",
    "print(timeit.default_timer() - start_time)\n",
    "\n",
    "start_time = timeit.default_timer()\n",
    "func2()\n",
    "print(timeit.default_timer() - start_time)\n",
    "``` \n",
    "\n",
    "Si treballem en un notebook de Jupyter podem fer servir la instrucció `%timeit` per calcular el temps de càlcul d'un línia de codi:\n",
    "\n",
    "```python\n",
    "def f(x):\n",
    "    return x * x\n",
    "\n",
    "%timeit for x in range(100): f(x)\n",
    "\n",
    "> 100000 loops, best of 3: 20.3 µs per loop\n",
    "```\n",
    "\n",
    "Si poseu `%%timeit` al principi d'una cel·la calculareu el temps de càlcul de tota la cel·la.\n",
    "\n",
    "```python\n",
    "%%timeit \n",
    "l = []\n",
    "for i in range(1000):\n",
    "    l.append(i ** 2)\n",
    "\n",
    "> 1000 loops, best of 3: 340 µs per loop\n",
    "```\n"
   ]
  },
  {
   "cell_type": "code",
   "execution_count": 2,
   "metadata": {},
   "outputs": [
    {
     "name": "stderr",
     "output_type": "stream",
     "text": [
      "C:\\ProgramData\\Anaconda3\\lib\\site-packages\\ipykernel_launcher.py:7: DeprecationWarning: time.clock has been deprecated in Python 3.3 and will be removed from Python 3.8: use time.perf_counter or time.process_time instead\n",
      "  import sys\n"
     ]
    },
    {
     "name": "stdout",
     "output_type": "stream",
     "text": [
      "El temps de proces ha estat de 0.0007219192150005255 s\n"
     ]
    },
    {
     "name": "stderr",
     "output_type": "stream",
     "text": [
      "C:\\ProgramData\\Anaconda3\\lib\\site-packages\\ipykernel_launcher.py:13: DeprecationWarning: time.clock has been deprecated in Python 3.3 and will be removed from Python 3.8: use time.perf_counter or time.process_time instead\n",
      "  del sys.path[0]\n"
     ]
    }
   ],
   "source": [
    "# Tambe podem usar time.clock abans i després del codi que volem mesurar. \n",
    "# Atenció però, time.clock no té un funcionament idèntic en els diferents sisemes operatius (https://docs.python.org/2/library/time.html)\n",
    "\n",
    "# Observa els dos codis següents i la diferència de temps\n",
    "import time\n",
    "\n",
    "t1 = time.clock()\n",
    "\n",
    "llista = []\n",
    "for i in range(5000000):\n",
    "    llista.append(i)\n",
    "\n",
    "t2 = time.clock()\n",
    "\n",
    "print(f\"El temps de proces ha estat de {(t2-t1)/1000} s\")"
   ]
  },
  {
   "cell_type": "code",
   "execution_count": 2,
   "metadata": {},
   "outputs": [
    {
     "name": "stderr",
     "output_type": "stream",
     "text": [
      "C:\\ProgramData\\Anaconda3\\lib\\site-packages\\ipykernel_launcher.py:3: DeprecationWarning: time.clock has been deprecated in Python 3.3 and will be removed from Python 3.8: use time.perf_counter or time.process_time instead\n",
      "  This is separate from the ipykernel package so we can avoid doing imports until\n"
     ]
    },
    {
     "name": "stdout",
     "output_type": "stream",
     "text": [
      "0.6793655729999841\n"
     ]
    },
    {
     "name": "stderr",
     "output_type": "stream",
     "text": [
      "C:\\ProgramData\\Anaconda3\\lib\\site-packages\\ipykernel_launcher.py:7: DeprecationWarning: time.clock has been deprecated in Python 3.3 and will be removed from Python 3.8: use time.perf_counter or time.process_time instead\n",
      "  import sys\n"
     ]
    }
   ],
   "source": [
    "import time\n",
    "\n",
    "t1 = time.clock()\n",
    "\n",
    "llista2 = [i for i in range(5000000)]\n",
    "\n",
    "t2 = time.clock()\n",
    "\n",
    "print(t2 - t1)\n",
    "\n",
    "# En fer servir una comprensió de llistes el temps d'execució es redueix a la meitat!"
   ]
  },
  {
   "cell_type": "markdown",
   "metadata": {},
   "source": [
    "### <span class=\"exercici\">Exercici 1. Fes una funció que mostri els numeros senars entre 13 i 13000. Quin temps triga? compara els teus resultats amb els dels teus companys</span>"
   ]
  },
  {
   "cell_type": "markdown",
   "metadata": {},
   "source": [
    "# Complexitat\n",
    "\n",
    "\n",
    "## Càlcul\n",
    "\n",
    "Estimem la complexitat d'un algorisme comptant el nombre de funcions elementals que fa l'algorisme. Usualment calcularem el temps del pitjor cas, i usarem la notació gran O.\n",
    "\n",
    "Anem a veure uns casos simples de càlcul de complexitats:\n",
    "\n",
    "### Complexitat d'una operació\n",
    "\n",
    "*operació simple*\n",
    "\n",
    "En general la complexitat d'aquest cas és d'ordre Constant, ja que no depèn de la mida de l'entrada. Però atenció, quan treballem amb llistes algunes operacions aparentment simples, tenen una complexitat d'ordre **n**. Recordeu que en anteriors sessions hem especificat l'ordre de complexitat de les operacions més habituals amb col.leccions. Altres complexitats les podeu consultar a <a href=\"https://wiki.python.org/moin/TimeComplexity\">TimeComplexity </a>\n",
    "\n",
    "- LLista.append('a')                    # complexitat O(1)\n",
    "- Llista.insert(2,'a')                  # complexitat O(n)\n",
    "\n",
    "### Complexitat d'un bloc condicional\n",
    "+ if condicio:\n",
    "    + operacio1\n",
    "+ else:\n",
    "    + operacio2\n",
    "\n",
    "Quan ens trobem amb un bloc condicional (if, elif, else) la complexitat serà la màxima de les complexitats de les diferents opcions. Per ex. si complexitat(operacio1)=O(n) i complexitat(operacio2)=O(1), la complexitat del bloc if serà de O(n), que és l'opció amb més complexitat.\n",
    "\n",
    "### Complexitat d'un conjunt d'instruccions\n",
    "\n",
    "    def: funcio(): \n",
    "        operacio1 \n",
    "        operacio2 \n",
    "        operacio3 \n",
    "        operacio4 \n",
    "        operacio5 \n",
    "        if condicio: \n",
    "            operacio6 \n",
    "        else: \n",
    "            operacio7 \n",
    "\n",
    "\n",
    "Quan s'agrupen diverses operacions simples la complexitat és la suma de totes elles, tenint en compte que quan treballem amb ordres de magnitud i sumem diverses quantitats, només ens quedem amb la cota superior, que és la que mana. \n",
    "\n",
    "Així si \n",
    "- complexitat(operacio1) == complexitat(operacio2) == complexitat(operacio3) és O(1), \n",
    "- i la complexitat(operacio4) és O(n^2), i la complexitat(operacio5) és O(log n), \n",
    "- la complexitat de totes aquestes serà d'ordre O(n^2), que és la complexitat major. \n",
    "- I sumant la complexitat del bloc condicional (operacio6 és O(n) i operacio7 és O(1)), \n",
    "- seguim tenint O(n^2), ja que aquest ordre predomina sobre O(n).\n",
    "\n",
    "La complexitat final d'aquest bloc és O(n^2).\n",
    "\n",
    "### Complexitat dels blocs iteratius (bucles)\n",
    "\n",
    "    for i in range(1, n): \n",
    "        operacio1 \n",
    "    \n",
    "    for j in range(1, n): \n",
    "        operacio1\n",
    "\n",
    "En el cas dels bucles iteratius, primer cal calcular la complexitat de les operacions dins el bucle, i després multiplicar-les pel nombre de vegades que iterem.\n",
    "En els exemples, si complexitat(operacio1) és O(1), la complexitat dels blocs és O(n), ja que tots -- en el pitjor cas -- iteren n vegades sobre aquesta operació.\n",
    "\n",
    "### Complexitat dels blocs iteratius imbricats\n",
    "\n",
    "    for i in range(1, n):\n",
    "        for j in range(1, n): \n",
    "            operacio1\n",
    "\n",
    "En el cas dels bucles imbricats cal multiplicar tantes vegades com bucles hi hagi. A l'exemple, la complexitat del bloc de la j és O(n) però la complexitat del bloc de la i és O(n^2). És a dir, aquest tros de codi té una complexitat quadràtica."
   ]
  },
  {
   "cell_type": "markdown",
   "metadata": {},
   "source": [
    "### <span class=\"exercici\">Exercici 2. Quin ordre de complexitat segons la notació  𝑂()  tenen els algorismes que fan el següent nombre d'operacions?</span>\n",
    "\n",
    "+ $n + 2n$\n",
    "+ $3 n^2 + log n$\n",
    "+ $2^n + n^5$\n",
    "+ 3 sumes + 2 multiplicacions (amb nombres llargs"
   ]
  },
  {
   "cell_type": "markdown",
   "metadata": {},
   "source": [
    "### <span class=\"exercici\">Exercici 3. Amb $n=50$ té sentit un algorisme d'$O(n!)$? Per què?</span>"
   ]
  },
  {
   "cell_type": "markdown",
   "metadata": {},
   "source": [
    "### Complexitat de les operacions més habituals de Python\n",
    "\n",
    "L'assignació d'un valor a una variable (que s'implementa mitjançant la còpia d'una referència) és `O(1)`. \n",
    "\n",
    "Els operadors simples (`+`, `*`, etc.) sobre enters petits (menors de 12 dígits) són `O(1)`.\n",
    "\n",
    "Els operadors sobre col·leccions de dades de longitud `N`, `N = len(data-type)` són:\n",
    "\n",
    "#### Lists:\n",
    "                               \n",
    "Operació      | Exemple      | Complexitat     | Notes\n",
    "--------------|--------------|---------------|-------------------------------\n",
    "Index         | l[i]         | O(1)\t     |\n",
    "Store         | l[i] = 0     | O(1)\t     |\n",
    "Length        | len(l)       | O(1)\t     |\n",
    "Append        | l.append(5)  | O(1)\t     |\n",
    "Pop\t          | l.pop()      | O(1)\t     | equivalent a l.pop(-1)\n",
    "Clear         | l.clear()    | O(1)\t     | equivalent a l = []\n",
    "Slice         | l[a:b]       | O(b-a)\t | O(len(l)-0)=O(N)\n",
    "check ==, !=  | l1 == l2     | O(N)      |\n",
    "Insert        | l[a:b] = ... | O(N)\t     |\n",
    "Delete        | del l[i]     | O(N)\t     | \n",
    "Containment   | x in/not in l| O(N)\t     | cerca a la llista\n",
    "Copy          | l.copy()     | O(N)\t     | equivalent a l[:] que és O(N)\n",
    "Remove        | l.remove(...)| O(N)\t     | \n",
    "Pop\t          | l.pop(i)     | O(N)\t     | \n",
    "Extreme value | min(l)/max(l)| O(N)\t     | cerca a la llista\n",
    "Reverse\t      | l.reverse()  | O(N)\t     |\n",
    "Iteration     | for v in l:  | O(N)          |\n",
    "Sort          | l.sort()     | O(N Log N)    | \n",
    "\n",
    "#### Sets (encara que no els estudiarem explícitament, afegim aquí les complexitats)\n",
    "\n",
    "Operació      | Exemple      | Complexitat     | Notes\n",
    "--------------|--------------|---------------|-------------------------------\n",
    "Length        | len(s)       | O(1)\t     |\n",
    "Add           | s.add(5)     | O(1)\t     |\n",
    "Containment   | x in/not in s| O(1)\t     | \n",
    "Remove        | s.remove(..) | O(1)\t     | \n",
    "Discard       | s.discard(..)| O(1)\t     | \n",
    "Pop           | s.pop()      | O(1)\t     |\n",
    "Clear         | s.clear()    | O(1)\t     | equivalent a s = set()\n",
    "check ==, !=  | s != t       | O(len(s))     | \n",
    "<=/<          | s <= t       | O(len(s))     | issubset\n",
    "\\>=/>         | s >= t       | O(len(t))     | issuperset \n",
    "Union         | s l t        | O(len(s)+len(t)) |\n",
    "Intersection  | s & t        | O(len(s)+len(t)) |\n",
    "Difference    | s - t        | O(len(s)+len(t)) |\n",
    "Symmetric Diff| s ^ t        | O(len(s)+len(t)) |\n",
    "Iteration     | for v in s:  | O(N)          |\n",
    "Copy          | s.copy()     | O(N)\t     |\n",
    "\n",
    "#### Dictionaries\n",
    "                             \n",
    "Operació      | Exemple      | Complexitat     | Notes\n",
    "--------------|--------------|---------------|-------------------------------\n",
    "Index         | d[k]         | O(1)      |\n",
    "Store         | d[k] = v     | O(1)      |\n",
    "Length        | len(d)       | O(1)      |\n",
    "Delete        | del d[k]     | O(1)      |\n",
    "get/setdefault| d.method     | O(1)      |\n",
    "Pop           | d.pop(k)     | O(1)      |\n",
    "Pop item      | d.popitem()  | O(1)      |\n",
    "Clear         | d.clear()    | O(1)      | equivalent a s = {} o = dict()\n",
    "View          | d.keys()     | O(1)      | el mateix que d.values()\n",
    "Iteration     | for k in d:  | O(N)      | totes les formes: keys, values, items"
   ]
  },
  {
   "cell_type": "code",
   "execution_count": null,
   "metadata": {},
   "outputs": [],
   "source": [
    "# Exemple 1 de càlcul de complexitat\n",
    "\n",
    "def funcio1(n):\n",
    "    for i in range(n): # Executem un cop aquest for\n",
    "        print(i)       # Executem n vegades aquesta instrucció"
   ]
  },
  {
   "cell_type": "markdown",
   "metadata": {},
   "source": [
    "funcio1:  $O(n)$"
   ]
  },
  {
   "cell_type": "code",
   "execution_count": null,
   "metadata": {},
   "outputs": [],
   "source": [
    "# Exemple 2 de càlcul de complexitat\n",
    "\n",
    "def funcio2(n,m):\n",
    "    for i in range(1,n*n,2): # Aquest for s'executa de 1 fins a n*n amb passos de 2 en 2\n",
    "        for j in range(m*m, 0, -1): # Aquest s'executa m*m vegades\n",
    "                                    # Com que un depèn de l'altre, per a cada valor 'i' executem m*m operacions\n",
    "                                    # i, per tant, el total serà la multiplicació dels dos valors\n",
    "                    \n",
    "            print (f\" ({i},{j})\", end=\" \")\n",
    "        print()\n",
    "        \n",
    "funcio2(4,3)  "
   ]
  },
  {
   "cell_type": "markdown",
   "metadata": {},
   "source": [
    "funcio2: $ O(\\dfrac{n^2}{2}m^2)=O(n^2m^2) $"
   ]
  },
  {
   "cell_type": "code",
   "execution_count": null,
   "metadata": {},
   "outputs": [],
   "source": [
    "# Exemple 3 de càlcul de complexitat\n",
    "\n",
    "# Aquest programa substitueix per True si hi ha coincidència amb el número donat o False en els atres casos\n",
    "\n",
    "def funcio3(llista, numero): # suposem n=len(llista)\n",
    "    \n",
    "    if numero in llista:              # n operacions\n",
    "        for it in range(len(llista)): # n operacions\n",
    "            if llista[it]==numero:    # Els accessos i assignacions són 1 sola operació\n",
    "                llista[it] = True\n",
    "            else:\n",
    "                llista[it] = False\n",
    "        return llista\n",
    "        \n",
    "    else:\n",
    "        return [False]*len(llista)    # n operacions\n",
    "\n",
    "# En aquest cas fem n+n operacions ja que, tot i estar una posició identat cap a la dreta, la comprovació\n",
    "# inicial només es fa un cop.\n",
    "\n",
    "# Tan si entra a la condició 'numero in llista' com si no hi entra, es faran n operacions més.\n",
    "    \n",
    "llista = [1,2,5,-6,3,-8,7,-9,5,8,5]\n",
    "funcio3(llista, 5)"
   ]
  },
  {
   "cell_type": "markdown",
   "metadata": {},
   "source": [
    "funcio3: $ O(n+n)=O(2n)=O(n) $"
   ]
  },
  {
   "cell_type": "code",
   "execution_count": null,
   "metadata": {},
   "outputs": [],
   "source": [
    "# Exemple 4 de càlcul de complexitat\n",
    "\n",
    "def funcio4(num):                     # Per abreujar, n=num\n",
    "    llista = [0] * num                  # inicialitzar val n\n",
    "    suma = 0 \n",
    "    for i in range(1, len(llista)+1):  # Aquest for executarà la part interna n vegades \n",
    "        llista.insert(i, i)            # Insertar val n (veure collections.ipynb)\n",
    "        suma += llista[i - 1] + llista[i]  # 2 accessos i una suma = 3 operacions\n",
    "    \n",
    "    print(llista, suma)               # Imprimir una llista val n i imprimir un enter, 1\n",
    "        \n",
    "        \n",
    "# Notem que per a cada valor de 'i' fem un insert. Per tant es multiplicarà n*(n+3) \n",
    "# ja que n+3 és la part de dins del 'for'\n",
    "\n",
    "funcio4(10)"
   ]
  },
  {
   "cell_type": "markdown",
   "metadata": {},
   "source": [
    "funcio3: $ O\\Big(n + n(n+3)+(n+1)\\Big)=O(n+n^2 +n)=O(n^2 +2n) = O(n^2 +n) $ o també $O(n^2)$"
   ]
  },
  {
   "cell_type": "markdown",
   "metadata": {},
   "source": [
    "### <span class=\"exercici\">Exercici 5. Calcula la complexitat d'aquestes dues funcions:</span>\n",
    "\n",
    "```python\n",
    "def nums1a5():\n",
    "    a = 1\n",
    "    while (a < 5):\n",
    "        print(a)\n",
    "        a += 1 \n",
    "```\n",
    " \n",
    "```python\n",
    "def nums1a10():\n",
    "    for i in range(0, 10): # valor inicial:0 \n",
    "                       # valor final: 10 [quan hi arriba surt, no itera]\n",
    "                       # increment: no s'indica, per defecte és 1\n",
    "    print(i)\n",
    "```    \n",
    "Tens alguna observació?"
   ]
  },
  {
   "cell_type": "markdown",
   "metadata": {},
   "source": [
    "## Algorismes ordenació i cerca\n",
    "Incloem també en aquest notebook els principals algorismes d'ordenació i cerca vistos a teroia amb indicació de la seva complexitat"
   ]
  },
  {
   "cell_type": "markdown",
   "metadata": {},
   "source": [
    "### Mergesort, de complexitat O(n log n)"
   ]
  },
  {
   "cell_type": "code",
   "execution_count": 4,
   "metadata": {},
   "outputs": [],
   "source": [
    "def merge(left, right):\n",
    "    \"\"\"\n",
    "    Aquesta funció fusiona dues llistes ordenades amb una de nova, també ordenada\n",
    "    \"\"\"\n",
    "    result = []\n",
    "    i, j = 0, 0\n",
    "    while(i < len(left) and j < len(right)):\n",
    "        if (left[i] <= right[j]):\n",
    "            result.append(left[i])\n",
    "            i = i + 1\n",
    "        else:\n",
    "            result.append(right[j])\n",
    "            j = j + 1\n",
    "\n",
    "    result += left[i:]\n",
    "    result += right[j:]\n",
    "    return result"
   ]
  },
  {
   "cell_type": "code",
   "execution_count": 5,
   "metadata": {},
   "outputs": [],
   "source": [
    "def mergesort(list):\n",
    "    \"\"\"\n",
    "    Aquesta funció va partint la llista en una banda dreta i una esquerra\n",
    "    fins que aquestes bandes tenen un element\n",
    "    quan ho aconsegueix, crida merge per fusionar ambdues bandes de \n",
    "    manera ordenada\n",
    "    fins arribar a fusionar la llista completa original.\n",
    "    \"\"\"\n",
    "    if len(list) < 2:\n",
    "        return list\n",
    "    else:\n",
    "        middle = len(list) // 2\n",
    "        left = mergesort(list[:middle])\n",
    "        right = mergesort(list[middle:])\n",
    "        return merge(left, right)"
   ]
  },
  {
   "cell_type": "code",
   "execution_count": 6,
   "metadata": {},
   "outputs": [
    {
     "data": {
      "text/plain": [
       "[-4, 2, 3, 4, 7, 8, 9]"
      ]
     },
     "execution_count": 6,
     "metadata": {},
     "output_type": "execute_result"
    }
   ],
   "source": [
    "mergesort([9,8,4,2,7,-4,3])"
   ]
  },
  {
   "cell_type": "markdown",
   "metadata": {},
   "source": [
    "### Quicksort, de complexitat O(n log n)"
   ]
  },
  {
   "cell_type": "code",
   "execution_count": 8,
   "metadata": {},
   "outputs": [],
   "source": [
    "def partition(A, first, last):\n",
    "    \"\"\"\n",
    "    Aquesta funció tria el valor mig entre l'element inicial, final i mig \n",
    "    d'una llista i l'ubica al lloc que li correspondrà quan la llista està \n",
    "    ordenada, alhora deixa a la seva esquerra valors menors i a la dreta\n",
    "    valors majors. Per tant altera A\n",
    "    A més retorna la posició de la partició\n",
    "    \"\"\"\n",
    "    mid = (first + last) // 2  #ordenem A[first],A[mid],A[last]\n",
    "    if A[first] > A [mid]: A[first], A[mid] = A[mid], A[first]\n",
    "    if A[first] > A [last]: A[first], A[last] = A[last], A[first]\n",
    "    if A[mid] > A[last]:   A[mid], A[last] = A[last], A[mid]  \n",
    "    A[mid], A[first] = A[first], A[mid] #valor mig a l’inici\n",
    "    pivot = first\n",
    "    i = first + 1\n",
    "    j = last\n",
    "  \n",
    "    while True:\n",
    "        while i <= last and A[i] <= A[pivot]: i += 1\n",
    "        while j >= first and A[j] > A[pivot]: j -= 1\n",
    "        if i >= j: break\n",
    "        else:\n",
    "            A[i], A[j] = A[j], A[i] #intercanviem, fem avançar i j\n",
    "    A[j], A[pivot] = A[pivot], A[j] #vector partit, pivot=j\n",
    "    return j"
   ]
  },
  {
   "cell_type": "code",
   "execution_count": 9,
   "metadata": {},
   "outputs": [],
   "source": [
    "def quick_sort(A):\n",
    "    quick_sort_r(A, 0, len(A) - 1)\n",
    "\n",
    "def quick_sort_r(A , first, last):\n",
    "    if last > first:\n",
    "        pivot = partition(A, first, last)\n",
    "        quick_sort_r(A, first, pivot - 1)\n",
    "        quick_sort_r(A, pivot + 1, last)"
   ]
  },
  {
   "cell_type": "code",
   "execution_count": 10,
   "metadata": {},
   "outputs": [
    {
     "name": "stdout",
     "output_type": "stream",
     "text": [
      "[-4, 2, 3, 4, 7, 8, 9]\n"
     ]
    }
   ],
   "source": [
    "A = [9, 8, 4, 2, 7, -4, 3]\n",
    "quick_sort(A)\n",
    "print(A)"
   ]
  },
  {
   "cell_type": "markdown",
   "metadata": {},
   "source": [
    "### Cerca lineal, de complexitat O(n)"
   ]
  },
  {
   "cell_type": "code",
   "execution_count": 11,
   "metadata": {},
   "outputs": [],
   "source": [
    "def search(x,nums):\n",
    "    nums.append(x)\n",
    "    i = 0\n",
    "    while nums[i] != x:\n",
    "        i += 1\n",
    "    if i < len(nums) - 1: \n",
    "        return i\n",
    "    else: \n",
    "        return -1"
   ]
  },
  {
   "cell_type": "code",
   "execution_count": 12,
   "metadata": {},
   "outputs": [
    {
     "data": {
      "text/plain": [
       "-1"
      ]
     },
     "execution_count": 12,
     "metadata": {},
     "output_type": "execute_result"
    }
   ],
   "source": [
    "search(10, [9, 8, 4, 2, 7, -4, 3])"
   ]
  },
  {
   "cell_type": "markdown",
   "metadata": {},
   "source": [
    "### Cerca binària, de complexitat O(logn)"
   ]
  },
  {
   "cell_type": "code",
   "execution_count": 13,
   "metadata": {},
   "outputs": [],
   "source": [
    "def binsearch(x,nums):\n",
    "    recbinsearch(x,nums,0,len(nums)-1)\n",
    "    \n",
    "    \n",
    "def recbinsearch(x, nums, low, high):\n",
    "    # low, high defineixen els limits de la llista\n",
    "    # on buscar, així no cal crear noves llistes\n",
    "    if low>high: \n",
    "        return -1\n",
    "    mid = (low + high) // 2    \n",
    "    items = nums[mid]   \n",
    "    if items == x:\n",
    "        print(mid)\n",
    "    elif x < items:\n",
    "        return recbinsearch(x, nums, low, mid-1)\n",
    "    else: \n",
    "        return recbinsearch(x, nums, mid+1, high)"
   ]
  },
  {
   "cell_type": "code",
   "execution_count": 14,
   "metadata": {},
   "outputs": [
    {
     "name": "stdout",
     "output_type": "stream",
     "text": [
      "4\n"
     ]
    }
   ],
   "source": [
    "binsearch(5, [1, 2, 3, 4, 5, 6, 7])"
   ]
  },
  {
   "cell_type": "code",
   "execution_count": 15,
   "metadata": {},
   "outputs": [],
   "source": [
    "## Cerca hash, de complexitat O(1)"
   ]
  },
  {
   "cell_type": "code",
   "execution_count": 3,
   "metadata": {},
   "outputs": [
    {
     "data": {
      "text/html": [
       "<style><style>\n",
       "\n",
       "@import url('http://fonts.googleapis.com/css?family=Source+Code+Pro');\n",
       "@import url('http://fonts.googleapis.com/css?family=Lora');\n",
       "\n",
       "/*   adapted from https://github.com/edwardtufte/et-book/blob/gh-pages/et-book.css */\n",
       "\n",
       "@charset \"UTF-8\";\n",
       "\n",
       "@font-face {\n",
       "  font-family: \"et-book\";\n",
       "  src: url(\"et-book/roman-line-figures.ttf\") format(\"truetype\");\n",
       "  font-weight: normal;\n",
       "  font-style: normal\n",
       "}\n",
       "\n",
       "@font-face {\n",
       "  font-family: \"et-book\";\n",
       "  src: url(\"et-book/display-italic-old-style-figures.ttf\") format(\"truetype\");\n",
       "  font-weight: normal;\n",
       "  font-style: italic\n",
       "}\n",
       "\n",
       "@font-face {\n",
       "  font-family: \"et-book\";\n",
       "  src: url(\"et-book/bold-line-figures.ttf\") format(\"truetype\");\n",
       "  font-weight: bold;\n",
       "  font-style: normal\n",
       "}\n",
       "\n",
       "@font-face {\n",
       "  font-family: \"et-book-roman-old-style\";\n",
       "  src: url(\"et-book/roman-old-style-figures.ttf\") format(\"truetype\");\n",
       "  font-weight: normal;\n",
       "  font-style: normal;\n",
       "}\n",
       "\n",
       "html {\n",
       "       font-size: 15px !important;\n",
       "}\n",
       "\n",
       ".tema, h1 span { font-size: 14pt;\n",
       "\tfont-style: italic;\n",
       "\tfont-weight: 100;}\n",
       "\n",
       "#capcalera {\tfont-family:Arial;\n",
       "\t\tfont-size:12pt;\n",
       "\t\tbackground-color:#fff1f1;\n",
       "\t\tpadding:5px;\n",
       "\t\t}\n",
       "#peu {\tfont-family:Arial;\n",
       "\tfont-size:12pt;\n",
       "\tbackground-color:#fff1f1;\n",
       "\tpadding:2px;\n",
       "\tline-height:1}\n",
       "\n",
       ".exercici {color:#a60d0d;\n",
       "\t   /* border-width:0 0 2px 2px !important;\n",
       "\t   border-style:solid !important;\n",
       "\t   border-color:#5e3333 !important; */ }\n",
       "\n",
       ".explicacio {}\n",
       "\n",
       ".avaluacio {}\n",
       "\n",
       "\n",
       "#notebook-container, .notebook_cell_list {\n",
       "       font-size: 1rem !important;\n",
       "       line-height: 1.5 !important;\n",
       "       width: 100%  !important;\n",
       "       margin-left: auto !important;\n",
       "       margin-right: auto !important;\n",
       "       padding-left: 12.5% !important;\n",
       "       font-family: et-book, Palatino, \"Palatino Linotype\", \"Palatino LT STD\", \"Book Antiqua\", Georgia, serif  !important;\n",
       "       background-color: #fffff8 !important;\n",
       "       color: #111 !important;\n",
       "       max-width: 1400px !important; }\n",
       "\n",
       " .rendered .input_prompt {\n",
       "\t min-width:0 !important; } \n",
       "\n",
       ".text_cell_render h1, .markdown h1 { \n",
       "     font-weight: 400;\n",
       "     font-style: normal;\n",
       "     margin-top: 0rem;\n",
       "     margin-bottom: 0rem;\n",
       "     font-size: 2rem; }\n",
       "\n",
       " .text_cell_render h2 { font-style: italic;\n",
       "     font-weight: 400;\n",
       "     font-size: 1.5rem;\n",
       "     margin-top: 1.5rem;\n",
       "     margin-bottom: 1.5em; }\n",
       "\n",
       " .text_cell_render h3 { font-style: italic;\n",
       "             font-weight: 400;\n",
       "             margin-top: 1rem;\n",
       "             margin-bottom: 1rem;\n",
       "             font-size: 1.2rem;\n",
       "             display: block; }\n",
       "\n",
       " .text_cell_render h4 {\n",
       "    font-size: 1.1rem;\n",
       "    font-weight: 400;\n",
       "    margin: 1rem auto; }\n",
       "\n",
       ".rendered_html p { \n",
       "\tfont-size: 1rem !important; \n",
       "    \tmargin-top: 1rem !important;;\n",
       "    \tmargin-bottom: 1rem !important;;\n",
       "    \tpadding-right: 0 !important;;\n",
       "    \tvertical-align: baseline !important;; }\n",
       "\n",
       ".rendered_html blockquote { font-size: 1.1rem !important;}\n",
       "\n",
       ".rendered_html ol, ul { width: 75% !important;; }\n",
       "\n",
       ".rendered_html li { padding: 0.5rem 0 !important;; }\n",
       "\n",
       ".rendered_html table {\n",
       "  border-top: 2px solid #111 !important;\n",
       "  border-bottom: 2px solid #111 !important;\n",
       "  font-size: 0.8rem !important;\n",
       "}\n",
       "\n",
       ".rendered_html th {\n",
       "  border-bottom: 1px solid #111 !important;\n",
       "}\n",
       "\t \n",
       ".rendered_html a { text-decoration: none !important;\n",
       "         background: linear-gradient(#fffff8, #fffff8), linear-gradient(#fffff8, #fffff8), linear-gradient(#333, #333);\n",
       "         background-size: 0.05em 1px, 0.05em 1px, 1px 1px;\n",
       "         background-repeat: no-repeat, no-repeat, repeat-x;\n",
       "         text-shadow: 0.03em 0 #fffff8, -0.03em 0 #fffff8, 0 0.03em #fffff8, 0 -0.03em #fffff8, 0.06em 0 #fffff8, -0.06em 0 #fffff8, 0.09em 0 #fffff8, -0.09em 0 #fffff8, 0.12em 0 #fffff8, -0.12em 0 #fffff8, 0.15em 0 #fffff8, -0.15em 0 #fffff8;\n",
       "         background-position: 0% 93%, 100% 93%, 0% 93%; }\n",
       "\n",
       ".rendered_html a:link::selection { text-shadow: 0.03em 0 #b4d5fe, -0.03em 0 #b4d5fe, 0 0.03em #b4d5fe, 0 -0.03em #b4d5fe, 0.06em 0 #b4d5fe, -0.06em 0 #b4d5fe, 0.09em 0 #b4d5fe, -0.09em 0 #b4d5fe, 0.12em 0 #b4d5fe, -0.12em 0 #b4d5fe, 0.15em 0 #b4d5fe, -0.15em 0 #b4d5fe;\n",
       "                    background: #b4d5fe; }\n",
       " \n",
       ".rendered_html pre { \n",
       "\tborder:1px solid #cccccc !important; }\n",
       "\n",
       ".rendered_html * code { \n",
       "\tfont-size: 1rem !important;\n",
       "        line-height: 1.5 !important;\n",
       "\tfont-family: Consolas, \"Liberation Mono\", Menlo, Courier, monospace !important;\n",
       "\tbackground-color: #fff !important }\n",
       "</style> \n",
       "<script>\n",
       "    MathJax.Hub.Config({\n",
       "                        TeX: {\n",
       "                           extensions: [\"AMSmath.js\"],\n",
       "                           equationNumbers: { autoNumber: \"AMS\", useLabelIds: true}\n",
       "                           },\n",
       "                tex2jax: {\n",
       "                    inlineMath: [ ['$','$'], [\"\\\\(\",\"\\\\)\"] ],\n",
       "                    displayMath: [ ['$$','$$'], [\"\\\\[\",\"\\\\]\"] ]\n",
       "                },\n",
       "                displayAlign: 'center', // Change this to 'center' to center equations.\n",
       "                \"HTML-CSS\": {\n",
       "                    scale: 95,\n",
       "                        availableFonts: [],\n",
       "                        preferredFont:null,\n",
       "                        webFont: \"TeX\",\n",
       "                    styles: {'.MathJax_Display': {\"margin\": 4}}\n",
       "                },\n",
       "                 \"fast-preview\": {\n",
       "                    \"disabled\": false\n",
       "                }\n",
       "        });\n",
       "</script>\n",
       "</style>"
      ],
      "text/plain": [
       "<IPython.core.display.HTML object>"
      ]
     },
     "execution_count": 3,
     "metadata": {},
     "output_type": "execute_result"
    }
   ],
   "source": [
    "# Executar aquesta cel.la per donar estil al notebook\n",
    "from IPython.core.display import HTML\n",
    "import requests\n",
    "style=requests.get('https://raw.githubusercontent.com/MireiaUB/algorismica2019.github.io/patch-1/prova.css').text\n",
    "HTML('<style>{}</style>'.format(style))"
   ]
  },
  {
   "cell_type": "markdown",
   "metadata": {},
   "source": [
    "<div id=\"peu\">\n",
    "<p><a href=\"https://colab.research.google.com/github/algorismica2019/algorismica2019.github.io/blob/master/problemes/Complexitat.ipynb\"><img style=\"margin:-10px 10px 20px 0\" width=\"150px\" align=\"right\" src=\"https://raw.githubusercontent.com/algorismica2019/algorismica2019.github.io/master/problemes/assets/colab-badge.png?raw=1\" alt=\"Obrir a Colab\" title=\"Obrir i executar a Google Colaboratory\"></a></p>\n",
    "<p style=\"clear:both;text-align:center\">&lt; <a href=\"Fitxers.ipynb\">IO i Fitxers</a> | <a href=\"Teoria.ipynb\">Explicacions teòriques</a> | <a href=\"LListatProblemes.ipynb\">LListat de problemes</a> | <a href=\"ListComprehensions.ipynb\">List Comprehensions</a> &gt; </p>\n",
    "</div>"
   ]
  }
 ],
 "metadata": {
  "kernelspec": {
   "display_name": "Python 3",
   "language": "python",
   "name": "python3"
  },
  "language_info": {
   "codemirror_mode": {
    "name": "ipython",
    "version": 3
   },
   "file_extension": ".py",
   "mimetype": "text/x-python",
   "name": "python",
   "nbconvert_exporter": "python",
   "pygments_lexer": "ipython3",
   "version": "3.7.3"
  }
 },
 "nbformat": 4,
 "nbformat_minor": 1
}
