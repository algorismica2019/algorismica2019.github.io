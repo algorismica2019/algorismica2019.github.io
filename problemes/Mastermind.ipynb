{
 "cells": [
  {
   "cell_type": "markdown",
   "metadata": {},
   "source": [
    "<div id=\"capcalera\">\n",
    "<p><a href=\"https://colab.research.google.com/github/algorismica2019/algorismica2019.github.io/blob/master/problemes/Mastermind.ipynb\"><img style=\"margin:-10px 10px 20px 0\" width=\"150px\" align=\"right\" src=\"https://raw.githubusercontent.com/algorismica2019/algorismica2019.github.io/master/problemes/assets/colab-badge.png?raw=1\" alt=\"Obrir a Colab\" title=\"Obrir i executar a Google Colaboratory\"></a></p>\n",
    "<p style=\"clear:both\"><img align='left' width=\"300px\" style=\"padding-right:10px;float=left\" src=\"https://raw.githubusercontent.com/algorismica2019/algorismica2019.github.io/master/problemes/assets/al-khwarizmi.png\">Aquest notebook forma part dels continguts teòrics dels problemes de l'assignatura d'<strong>Algorísmica</strong> del Grau d'Enginyeria Informàtica a la <a href=\"https://mat.ub.edu\">Facultat de Matemàtiques i Informàtica</a> de la <a href=\"https://www.ub.edu\">Universitat de Barcelona</a> impartida per <em>Jordi Vitrià</em> i <em>Mireia Ribera</em></p>\n",
    "\n",
    "<p>Els problemes s'ofereixen sota llicència <a href=\"https://creativecommons.org/licenses/by-nc-nd/3.0/us/legalcode\">CC-BY-NC-ND license</a>, i el codi sota <a href=\"https://opensource.org/licenses/MIT\">Llicència MIT</a>.</p>\n",
    "\n",
    "<p style=\"clear:both;text-align:center\">&lt; <a href=\"8ReinesTaulerEscacs.ipynb\">Problema anterior</a> | <a href=\"LListatProblemes.ipynb\">LListat de problemes</a> | <a href=\"TravelingSalesmanProblem-Original.ipynb\">Problema següent</a> &gt; </p>\n",
    "\n",
    "</div>"
   ]
  },
  {
   "cell_type": "markdown",
   "metadata": {},
   "source": [
    "# <span class=\"tema\">(Altres)</span>Mastermind"
   ]
  },
  {
   "cell_type": "markdown",
   "metadata": {},
   "source": [
    "## Introducció\n",
    "\n",
    "En aquest Notebook es planteja la resolució del joc Mastermind, en una versió simplificada. En aquest joc un dels participants (el master) es pensa una combinació secreta de 4 pius en un ordre determinat, a partir de 7 colors possibles.\n",
    "Els 7 colors possibles seran: R (red), G (green), B (blue), Y (yellow), DB (Dark Blue), DG (Dark Green) i O (Orange).\n",
    "Una possible combinació secreta podria ser Y, DB, G i B\n",
    "L'altre jugador (l'endevinador) intenta endevinar aquesta combinació en les mínimes jugades possibles.\n",
    "A cada jugada l'endevinador proposa una combinació i el màster li puntúa segons s'assembli o no a la combinació secreta. La puntuació es fa amb punts blancs (s'ha encertat el color) o punts negres (s'ha encertat el color i la posició). Cada punt fa referència al piu en la posició corresponent (el punt 2 al piu 2, el punt 3 al piu 3...)\n",
    "\n",
    "<img src=\"mastermind.jpg\" width=\"300px\" />\n",
    "\n",
    "Per exemple una possible partida del joc podria ser:\n",
    "\n",
    "Combinació secreta: Y DB G B\n",
    "\n",
    "Primera jugada:  R G B Y\n",
    "puntuació: res blanc blanc blanc\n",
    "\n",
    "Segona jugada: G B Y O\n",
    "puntuació: blanc blanc blanc res\n",
    "\n",
    "...\n",
    "n jugada: Y G B DB\n",
    "puntuació: negre blanc blanc blanc\n",
    "\n",
    "...\n",
    "\n",
    "Darrera jugada: Y DB G B\n",
    "puntuació: negre negre negre negre\n",
    "\n",
    "Si vols, pots jugar-hi en línia a [mastermind en línia](http://www.webgamesonline.com/mastermind/)\n",
    "\n",
    "Per a resoldre aquest joc us proposarem un seguit de funcions que resolguin una part del problema. "
   ]
  },
  {
   "cell_type": "markdown",
   "metadata": {},
   "source": [
    "### Variables globals\n",
    "\n",
    "Com que aquest Notebook pretén solucionar un únic problema força complex, crearem algunes variables globals que crearem i actualitzarem en diferents funcions del programa i que podrem consultar en qualselvol moment.\n",
    "\n",
    "combinacioGuanyadora\n",
    "una combinació de 4 colors entre els possibles en un ordre determinat. Per exemple ['Y','DB','G','B']\n",
    "\n",
    "possiblesSolucions\n",
    "una llista de solucions possibles en un moment donat de la partida. Per exemple [['Y','DB','G','B'], ['Y','DB','B','G'],['O','DB','Y',B]...]\n",
    "\n",
    "colorsEliminats\n",
    "un conjunt de colors que segur que no formen part de la solució. Per exemple [O,R]\n",
    "\n",
    "\n",
    "colorsPosicionsEliminats\n",
    "un conjunt de parelles color-posicio que s'han eliminat de possiblesSolucions. Per exemple [O1,O2,R3]\n",
    "\n",
    "Per crear variables globals les hem d'inicialitzar fora de totes les funcions i quan les vulguem usar dins de la funció, abans \"recordar-li\" a Python que és una variable global."
   ]
  },
  {
   "cell_type": "code",
   "execution_count": 10,
   "metadata": {},
   "outputs": [],
   "source": [
    "combinacioGuanyadora=[]\n",
    "possiblesSolucions=[]\n",
    "colorsEliminats=[]\n",
    "colorsPosicionsEliminats=[]"
   ]
  },
  {
   "cell_type": "code",
   "execution_count": null,
   "metadata": {},
   "outputs": [],
   "source": [
    "# Exemple de variable global\n",
    "s=\"Hola\"\n",
    "\n",
    "def mostraS():\n",
    "    global s\n",
    "    print(s)\n",
    "\n",
    "    \n",
    "def actualitzaS():\n",
    "    global s\n",
    "    s +=' i adéu'\n",
    "\n",
    "    \n",
    "def actualitzaSnoglobal():\n",
    "    s +=' hola de nou'\n",
    "\n",
    "    \n",
    "mostraS()\n",
    "actualitzaS()\n",
    "mostraS()\n",
    "actualitzaSnoglobal()\n",
    "mostraS()"
   ]
  },
  {
   "cell_type": "markdown",
   "metadata": {},
   "source": [
    "### Pregunta 1\n",
    "\n",
    "+ Escriu una funció totesPermutacions() que crei totes les possibles permutacions de quatre pius amb els colors establerts i les assigni a la variable possiblesSolucions"
   ]
  },
  {
   "cell_type": "markdown",
   "metadata": {},
   "source": [
    "Per resoldre l'exercici 1 et serà útil la llibreria <a href=\"https://docs.python.org/2/library/itertools.html\">**itertools**</a>, que permet crear permutacions a partir dels elements d'una llista o string amb una llargada determinada.\n",
    "A continuació es mostra un exemple:"
   ]
  },
  {
   "cell_type": "code",
   "execution_count": 12,
   "metadata": {},
   "outputs": [
    {
     "name": "stdout",
     "output_type": "stream",
     "text": [
      "('W', 'X')('W', 'Y')('W', 'Z')('X', 'W')('X', 'Y')('X', 'Z')('Y', 'W')('Y', 'X')('Y', 'Z')('Z', 'W')('Z', 'X')('Z', 'Y')"
     ]
    }
   ],
   "source": [
    "import itertools\n",
    "for item in itertools.permutations(['W', 'X', 'Y', 'Z'], 2):\n",
    "    print (item, end = \"\")"
   ]
  },
  {
   "cell_type": "markdown",
   "metadata": {},
   "source": [
    "### Pregunta 2\n",
    "\n",
    "+ Escriu una funció combinacio() que trii aleatòriament una de les permutacions de possiblesSolucions i la retorni."
   ]
  },
  {
   "cell_type": "markdown",
   "metadata": {},
   "source": [
    "### Pregunta 3\n",
    "+ Escriu una funció eliminarColor(color) que tregui de les possiblesSolucions totes aquelles que continguin el color indicat. A més actualitzarà la variable colorsEliminats amb el color donat."
   ]
  },
  {
   "cell_type": "markdown",
   "metadata": {},
   "source": [
    "### Pregunta 4\n",
    "+ Escriu una funció eliminarColorPosicio(color,posicio) que tregui de les possiblesSolucions totes aquelles que continguin el color indicat en la posició indicada. A més actualitzarà la variable colorsPosicionsEliminats amb el color i posició donats."
   ]
  },
  {
   "cell_type": "markdown",
   "metadata": {},
   "source": [
    "### Pregunta 5\n",
    "+ Escriu una funció puntuar(combinacio) que compari la combinació donada amb la combinació guanyadora (guardada en una variable global).\n",
    "Per exemple puntuar(['R','G','DB','O']) podria retornar ['res','negre','blanc','negre']"
   ]
  },
  {
   "cell_type": "markdown",
   "metadata": {},
   "source": [
    "### Pregunta 6\n",
    "Escriu una funció partida() que:\n",
    "+ Crei la combinació secreta\n",
    "+ Vagi creant jugades fins a endevinar-la (per a cada jugada cal veure la jugada i la puntuació).\n",
    "+ Al final mostri la combinació guanyadora i el nombre de jugades que han fet falta per endevinar-la i també el temps esmerçat en la partida"
   ]
  },
  {
   "cell_type": "markdown",
   "metadata": {},
   "source": [
    "### Avaluació (0 a 10 punts)\n",
    "\n",
    "\n",
    "Concepte | Puntuació \n",
    "--- | --- \n",
    "Solució correcta | **8** punts \n",
    "Codi comentat i seguint estàndar PEP8 | **+1** punt \n",
    "Solució descomposada en funcions més petites | **+1** punt \n",
    "L'algorisme falla repetidament | **-7** punts \n",
    "L'algorisme falla en algun cas excepcional | **-2** punt\n",
    "No es donen prous exemples d'execució | **-1** punt\n",
    "Codi, noms de variables, solució o comentaris no prou clars | **-1** punt\n",
    "La funció o els paràmetres no s'anomenen com a l'exemple | **-1** punt"
   ]
  },
  {
   "cell_type": "code",
   "execution_count": 1,
   "metadata": {},
   "outputs": [
    {
     "data": {
      "text/html": [
       "<style><style>\n",
       "\n",
       "@import url('http://fonts.googleapis.com/css?family=Source+Code+Pro');\n",
       "@import url('http://fonts.googleapis.com/css?family=Lora');\n",
       "\n",
       "/*   adapted from https://github.com/edwardtufte/et-book/blob/gh-pages/et-book.css */\n",
       "\n",
       "@charset \"UTF-8\";\n",
       "\n",
       "@font-face {\n",
       "  font-family: \"et-book\";\n",
       "  src: url(\"et-book/roman-line-figures.ttf\") format(\"truetype\");\n",
       "  font-weight: normal;\n",
       "  font-style: normal\n",
       "}\n",
       "\n",
       "@font-face {\n",
       "  font-family: \"et-book\";\n",
       "  src: url(\"et-book/display-italic-old-style-figures.ttf\") format(\"truetype\");\n",
       "  font-weight: normal;\n",
       "  font-style: italic\n",
       "}\n",
       "\n",
       "@font-face {\n",
       "  font-family: \"et-book\";\n",
       "  src: url(\"et-book/bold-line-figures.ttf\") format(\"truetype\");\n",
       "  font-weight: bold;\n",
       "  font-style: normal\n",
       "}\n",
       "\n",
       "@font-face {\n",
       "  font-family: \"et-book-roman-old-style\";\n",
       "  src: url(\"et-book/roman-old-style-figures.ttf\") format(\"truetype\");\n",
       "  font-weight: normal;\n",
       "  font-style: normal;\n",
       "}\n",
       "\n",
       "html {\n",
       "       font-size: 15px !important;\n",
       "}\n",
       "\n",
       ".tema, h1 span { font-size: 14pt;\n",
       "\tfont-style: italic;\n",
       "\tfont-weight: 100;}\n",
       "\n",
       "#capcalera {\tfont-family:Arial;\n",
       "\t\tfont-size:12pt;\n",
       "\t\tbackground-color:#fff1f1;\n",
       "\t\tpadding:5px;\n",
       "\t\t}\n",
       "#peu {\tfont-family:Arial;\n",
       "\tfont-size:12pt;\n",
       "\tbackground-color:#fff1f1;\n",
       "\tpadding:2px;\n",
       "\tline-height:1}\n",
       "\n",
       ".exercici {color:#a60d0d;\n",
       "\t   /* border-width:0 0 2px 2px !important;\n",
       "\t   border-style:solid !important;\n",
       "\t   border-color:#5e3333 !important; */ }\n",
       "\n",
       ".explicacio {}\n",
       "\n",
       ".avaluacio {}\n",
       "\n",
       "\n",
       "#notebook-container, .notebook_cell_list {\n",
       "       font-size: 1rem !important;\n",
       "       line-height: 1.5 !important;\n",
       "       width: 100%  !important;\n",
       "       margin-left: auto !important;\n",
       "       margin-right: auto !important;\n",
       "       padding-left: 12.5% !important;\n",
       "       font-family: et-book, Palatino, \"Palatino Linotype\", \"Palatino LT STD\", \"Book Antiqua\", Georgia, serif  !important;\n",
       "       background-color: #fffff8 !important;\n",
       "       color: #111 !important;\n",
       "       max-width: 1400px !important; }\n",
       "\n",
       " .rendered .input_prompt {\n",
       "\t min-width:0 !important; } \n",
       "\n",
       ".text_cell_render h1, .markdown h1 { \n",
       "     font-weight: 400;\n",
       "     font-style: normal;\n",
       "     margin-top: 0rem;\n",
       "     margin-bottom: 0rem;\n",
       "     font-size: 2rem; }\n",
       "\n",
       " .text_cell_render h2 { font-style: italic;\n",
       "     font-weight: 400;\n",
       "     font-size: 1.5rem;\n",
       "     margin-top: 1.5rem;\n",
       "     margin-bottom: 1.5em; }\n",
       "\n",
       " .text_cell_render h3 { font-style: italic;\n",
       "             font-weight: 400;\n",
       "             margin-top: 1rem;\n",
       "             margin-bottom: 1rem;\n",
       "             font-size: 1.2rem;\n",
       "             display: block; }\n",
       "\n",
       " .text_cell_render h4 {\n",
       "    font-size: 1.1rem;\n",
       "    font-weight: 400;\n",
       "    margin: 1rem auto; }\n",
       "\n",
       ".rendered_html p { \n",
       "\tfont-size: 1rem !important; \n",
       "    \tmargin-top: 1rem !important;;\n",
       "    \tmargin-bottom: 1rem !important;;\n",
       "    \tpadding-right: 0 !important;;\n",
       "    \tvertical-align: baseline !important;; }\n",
       "\n",
       ".rendered_html blockquote { font-size: 1.1rem !important;}\n",
       "\n",
       ".rendered_html ol, ul { width: 75% !important;; }\n",
       "\n",
       ".rendered_html li { padding: 0.5rem 0 !important;; }\n",
       "\n",
       ".rendered_html table {\n",
       "  border-top: 2px solid #111 !important;\n",
       "  border-bottom: 2px solid #111 !important;\n",
       "  font-size: 0.8rem !important;\n",
       "}\n",
       "\n",
       ".rendered_html th {\n",
       "  border-bottom: 1px solid #111 !important;\n",
       "}\n",
       "\t \n",
       ".rendered_html a { text-decoration: none !important;\n",
       "         background: linear-gradient(#fffff8, #fffff8), linear-gradient(#fffff8, #fffff8), linear-gradient(#333, #333);\n",
       "         background-size: 0.05em 1px, 0.05em 1px, 1px 1px;\n",
       "         background-repeat: no-repeat, no-repeat, repeat-x;\n",
       "         text-shadow: 0.03em 0 #fffff8, -0.03em 0 #fffff8, 0 0.03em #fffff8, 0 -0.03em #fffff8, 0.06em 0 #fffff8, -0.06em 0 #fffff8, 0.09em 0 #fffff8, -0.09em 0 #fffff8, 0.12em 0 #fffff8, -0.12em 0 #fffff8, 0.15em 0 #fffff8, -0.15em 0 #fffff8;\n",
       "         background-position: 0% 93%, 100% 93%, 0% 93%; }\n",
       "\n",
       ".rendered_html a:link::selection { text-shadow: 0.03em 0 #b4d5fe, -0.03em 0 #b4d5fe, 0 0.03em #b4d5fe, 0 -0.03em #b4d5fe, 0.06em 0 #b4d5fe, -0.06em 0 #b4d5fe, 0.09em 0 #b4d5fe, -0.09em 0 #b4d5fe, 0.12em 0 #b4d5fe, -0.12em 0 #b4d5fe, 0.15em 0 #b4d5fe, -0.15em 0 #b4d5fe;\n",
       "                    background: #b4d5fe; }\n",
       " \n",
       ".rendered_html pre { \n",
       "\tborder:1px solid #cccccc !important; }\n",
       "\n",
       ".rendered_html * code { \n",
       "\tfont-size: 1rem !important;\n",
       "        line-height: 1.5 !important;\n",
       "\tfont-family: Consolas, \"Liberation Mono\", Menlo, Courier, monospace !important;\n",
       "\tbackground-color: #fff !important }\n",
       "</style> \n",
       "<script>\n",
       "    MathJax.Hub.Config({\n",
       "                        TeX: {\n",
       "                           extensions: [\"AMSmath.js\"],\n",
       "                           equationNumbers: { autoNumber: \"AMS\", useLabelIds: true}\n",
       "                           },\n",
       "                tex2jax: {\n",
       "                    inlineMath: [ ['$','$'], [\"\\\\(\",\"\\\\)\"] ],\n",
       "                    displayMath: [ ['$$','$$'], [\"\\\\[\",\"\\\\]\"] ]\n",
       "                },\n",
       "                displayAlign: 'center', // Change this to 'center' to center equations.\n",
       "                \"HTML-CSS\": {\n",
       "                    scale: 95,\n",
       "                        availableFonts: [],\n",
       "                        preferredFont:null,\n",
       "                        webFont: \"TeX\",\n",
       "                    styles: {'.MathJax_Display': {\"margin\": 4}}\n",
       "                },\n",
       "                 \"fast-preview\": {\n",
       "                    \"disabled\": false\n",
       "                }\n",
       "        });\n",
       "</script>\n",
       "</style>"
      ],
      "text/plain": [
       "<IPython.core.display.HTML object>"
      ]
     },
     "execution_count": 1,
     "metadata": {},
     "output_type": "execute_result"
    }
   ],
   "source": [
    "# Executar aquesta cel.la per donar estil al notebook\n",
    "from IPython.core.display import HTML\n",
    "import requests\n",
    "style=requests.get('https://raw.githubusercontent.com/MireiaUB/algorismica2019.github.io/patch-1/prova.css').text\n",
    "HTML('<style>{}</style>'.format(style))"
   ]
  },
  {
   "cell_type": "markdown",
   "metadata": {},
   "source": [
    "<div id=\"peu\">\n",
    "<p><a href=\"https://colab.research.google.com/github/algorismica2019/algorismica2019.github.io/blob/master/problemes/Mastermind.ipynb\"><img style=\"margin:-10px 10px 20px 0\" width=\"150px\" align=\"right\" src=\"https://raw.githubusercontent.com/algorismica2019/algorismica2019.github.io/master/problemes/assets/colab-badge.png?raw=1\" alt=\"Obrir a Colab\" title=\"Obrir i executar a Google Colaboratory\"></a></p>\n",
    "<p style=\"clear:both;text-align:center\">&lt; <a href=\"8ReinesTaulerEscacs.ipynb\">Problema anterior</a> | <a href=\"LListatProblemes.ipynb\">LListat de problemes</a> | <a href=\"TravelingSalesmanProblem-Original.ipynb\">Problema següent</a> &gt; </p>\n",
    "</div>"
   ]
  }
 ],
 "metadata": {
  "kernelspec": {
   "display_name": "Python 3",
   "language": "python",
   "name": "python3"
  },
  "language_info": {
   "codemirror_mode": {
    "name": "ipython",
    "version": 3
   },
   "file_extension": ".py",
   "mimetype": "text/x-python",
   "name": "python",
   "nbconvert_exporter": "python",
   "pygments_lexer": "ipython3",
   "version": "3.7.3"
  }
 },
 "nbformat": 4,
 "nbformat_minor": 2
}
