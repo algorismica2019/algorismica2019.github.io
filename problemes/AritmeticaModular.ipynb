{
 "cells": [
  {
   "cell_type": "markdown",
   "metadata": {},
   "source": [
    "\n",
    "<div id=\"capcalera\">\n",
    "<p><a href=\"https://colab.research.google.com/github/algorismica2019/algorismica2019.github.io/blob/master/problemes/AritmeticaModular.ipynb\"><img style=\"margin:-10px 10px 20px 0\" width=\"150px\" align=\"right\" src=\"https://raw.githubusercontent.com/algorismica2019/algorismica2019.github.io/master/problemes/assets/colab-badge.png?raw=1\" alt=\"Obrir a Colab\" title=\"Obrir i executar a Google Colaboratory\"></a></p>\n",
    "<p style=\"clear:both\"><img align='left' width=\"300px\" style=\"padding-right:10px;float=left\" src=\"https://raw.githubusercontent.com/algorismica2019/algorismica2019.github.io/master/problemes/assets/al-khwarizmi.png\">Aquest notebook forma part dels continguts teòrics dels problemes de l'assignatura d'<strong>Algorísmica</strong> del Grau d'Enginyeria Informàtica a la <a href=\"https://mat.ub.edu\">Facultat de Matemàtiques i Informàtica</a> de la <a href=\"https://www.ub.edu\">Universitat de Barcelona</a> impartida per <em>Jordi Vitrià</em> i <em>Mireia Ribera</em></p>\n",
    "\n",
    "<p>Els problemes s'ofereixen sota llicència <a href=\"https://creativecommons.org/licenses/by-nc-nd/3.0/us/legalcode\">CC-BY-NC-ND license</a>, i el codi sota <a href=\"https://opensource.org/licenses/MIT\">Llicència MIT</a>.</p>\n",
    "\n",
    "<p style=\"clear:both;text-align:center\">&lt; <a href=\"ExpressionsRegulars.ipynb\">ExpressionsRegulars</a> | <a href=\"Teoria.ipynb\">Explicacions teòriques</a> | <a href=\"LListatProblemes.ipynb\">LListat de problemes</a> | <a href=\"Combinacions.ipynb\">Combinacions</a> &gt; </p>\n",
    "\n",
    "</div>"
   ]
  },
  {
   "cell_type": "markdown",
   "metadata": {},
   "source": [
    "# <span class=\"tema\">( Continguts teòrics)</span> Aritmètica Modular"
   ]
  },
  {
   "cell_type": "markdown",
   "metadata": {},
   "source": [
    "L'aritmètica modular es basa en tot de propietats que compleixen els residus de les divisions en els enters.\n",
    "\n",
    "Aquestes propietats són molt útils en criptografia i en codificació."
   ]
  },
  {
   "cell_type": "code",
   "execution_count": 1,
   "metadata": {},
   "outputs": [
    {
     "name": "stdout",
     "output_type": "stream",
     "text": [
      "12\n",
      "1\n"
     ]
    }
   ],
   "source": [
    "# Els operadors principals de l'aritmètica modular són la divisió entera i el mòdul\n",
    "a=25\n",
    "b=2\n",
    "print(a // b)  # retorna el divisor sense decimals \n",
    "print(a % b)   # retorna el residu"
   ]
  },
  {
   "cell_type": "code",
   "execution_count": 2,
   "metadata": {},
   "outputs": [
    {
     "name": "stdout",
     "output_type": "stream",
     "text": [
      "1\n",
      "1\n",
      "1\n"
     ]
    }
   ],
   "source": [
    "# Fixeu-vos que 1 % qualsevol valor sempre és 1\n",
    "print(1 % 3)\n",
    "print(1 % 12)\n",
    "print(1 % 7)"
   ]
  },
  {
   "cell_type": "markdown",
   "metadata": {},
   "source": [
    "Diem que dos enters són congruents mòdul N quan la seva divisió entera per N obté el mateix residu. Si compleixen aquesta condició ho escriurem:\n",
    "\n",
    "**x ≡ y (mod N)**\n",
    "\n",
    "x és congruent amb y (mod N)\n",
    "si el residu de x // N és el mateix que el residu de y // N\n",
    "\n",
    "això es pot formular de manera més simplificada com:\n",
    "\n",
    "**x ≡ y (mod N) si i només si N divideix (x-y)**"
   ]
  },
  {
   "cell_type": "markdown",
   "metadata": {},
   "source": [
    "Gràficament la congruència es pot mostrar amb un recorregut circular:\n",
    "<img src=\"modular.png\" width=\"400\">\n",
    "\n",
    "Font:[Khan Academy ‘Modular addition and substraction’](https://www.khanacademy.org/computing/computer-science/cryptography/modarithmetic/a/modular-addition-and-subtraction) Consultat 26 d'agost de 2019"
   ]
  },
  {
   "cell_type": "code",
   "execution_count": 3,
   "metadata": {},
   "outputs": [
    {
     "name": "stdout",
     "output_type": "stream",
     "text": [
      "3\n",
      "3\n",
      "a és congruent amb b modul 10?  True\n",
      "a és congruent amb b modul 10?  True\n"
     ]
    }
   ],
   "source": [
    "# Exemple\n",
    "a=133\n",
    "b=3\n",
    "modul=10\n",
    "print (a % modul)\n",
    "print (b % modul)\n",
    "print (\"a és congruent amb b modul 10? \",a % modul == b % modul)\n",
    "print (\"a és congruent amb b modul 10? \",(a-b) % modul == 0)"
   ]
  },
  {
   "cell_type": "markdown",
   "metadata": {},
   "source": [
    "Les operacions aritmètiques bàsiques (suma,resta i multiplicació) realitzades amb nombres dins el conjunt dels mòduls retornen també nombres dins aquest conjunt o + N . Així es poden realitzar els càlculs de mòduls de manera més eficient. Aquesta és la base teòrica de l’aritmètica modular.\n",
    "\n",
    "També a aritmètica modular definim l'**invers multiplicatiu**. Direm que x és l'invers multiplicatiu d'a (mod N) si:\n",
    "\n",
    "a * x ≡ 1 (mod N)\n",
    "\n",
    "Atenció: no tots els nombres tenen un invers multiplicatiu per qualsevol N. "
   ]
  },
  {
   "cell_type": "code",
   "execution_count": 4,
   "metadata": {},
   "outputs": [
    {
     "name": "stdout",
     "output_type": "stream",
     "text": [
      "1\n",
      "1\n"
     ]
    }
   ],
   "source": [
    "# Exemple\n",
    "a = 5\n",
    "x = 10\n",
    "N = 7\n",
    "print((a * x) % N)\n",
    "print(1 % N)\n",
    "\n",
    "# 10 és l'invers multiplicatiu de 5 (mod 7)"
   ]
  },
  {
   "cell_type": "code",
   "execution_count": 5,
   "metadata": {},
   "outputs": [
    {
     "name": "stdout",
     "output_type": "stream",
     "text": [
      "1\n",
      "1\n"
     ]
    }
   ],
   "source": [
    "# suma; si ens sortim del domini li restem N => O(n)\n",
    "a = 3\n",
    "b = 7\n",
    "N = 9\n",
    "print((a + b) % N)\n",
    "if ((a+b)>N): \n",
    "    print((a+b)-N) \n",
    "else: \n",
    "    print(a+b)"
   ]
  },
  {
   "cell_type": "code",
   "execution_count": 6,
   "metadata": {},
   "outputs": [
    {
     "name": "stdout",
     "output_type": "stream",
     "text": [
      "5\n",
      "5\n"
     ]
    }
   ],
   "source": [
    "# resta; si ens sortim del domini li sumem N  => O(n)\n",
    "a = 3\n",
    "b = 7\n",
    "N = 9\n",
    "if ((a-b)<0): \n",
    "    print((a-b)+N) \n",
    "else: \n",
    "    print(a-b)\n",
    "    \n",
    "print((a-b)%N)"
   ]
  },
  {
   "cell_type": "code",
   "execution_count": 7,
   "metadata": {},
   "outputs": [
    {
     "name": "stdout",
     "output_type": "stream",
     "text": [
      "3\n",
      "3\n"
     ]
    }
   ],
   "source": [
    "# multiplicació com a màxim valdrà (N-1)^2; si ens passem de N caldrà fer el mòdul del resultat  => O (n^2)\n",
    "a = 3\n",
    "b = 7\n",
    "N = 9\n",
    "if (a*b)>N:\n",
    "    print ((a*b)%N)\n",
    "else:\n",
    "    print(a*b)\n",
    "print((a * b) % N)"
   ]
  },
  {
   "cell_type": "code",
   "execution_count": 8,
   "metadata": {},
   "outputs": [
    {
     "name": "stdout",
     "output_type": "stream",
     "text": [
      "x,y,N,bin(y) 456 25 43 0b11001\n",
      "\n",
      "\n",
      "(x**y)%N 28\n",
      "(x**b)%N 28\n",
      "\n",
      "\n",
      "((((x**0b10000) % N * (x**0b1000)) % N * (x**0b1)) % N) % N:  28\n",
      "x**0b10000:   (^16 sense mòdul)                               3494921960298010472437035123666929011654656\n",
      "(((x**2)**2)**2)**2:  (demostració potències de 2 recursives) 3494921960298010472437035123666929011654656\n",
      "(x**0b10000)%N:       (^16 amb mòdul)                         14\n",
      "(((((((x**2)%N)**2)%N)**2)%N)**2)%N: (càlcul recursiu ^16)    14\n",
      "(x**2)%N:                            (càlcul intermig)        31\n",
      "(((x**2)%N)**2)%N:                   (càlcul intermig)        15\n",
      "(((((x**2)%N)**2)%N)**2)%N:          (càlcul intermig)        10\n",
      "\n",
      "\n",
      "pow(x,y,N) 28\n"
     ]
    }
   ],
   "source": [
    "# exponenciació => O(n^3)\n",
    "\n",
    "x = 456\n",
    "y = 25\n",
    "N = 43\n",
    "b = bin(y)\n",
    "print(\"x, y, N, bin(y)\", x, y, N, b)\n",
    "print()\n",
    "print()\n",
    "\n",
    "print(\"(x ** y) % N\", (x ** y) % N)\n",
    "print(\"(x ** b) % N\", (x ** 0b11001) % N)\n",
    "print()\n",
    "print()\n",
    "\n",
    "\n",
    "print(\"((((x**0b10000) % N * (x**0b1000)) % N * (x ** 0b1)) % N) % N: \",((((x**0b10000) % N * (x**0b1000)) % N * (x**0b1)) % N) % N)\n",
    "print(\"x ** 0b10000:   (^16 sense mòdul)                              \",x**0b10000)\n",
    "print(\"(((x ** 2) ** 2) ** 2) ** 2:  (demostració potències de 2 recursives)\",(((x**2)**2)**2)**2)\n",
    "print(\"(x ** 0b10000) % N:       (^16 amb mòdul)                        \",(x**0b10000)%N)\n",
    "print(\"(((((((x ** 2) % N) ** 2) % N) ** 2) % N) ** 2) % N: (càlcul recursiu ^16)   \",(((((((x**2)%N)**2)%N)**2)%N)**2)%N)\n",
    "print(\"(x ** 2) % N:                            (càlcul intermig)       \",(x**2)%N)\n",
    "print(\"(((x ** 2) % N) ** 2) % N:                   (càlcul intermig)       \",(((x**2)%N)**2)%N)\n",
    "print(\"(((((x ** 2) % N) ** 2) % N) ** 2) % N:          (càlcul intermig)       \",(((((x**2)%N)**2)%N)**2)%N)\n",
    "\n",
    "# A Python l'operació d'exponenciació pow(x,y) usa aritmètica modular i podem expressar l'anterior expressió com a:\n",
    "print()\n",
    "print()\n",
    "print(\"pow(x, y, N)\",pow(x, y, N))"
   ]
  },
  {
   "cell_type": "code",
   "execution_count": 2,
   "metadata": {},
   "outputs": [
    {
     "data": {
      "text/html": [
       "<style><style>\n",
       "\n",
       "@import url('http://fonts.googleapis.com/css?family=Source+Code+Pro');\n",
       "@import url('http://fonts.googleapis.com/css?family=Lora');\n",
       "\n",
       "/*   adapted from https://github.com/edwardtufte/et-book/blob/gh-pages/et-book.css */\n",
       "\n",
       "@charset \"UTF-8\";\n",
       "\n",
       "@font-face {\n",
       "  font-family: \"et-book\";\n",
       "  src: url(\"et-book/roman-line-figures.ttf\") format(\"truetype\");\n",
       "  font-weight: normal;\n",
       "  font-style: normal\n",
       "}\n",
       "\n",
       "@font-face {\n",
       "  font-family: \"et-book\";\n",
       "  src: url(\"et-book/display-italic-old-style-figures.ttf\") format(\"truetype\");\n",
       "  font-weight: normal;\n",
       "  font-style: italic\n",
       "}\n",
       "\n",
       "@font-face {\n",
       "  font-family: \"et-book\";\n",
       "  src: url(\"et-book/bold-line-figures.ttf\") format(\"truetype\");\n",
       "  font-weight: bold;\n",
       "  font-style: normal\n",
       "}\n",
       "\n",
       "@font-face {\n",
       "  font-family: \"et-book-roman-old-style\";\n",
       "  src: url(\"et-book/roman-old-style-figures.ttf\") format(\"truetype\");\n",
       "  font-weight: normal;\n",
       "  font-style: normal;\n",
       "}\n",
       "\n",
       "html {\n",
       "       font-size: 15px !important;\n",
       "}\n",
       "\n",
       ".tema, h1 span { font-size: 14pt;\n",
       "\tfont-style: italic;\n",
       "\tfont-weight: 100;}\n",
       "\n",
       "#capcalera {\tfont-family:Arial;\n",
       "\t\tfont-size:12pt;\n",
       "\t\tbackground-color:#fff1f1;\n",
       "\t\tpadding:5px;\n",
       "\t\t}\n",
       "#peu {\tfont-family:Arial;\n",
       "\tfont-size:12pt;\n",
       "\tbackground-color:#fff1f1;\n",
       "\tpadding:2px;\n",
       "\tline-height:1}\n",
       "\n",
       ".exercici {color:#a60d0d;\n",
       "\t   /* border-width:0 0 2px 2px !important;\n",
       "\t   border-style:solid !important;\n",
       "\t   border-color:#5e3333 !important; */ }\n",
       "\n",
       ".explicacio {}\n",
       "\n",
       ".avaluacio {}\n",
       "\n",
       "\n",
       "#notebook-container, .notebook_cell_list {\n",
       "       font-size: 1rem !important;\n",
       "       line-height: 1.5 !important;\n",
       "       width: 100%  !important;\n",
       "       margin-left: auto !important;\n",
       "       margin-right: auto !important;\n",
       "       padding-left: 12.5% !important;\n",
       "       font-family: et-book, Palatino, \"Palatino Linotype\", \"Palatino LT STD\", \"Book Antiqua\", Georgia, serif  !important;\n",
       "       background-color: #fffff8 !important;\n",
       "       color: #111 !important;\n",
       "       max-width: 1400px !important; }\n",
       "\n",
       " .rendered .input_prompt {\n",
       "\t min-width:0 !important; } \n",
       "\n",
       ".text_cell_render h1, .markdown h1 { \n",
       "     font-weight: 400;\n",
       "     font-style: normal;\n",
       "     margin-top: 0rem;\n",
       "     margin-bottom: 0rem;\n",
       "     font-size: 2rem; }\n",
       "\n",
       " .text_cell_render h2 { font-style: italic;\n",
       "     font-weight: 400;\n",
       "     font-size: 1.5rem;\n",
       "     margin-top: 1.5rem;\n",
       "     margin-bottom: 1.5em; }\n",
       "\n",
       " .text_cell_render h3 { font-style: italic;\n",
       "             font-weight: 400;\n",
       "             margin-top: 1rem;\n",
       "             margin-bottom: 1rem;\n",
       "             font-size: 1.2rem;\n",
       "             display: block; }\n",
       "\n",
       " .text_cell_render h4 {\n",
       "    font-size: 1.1rem;\n",
       "    font-weight: 400;\n",
       "    margin: 1rem auto; }\n",
       "\n",
       ".rendered_html p { \n",
       "\tfont-size: 1rem !important; \n",
       "    \tmargin-top: 1rem !important;;\n",
       "    \tmargin-bottom: 1rem !important;;\n",
       "    \tpadding-right: 0 !important;;\n",
       "    \tvertical-align: baseline !important;; }\n",
       "\n",
       ".rendered_html blockquote { font-size: 1.1rem !important;}\n",
       "\n",
       ".rendered_html ol, ul { width: 75% !important;; }\n",
       "\n",
       ".rendered_html li { padding: 0.5rem 0 !important;; }\n",
       "\n",
       ".rendered_html table {\n",
       "  border-top: 2px solid #111 !important;\n",
       "  border-bottom: 2px solid #111 !important;\n",
       "  font-size: 0.8rem !important;\n",
       "}\n",
       "\n",
       ".rendered_html th {\n",
       "  border-bottom: 1px solid #111 !important;\n",
       "}\n",
       "\t \n",
       ".rendered_html a { text-decoration: none !important;\n",
       "         background: linear-gradient(#fffff8, #fffff8), linear-gradient(#fffff8, #fffff8), linear-gradient(#333, #333);\n",
       "         background-size: 0.05em 1px, 0.05em 1px, 1px 1px;\n",
       "         background-repeat: no-repeat, no-repeat, repeat-x;\n",
       "         text-shadow: 0.03em 0 #fffff8, -0.03em 0 #fffff8, 0 0.03em #fffff8, 0 -0.03em #fffff8, 0.06em 0 #fffff8, -0.06em 0 #fffff8, 0.09em 0 #fffff8, -0.09em 0 #fffff8, 0.12em 0 #fffff8, -0.12em 0 #fffff8, 0.15em 0 #fffff8, -0.15em 0 #fffff8;\n",
       "         background-position: 0% 93%, 100% 93%, 0% 93%; }\n",
       "\n",
       ".rendered_html a:link::selection { text-shadow: 0.03em 0 #b4d5fe, -0.03em 0 #b4d5fe, 0 0.03em #b4d5fe, 0 -0.03em #b4d5fe, 0.06em 0 #b4d5fe, -0.06em 0 #b4d5fe, 0.09em 0 #b4d5fe, -0.09em 0 #b4d5fe, 0.12em 0 #b4d5fe, -0.12em 0 #b4d5fe, 0.15em 0 #b4d5fe, -0.15em 0 #b4d5fe;\n",
       "                    background: #b4d5fe; }\n",
       " \n",
       ".rendered_html pre { \n",
       "\tborder:1px solid #cccccc !important; }\n",
       "\n",
       ".rendered_html * code { \n",
       "\tfont-size: 1rem !important;\n",
       "        line-height: 1.5 !important;\n",
       "\tfont-family: Consolas, \"Liberation Mono\", Menlo, Courier, monospace !important;\n",
       "\tbackground-color: #fff !important }\n",
       "</style> \n",
       "<script>\n",
       "    MathJax.Hub.Config({\n",
       "                        TeX: {\n",
       "                           extensions: [\"AMSmath.js\"],\n",
       "                           equationNumbers: { autoNumber: \"AMS\", useLabelIds: true}\n",
       "                           },\n",
       "                tex2jax: {\n",
       "                    inlineMath: [ ['$','$'], [\"\\\\(\",\"\\\\)\"] ],\n",
       "                    displayMath: [ ['$$','$$'], [\"\\\\[\",\"\\\\]\"] ]\n",
       "                },\n",
       "                displayAlign: 'center', // Change this to 'center' to center equations.\n",
       "                \"HTML-CSS\": {\n",
       "                    scale: 95,\n",
       "                        availableFonts: [],\n",
       "                        preferredFont:null,\n",
       "                        webFont: \"TeX\",\n",
       "                    styles: {'.MathJax_Display': {\"margin\": 4}}\n",
       "                },\n",
       "                 \"fast-preview\": {\n",
       "                    \"disabled\": false\n",
       "                }\n",
       "        });\n",
       "</script>\n",
       "</style>"
      ],
      "text/plain": [
       "<IPython.core.display.HTML object>"
      ]
     },
     "execution_count": 2,
     "metadata": {},
     "output_type": "execute_result"
    }
   ],
   "source": [
    "# Executar aquesta cel.la per donar estil al notebook\n",
    "from IPython.core.display import HTML\n",
    "import requests\n",
    "style=requests.get('https://raw.githubusercontent.com/algorismica2019/algorismica2019.github.io/master/problemes/assets/prova.css').text\n",
    "HTML('<style>{}</style>'.format(style))"
   ]
  },
  {
   "cell_type": "markdown",
   "metadata": {},
   "source": [
    "<div id=\"peu\">\n",
    "<p><a href=\"https://colab.research.google.com/github/algorismica2019/algorismica2019.github.io/blob/master/problemes/AritmeticaModular.ipynb\"><img style=\"margin:-10px 10px 20px 0\" width=\"150px\" align=\"right\" src=\"https://raw.githubusercontent.com/algorismica2019/algorismica2019.github.io/master/problemes/assets/colab-badge.png?raw=1\" alt=\"Obrir a Colab\" title=\"Obrir i executar a Google Colaboratory\"></a></p>\n",
    "<p style=\"clear:both;text-align:center\">&lt; <a href=\"ExpressionsRegulars.ipynb\">ExpressionsRegulars</a> | <a href=\"Teoria.ipynb\">Explicacions teòriques</a> | <a href=\"LListatProblemes.ipynb\">LListat de problemes</a> | <a href=\"Combinacions.ipynb\">Combinacions</a> &gt; </p>\n",
    "</div>"
   ]
  }
 ],
 "metadata": {
  "kernelspec": {
   "display_name": "Python 3",
   "language": "python",
   "name": "python3"
  },
  "language_info": {
   "codemirror_mode": {
    "name": "ipython",
    "version": 3
   },
   "file_extension": ".py",
   "mimetype": "text/x-python",
   "name": "python",
   "nbconvert_exporter": "python",
   "pygments_lexer": "ipython3",
   "version": "3.7.3"
  }
 },
 "nbformat": 4,
 "nbformat_minor": 1
}
