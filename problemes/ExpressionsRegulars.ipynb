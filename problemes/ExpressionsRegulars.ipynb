{
 "cells": [
  {
   "cell_type": "markdown",
   "metadata": {},
   "source": [
    "\n",
    "<div id=\"capcalera\">\n",
    "<p><a href=\"https://colab.research.google.com/github/algorismica2019/algorismica2019.github.io/blob/master/problemes/ExpressionsRegulars.ipynb\"><img style=\"margin:-10px 10px 20px 0\" width=\"150px\" align=\"right\" src=\"https://raw.githubusercontent.com/algorismica2019/algorismica2019.github.io/master/problemes/assets/colab-badge.png?raw=1\" alt=\"Obrir a Colab\" title=\"Obrir i executar a Google Colaboratory\"></a></p>\n",
    "<p style=\"clear:both\"><img align='left' width=\"300px\" style=\"padding-right:10px;float=left\" src=\"https://raw.githubusercontent.com/algorismica2019/algorismica2019.github.io/master/problemes/assets/al-khwarizmi.png\">Aquest notebook forma part dels continguts teòrics dels problemes de l'assignatura d'<strong>Algorísmica</strong> deL Grau d'Enginyeria Informàtica a la <a href=\"https://mat.ub.edu\">Facultat de Matemàtiques i Informàtica</a> de la <a href=\"https://www.ub.edu\">Universitat de Barcelona</a> impartida per <em>Jordi Vitrià</em> i <em>Mireia Ribera</em></p>\n",
    "\n",
    "<p>Els problemes s'ofereixen sota llicència <a href=\"https://creativecommons.org/licenses/by-nc-nd/3.0/us/legalcode\">CC-BY-NC-ND license</a>, i el codi sota <a href=\"https://opensource.org/licenses/MIT\">Llicència MIT</a>.</p>\n",
    "\n",
    "<p style=\"clear:both;text-align:center\">&lt; <a href=\"ListComprehensions.ipynb\">List Comprehensions</a> | <a href=\"Teoria.ipynb\">Explicacions teòriques</a> | <a href=\"LListatProblemes.ipynb\">LListat de problemes</a> | <a href=\"AritmeticaModular.ipynb\">AritmeticaModular</a> &gt; </p>\n",
    "\n",
    "</div>"
   ]
  },
  {
   "cell_type": "markdown",
   "metadata": {},
   "source": [
    "# <span class=\"tema\">( Continguts teòrics)</span> Expressions regulars"
   ]
  },
  {
   "cell_type": "markdown",
   "metadata": {},
   "source": [
    "Les expressions regulars són una manera de descriure un conjunt de cadenes de caràcters que segueixen un patró determinat.\n",
    "\n",
    "### Construcció d'expressions\n",
    "Per indicar el patró se segueixen unes pautes donades:\n",
    "\n",
    "+ Inclusió d'un caràcter en un rang donat [x-y]. Per ex. L'expressió regular [a-z] descriu totes les cadenes de caràcters amb un caràcter que es correspon amb les lletres abcd...uvwxyz\n",
    "+ Inclusió d'un caràcter en una seqüència donada [xyz]. Per ex. L'expressió regular [123] descriu totes les cadenes de caràcters amb el nombre 1, o el nombre 2 o el nombre 3.\n",
    "+ Exclusió [^x]. Per ex. L'expressió regular [^5] descriu totes les cadenes de caràcters que no contenen el caràcter \"5\"\n",
    "+ Metacaràcters\n",
    "    + \\d Qualsevol dígit, equivalent a [0-9].\n",
    "    + \\D Qualsevol caràcter no dígit, equivalent a [^0-9].\n",
    "    + \\s Qualsevol caràcter en blanc, equivalent a [ \\t\\n\\r\\f\\v].\n",
    "    + \\S Qualsevol caràcter no blanc, equivalent a [^ \\t\\n\\r\\f\\v].\n",
    "    + \\w Qualsevol caràcter alfanumèric, equivalent a [a-zA-Z0-9_].\n",
    "    + \\W Qualsevol caràcter no alfanumèric, equivalent a [^a-zA-Z0-9_].\n",
    "+ Repetició (amb quantificadors): \n",
    "    + \\* 0 o n repeticions. Per ex.ca*t descriu ct, cat, caat, caaat,...\n",
    "    + \\+ 1 o n repeticions. Per ex.ca+t descriu cat, caat, caaat, ...\n",
    "    + {x} x repeticions exactament. Per ex. ca{2}t descriu caat\n",
    "+ Alternativa\n",
    "    + Amb la barra | indiquem que volem una o l'altra expressió. Per ex. c(a|e)t descriu cat i cet\n",
    "    \n",
    "### Concatenació d'expressions\n",
    "+ Les diferentes expressions es poden concatenar simplement posant-les una darrera l'altra\n",
    "+ A vegades ens caldrà agrupar-les amb parèntesi per indicar a qui afecta un determinat quantificador\n",
    "\n",
    "## Com usar expressions regulars a Python\n",
    "\n",
    "Per usar les expressions regulars a Python ens cal importar el mòdul re\n",
    "\n",
    "import re\n",
    "\n",
    "després \"compilem\" l'expressió en un patró\n",
    "p = re.compile('ab*') \n",
    "\n",
    "si en una expressió regular volem fer servir directament el caràcter \\, podem compilar-la \"en cru\" (raw)\n",
    "\n",
    "\"\\\\\\\\section\" ==r\"\\\\section\"\n",
    "\n",
    "un cop tenim el patró creat, podem començar a treballar amb les cadenes i l'expressió regular:\n",
    "\n",
    "+ match() : determina si l'expressió regular encaixa amb el principi de la cadena\n",
    "+ search(): busca el patró a qualsevol lloc de la cadena\n",
    "+ findall(): busca tots els encaixos amb el patró i els retorna com una llista\n",
    "+ group(): torna la cadena que encaixa amb el patró\n",
    "+ start(): torna la posició inicial de la cadena que encaixa amb el patró\n",
    "+ end(): torna la posició final de la cadena que encaixa amb el patró\n",
    "+ span(): torna una tupla amb la posició inicial i final de la cadena que encaixa amb el patró"
   ]
  },
  {
   "cell_type": "code",
   "execution_count": 1,
   "metadata": {},
   "outputs": [
    {
     "name": "stdout",
     "output_type": "stream",
     "text": [
      "Fantàstic!\n",
      "Glups!\n"
     ]
    }
   ],
   "source": [
    "import re\n",
    "def check_expression(patro, text):\n",
    "    patrocompilat = re.compile(patro)\n",
    "\n",
    "    if patrocompilat.search(text):\n",
    "        print(\"Fantàstic!\")\n",
    "    else:\n",
    "        print(\"Glups!\")\n",
    "        \n",
    "\n",
    "check_expression(r\"ase\", \"Una frase qualsevol\")\n",
    "\n",
    "check_expression(r\"abc\", \"Una frase qualsevol\")"
   ]
  },
  {
   "cell_type": "markdown",
   "metadata": {},
   "source": [
    "si en una expressió regular volem fer servir un caràcter \"reservat\", afegim una barra al davant"
   ]
  },
  {
   "cell_type": "code",
   "execution_count": 2,
   "metadata": {},
   "outputs": [
    {
     "name": "stdout",
     "output_type": "stream",
     "text": [
      "Fantàstic!\n",
      "Glups!\n"
     ]
    }
   ],
   "source": [
    "check_expression(r\"ase\\.\", \"Una frase. Una altra frase\")\n",
    "\n",
    "check_expression(r\"altra\\.\", \"Una frase. Una altra frase\")"
   ]
  },
  {
   "cell_type": "markdown",
   "metadata": {},
   "source": [
    "Per buscar text que comenci o acabi per un cert string, afegim els caràcters __^__ i __$__:"
   ]
  },
  {
   "cell_type": "code",
   "execution_count": 3,
   "metadata": {},
   "outputs": [
    {
     "name": "stdout",
     "output_type": "stream",
     "text": [
      "Fantàstic!\n",
      "Glups!\n",
      "\n",
      "Fantàstic!\n",
      "Glups!\n"
     ]
    }
   ],
   "source": [
    "check_expression(r\"^Una\", \"Una frase qualsevol\")\n",
    "\n",
    "check_expression(r\"^frase\", \"Una frase qualsevol\")\n",
    "\n",
    "print()\n",
    "\n",
    "check_expression(r\"vol$\", \"Una frase qualsevol\")\n",
    "\n",
    "check_expression(r\"frase$\", \"Una frase qualsevol\")"
   ]
  },
  {
   "cell_type": "markdown",
   "metadata": {},
   "source": [
    "Per buscar en un rang, usem  __[ ]__ on: __\\d__ és [0-9], __\\w__ és [a-zA-Z0-9]:"
   ]
  },
  {
   "cell_type": "code",
   "execution_count": null,
   "metadata": {},
   "outputs": [],
   "source": [
    "check_expression(r\"2[0-5]\", \"25-32-67\")\n",
    "\n",
    "check_expression(r\"[3-7][4-6]\", \"25-32-67\")\n",
    "\n",
    "check_expression(r\"\\d-\\d-\\d\", \"25-32-67\")\n",
    "\n",
    "check_expression(r\"\\w-\\d\", \"aaaa-9999-aaaa-9999\")"
   ]
  },
  {
   "cell_type": "markdown",
   "metadata": {},
   "source": [
    "Alguns caràcters importants:\n",
    "1. Per indicar __un caràcter qualsevol__, un punt: __.__ \n",
    "2. Per indicar __qualsevol nombre de repeticions__ d'un caràcter (pot ser 0), asterisc: __*__\n",
    "3. Per indicar __com a mínim una repetició__ d'un caràcter, suma: __+__\n",
    "4. Per indicar que un caràcter __pot no aparèixer__, interrogant: __?__\n",
    "\n",
    "Podem aplicar-ho també a una expressió sencera, que posarem entre parèntesis"
   ]
  },
  {
   "cell_type": "code",
   "execution_count": 4,
   "metadata": {},
   "outputs": [
    {
     "name": "stdout",
     "output_type": "stream",
     "text": [
      "Fantàstic!\n",
      "Glups!\n",
      "\n",
      "Fantàstic!\n",
      "\n",
      "Glups!\n",
      "Fantàstic!\n",
      "\n",
      "Fantàstic!\n"
     ]
    }
   ],
   "source": [
    "check_expression(r\"2.-\", \"25-32-67\")\n",
    "check_expression(r\"7.\", \"25-32-67\")\n",
    "print()\n",
    "check_expression(r\"abb*\", \"abaaab\")\n",
    "print()\n",
    "check_expression(r\"abb+\", \"abaaab\")\n",
    "check_expression(r\"(ab)+\", \"abaaab\")\n",
    "print()\n",
    "check_expression(r\"abb?a\", \"abaaab\")"
   ]
  },
  {
   "cell_type": "markdown",
   "metadata": {},
   "source": [
    "Com hem vist, els parèntesis ens marquen que __tot__ ha de complir. Podem usar un _or_ lògic: __|__:"
   ]
  },
  {
   "cell_type": "code",
   "execution_count": 5,
   "metadata": {},
   "outputs": [
    {
     "name": "stdout",
     "output_type": "stream",
     "text": [
      "Fantàstic!\n"
     ]
    }
   ],
   "source": [
    "check_expression(r\"(una)|(Una)\", \"Una frase qualsevol\")"
   ]
  },
  {
   "cell_type": "markdown",
   "metadata": {},
   "source": [
    "Les claus __{ }__ les usem per indicar que alguna expressió es __repeteix__:"
   ]
  },
  {
   "cell_type": "code",
   "execution_count": 6,
   "metadata": {},
   "outputs": [
    {
     "name": "stdout",
     "output_type": "stream",
     "text": [
      "Fantàstic!\n"
     ]
    }
   ],
   "source": [
    "check_expression(r\"(\\w{3}-){5}\\w{3}\", \"123-456-789-aaa-bbb-ccc\")"
   ]
  },
  {
   "cell_type": "markdown",
   "metadata": {},
   "source": [
    "També podem marcar que es repeteixi en un \"rang de cops\" fent __{min, max}__"
   ]
  },
  {
   "cell_type": "code",
   "execution_count": 7,
   "metadata": {},
   "outputs": [
    {
     "name": "stdout",
     "output_type": "stream",
     "text": [
      "Fantàstic!\n",
      "Glups!\n",
      "Fantàstic!\n"
     ]
    }
   ],
   "source": [
    "check_expression(r\"(\\w{3}-){5,7}\", \"123-456-789-aaa-bbb-ccc\")\n",
    "check_expression(r\"(\\w{3}-){5,7}\", \"123-456\")\n",
    "\n",
    "# Compte aquest últim! Pot semblar que sigui fals ja que es repeteix 8 cops\n",
    "# Però li hem dit que com a mínim n'hi hagin 5,6 o 7 (que si que hi són)\n",
    "check_expression(r\"(\\w{3}-){5,7}\", \"123-456-789-aaa-bbb-ccc-ddd-888\")"
   ]
  },
  {
   "cell_type": "markdown",
   "metadata": {},
   "source": [
    "A banda de search, podem usar altres operadors amb les cadenes i l'expressió regular:\n",
    "\n",
    "+ match() : determina si l'expressió regular encaixa amb el principi de la cadena\n",
    "+ findall(): busca tots els encaixos amb el patró i els retorna com una llista\n",
    "+ group(): torna la cadena que encaixa amb el patró\n",
    "+ start(): torna la posició inicial de la cadena que encaixa amb el patró\n",
    "+ end(): torna la posició final de la cadena que encaixa amb el patró\n",
    "+ span(): torna una tupla amb la posició inicial i final de la cadena que encaixa amb el patró\n",
    "\n",
    "## Exemples"
   ]
  },
  {
   "cell_type": "code",
   "execution_count": 1,
   "metadata": {},
   "outputs": [
    {
     "name": "stdout",
     "output_type": "stream",
     "text": [
      "Match at index 0, 7\n",
      "Full match: June 24\n"
     ]
    }
   ],
   "source": [
    "import re\n",
    "regex = r\"([a-zA-Z]+) (\\d+)\"\n",
    "if re.search(regex, \"June 24\"):\n",
    "    match = re.search(regex, \"June 24\")\n",
    "    print(\"Match at index %s, %s\" % (match.start(), match.end()))\n",
    "    print(\"Full match: %s\" % (match.group()))\n",
    "else:\n",
    "    print(\"The regex pattern does not match. :(\")"
   ]
  },
  {
   "cell_type": "code",
   "execution_count": 2,
   "metadata": {},
   "outputs": [
    {
     "name": "stdout",
     "output_type": "stream",
     "text": [
      "I found one!\n"
     ]
    }
   ],
   "source": [
    "import re\n",
    "line = \"He is a German called Mayer.\"\n",
    "if re.search(r\"M[ae][iy]er\",line): print(\"I found one!\")"
   ]
  },
  {
   "cell_type": "code",
   "execution_count": 3,
   "metadata": {},
   "outputs": [
    {
     "name": "stdout",
     "output_type": "stream",
     "text": [
      "I found one!\n"
     ]
    }
   ],
   "source": [
    "line = \"He is a German called Meier.\"\n",
    "if re.search(r\"M[ae][iy]er\",line): print(\"I found one!\")"
   ]
  },
  {
   "cell_type": "code",
   "execution_count": 4,
   "metadata": {},
   "outputs": [
    {
     "name": "stdout",
     "output_type": "stream",
     "text": [
      "232454\n",
      "(17, 23)\n",
      "17\n",
      "23\n",
      "17\n",
      "23\n"
     ]
    }
   ],
   "source": [
    "import re\n",
    "mo = re.search(\"[0-9]+\", \"Customer number: 232454, Date: February 12, 2011\")\n",
    "print(mo.group())\n",
    "print(mo.span())\n",
    "print(mo.start())\n",
    "print(mo.end())\n",
    "print(mo.span()[0])\n",
    "print(mo.span()[1])"
   ]
  },
  {
   "cell_type": "markdown",
   "metadata": {},
   "source": [
    "### <span class=\"exercici\">Exercici 1: Comprovar si un nom d'usuari és correcte. Per a ser-ho ha de complir</span>\n",
    "\n",
    "1. Ser una cadena de més de 5 lletres que no contingui números\n",
    "2. Seguida d'un número d'una sola xifra\n",
    "3. Seguida del signe _@_\n",
    "4. Seguit d'una de les paraules: _alumnes, alumni, docent, admin_\n",
    "6. Seguit d'un punt: .\n",
    "7. Seguit de la paraula: _ub.edu_\n",
    "\n",
    "Per exemple:\n",
    "    \n",
    "mpiclup7@alumnes.ub.edu"
   ]
  },
  {
   "cell_type": "code",
   "execution_count": null,
   "metadata": {},
   "outputs": [],
   "source": [
    "# Escriure aquí el patró\n",
    "regex =r\" write your pattern here \"\n",
    "\n",
    "texts=[\"mpiclup7@alumnes.ub.edu\",        # Fantàstic!\n",
    "       \"mp7@alumnes.ub.edu\",             # Glups!\n",
    "       \"mpiclup74@alumnes.ub.edu\",       # Glups!\n",
    "       \"mpiclup7@docent.ub.edu\",         # Fantàstic!\n",
    "       \"m78picl7@alumnes.ub.edu\",        # Glups!\n",
    "       \"mpiclup7@alumni.ub.edu\",         # Fantàstic!\n",
    "       \"mpiclup7@alumnes.ub.edu.ub.edu\", # Glups!\n",
    "       \"mpiclup7@admin.ub.edu\",          # Fantàstic!\n",
    "       \"mpiclup7admin.ub.edu\",           # Glups!\n",
    "       \"mpiclup7@admin.ub.ub.edu\"]       # Glups!\n",
    "\n",
    "for t in texts:\n",
    "    check_expression(regex,t)"
   ]
  },
  {
   "cell_type": "markdown",
   "metadata": {},
   "source": [
    "Fes doble clic per veure la solució:\n",
    "\n",
    "<!-- regex =r\"[a-zA-Z]{6}\\d@((alumn((es)|i))|(docent)|(admin))(\\.ub\\.edu)$\" -->"
   ]
  },
  {
   "cell_type": "code",
   "execution_count": 1,
   "metadata": {},
   "outputs": [
    {
     "data": {
      "text/html": [
       "<style><style>\n",
       "\n",
       "@import url('http://fonts.googleapis.com/css?family=Source+Code+Pro');\n",
       "@import url('http://fonts.googleapis.com/css?family=Lora');\n",
       "\n",
       "/*   adapted from https://github.com/edwardtufte/et-book/blob/gh-pages/et-book.css */\n",
       "\n",
       "@charset \"UTF-8\";\n",
       "\n",
       "@font-face {\n",
       "  font-family: \"et-book\";\n",
       "  src: url(\"et-book/roman-line-figures.ttf\") format(\"truetype\");\n",
       "  font-weight: normal;\n",
       "  font-style: normal\n",
       "}\n",
       "\n",
       "@font-face {\n",
       "  font-family: \"et-book\";\n",
       "  src: url(\"et-book/display-italic-old-style-figures.ttf\") format(\"truetype\");\n",
       "  font-weight: normal;\n",
       "  font-style: italic\n",
       "}\n",
       "\n",
       "@font-face {\n",
       "  font-family: \"et-book\";\n",
       "  src: url(\"et-book/bold-line-figures.ttf\") format(\"truetype\");\n",
       "  font-weight: bold;\n",
       "  font-style: normal\n",
       "}\n",
       "\n",
       "@font-face {\n",
       "  font-family: \"et-book-roman-old-style\";\n",
       "  src: url(\"et-book/roman-old-style-figures.ttf\") format(\"truetype\");\n",
       "  font-weight: normal;\n",
       "  font-style: normal;\n",
       "}\n",
       "\n",
       "html {\n",
       "       font-size: 15px !important;\n",
       "}\n",
       "\n",
       ".tema, h1 span { font-size: 14pt;\n",
       "\tfont-style: italic;\n",
       "\tfont-weight: 100;}\n",
       "\n",
       "#capcalera {\tfont-family:Arial;\n",
       "\t\tfont-size:12pt;\n",
       "\t\tbackground-color:#fff1f1;\n",
       "\t\tpadding:5px;\n",
       "\t\t}\n",
       "#peu {\tfont-family:Arial;\n",
       "\tfont-size:12pt;\n",
       "\tbackground-color:#fff1f1;\n",
       "\tpadding:2px;\n",
       "\tline-height:1}\n",
       "\n",
       ".exercici {color:#a60d0d;\n",
       "\t   /* border-width:0 0 2px 2px !important;\n",
       "\t   border-style:solid !important;\n",
       "\t   border-color:#5e3333 !important; */ }\n",
       "\n",
       ".explicacio {}\n",
       "\n",
       ".avaluacio {}\n",
       "\n",
       "\n",
       "#notebook-container, .notebook_cell_list {\n",
       "       font-size: 1rem !important;\n",
       "       line-height: 1.5 !important;\n",
       "       width: 100%  !important;\n",
       "       margin-left: auto !important;\n",
       "       margin-right: auto !important;\n",
       "       padding-left: 12.5% !important;\n",
       "       font-family: et-book, Palatino, \"Palatino Linotype\", \"Palatino LT STD\", \"Book Antiqua\", Georgia, serif  !important;\n",
       "       background-color: #fffff8 !important;\n",
       "       color: #111 !important;\n",
       "       max-width: 1400px !important; }\n",
       "\n",
       " .rendered .input_prompt {\n",
       "\t min-width:0 !important; } \n",
       "\n",
       ".text_cell_render h1, .markdown h1 { \n",
       "     font-weight: 400;\n",
       "     font-style: normal;\n",
       "     margin-top: 0rem;\n",
       "     margin-bottom: 0rem;\n",
       "     font-size: 2rem; }\n",
       "\n",
       " .text_cell_render h2 { font-style: italic;\n",
       "     font-weight: 400;\n",
       "     font-size: 1.5rem;\n",
       "     margin-top: 1.5rem;\n",
       "     margin-bottom: 1.5em; }\n",
       "\n",
       " .text_cell_render h3 { font-style: italic;\n",
       "             font-weight: 400;\n",
       "             margin-top: 1rem;\n",
       "             margin-bottom: 1rem;\n",
       "             font-size: 1.2rem;\n",
       "             display: block; }\n",
       "\n",
       " .text_cell_render h4 {\n",
       "    font-size: 1.1rem;\n",
       "    font-weight: 400;\n",
       "    margin: 1rem auto; }\n",
       "\n",
       ".rendered_html p { \n",
       "\tfont-size: 1rem !important; \n",
       "    \tmargin-top: 1rem !important;;\n",
       "    \tmargin-bottom: 1rem !important;;\n",
       "    \tpadding-right: 0 !important;;\n",
       "    \tvertical-align: baseline !important;; }\n",
       "\n",
       ".rendered_html blockquote { font-size: 1.1rem !important;}\n",
       "\n",
       ".rendered_html ol, ul { width: 75% !important;; }\n",
       "\n",
       ".rendered_html li { padding: 0.5rem 0 !important;; }\n",
       "\n",
       ".rendered_html table {\n",
       "  border-top: 2px solid #111 !important;\n",
       "  border-bottom: 2px solid #111 !important;\n",
       "  font-size: 0.8rem !important;\n",
       "}\n",
       "\n",
       ".rendered_html th {\n",
       "  border-bottom: 1px solid #111 !important;\n",
       "}\n",
       "\t \n",
       ".rendered_html a { text-decoration: none !important;\n",
       "         background: linear-gradient(#fffff8, #fffff8), linear-gradient(#fffff8, #fffff8), linear-gradient(#333, #333);\n",
       "         background-size: 0.05em 1px, 0.05em 1px, 1px 1px;\n",
       "         background-repeat: no-repeat, no-repeat, repeat-x;\n",
       "         text-shadow: 0.03em 0 #fffff8, -0.03em 0 #fffff8, 0 0.03em #fffff8, 0 -0.03em #fffff8, 0.06em 0 #fffff8, -0.06em 0 #fffff8, 0.09em 0 #fffff8, -0.09em 0 #fffff8, 0.12em 0 #fffff8, -0.12em 0 #fffff8, 0.15em 0 #fffff8, -0.15em 0 #fffff8;\n",
       "         background-position: 0% 93%, 100% 93%, 0% 93%; }\n",
       "\n",
       ".rendered_html a:link::selection { text-shadow: 0.03em 0 #b4d5fe, -0.03em 0 #b4d5fe, 0 0.03em #b4d5fe, 0 -0.03em #b4d5fe, 0.06em 0 #b4d5fe, -0.06em 0 #b4d5fe, 0.09em 0 #b4d5fe, -0.09em 0 #b4d5fe, 0.12em 0 #b4d5fe, -0.12em 0 #b4d5fe, 0.15em 0 #b4d5fe, -0.15em 0 #b4d5fe;\n",
       "                    background: #b4d5fe; }\n",
       " \n",
       ".rendered_html pre { \n",
       "\tborder:1px solid #cccccc !important; }\n",
       "\n",
       ".rendered_html * code { \n",
       "\tfont-size: 1rem !important;\n",
       "        line-height: 1.5 !important;\n",
       "\tfont-family: Consolas, \"Liberation Mono\", Menlo, Courier, monospace !important;\n",
       "\tbackground-color: #fff !important }\n",
       "</style> \n",
       "<script>\n",
       "    MathJax.Hub.Config({\n",
       "                        TeX: {\n",
       "                           extensions: [\"AMSmath.js\"],\n",
       "                           equationNumbers: { autoNumber: \"AMS\", useLabelIds: true}\n",
       "                           },\n",
       "                tex2jax: {\n",
       "                    inlineMath: [ ['$','$'], [\"\\\\(\",\"\\\\)\"] ],\n",
       "                    displayMath: [ ['$$','$$'], [\"\\\\[\",\"\\\\]\"] ]\n",
       "                },\n",
       "                displayAlign: 'center', // Change this to 'center' to center equations.\n",
       "                \"HTML-CSS\": {\n",
       "                    scale: 95,\n",
       "                        availableFonts: [],\n",
       "                        preferredFont:null,\n",
       "                        webFont: \"TeX\",\n",
       "                    styles: {'.MathJax_Display': {\"margin\": 4}}\n",
       "                },\n",
       "                 \"fast-preview\": {\n",
       "                    \"disabled\": false\n",
       "                }\n",
       "        });\n",
       "</script>\n",
       "</style>"
      ],
      "text/plain": [
       "<IPython.core.display.HTML object>"
      ]
     },
     "execution_count": 1,
     "metadata": {},
     "output_type": "execute_result"
    }
   ],
   "source": [
    "# Executar aquesta cel.la per donar estil al notebook\n",
    "from IPython.core.display import HTML\n",
    "import requests\n",
    "style=requests.get('https://raw.githubusercontent.com/MireiaUB/algorismica2019.github.io/patch-1/prova.css').text\n",
    "HTML('<style>{}</style>'.format(style))"
   ]
  },
  {
   "cell_type": "markdown",
   "metadata": {},
   "source": [
    "<div id=\"peu\">\n",
    "<p><a href=\"https://colab.research.google.com/github/algorismica2019/algorismica2019.github.io/blob/master/problemes/ExpressionsRegulars.ipynb\"><img style=\"margin:-10px 10px 20px 0\" width=\"150px\" align=\"right\" src=\"https://raw.githubusercontent.com/algorismica2019/algorismica2019.github.io/master/problemes/assets/colab-badge.png?raw=1\" alt=\"Obrir a Colab\" title=\"Obrir i executar a Google Colaboratory\"></a></p>\n",
    "<p style=\"clear:both;text-align:center\">&lt; <a href=\"ListComprehensions.ipynb\">List Comprehensions</a> | <a href=\"Teoria.ipynb\">Explicacions teòriques</a> | <a href=\"LListatProblemes.ipynb\">LListat de problemes</a> | <a href=\"AritmeticaModular.ipynb\">AritmeticaModular</a>&gt;</p>\n",
    "</div>"
   ]
  }
 ],
 "metadata": {
  "kernelspec": {
   "display_name": "Python 3",
   "language": "python",
   "name": "python3"
  },
  "language_info": {
   "codemirror_mode": {
    "name": "ipython",
    "version": 3
   },
   "file_extension": ".py",
   "mimetype": "text/x-python",
   "name": "python",
   "nbconvert_exporter": "python",
   "pygments_lexer": "ipython3",
   "version": "3.7.3"
  }
 },
 "nbformat": 4,
 "nbformat_minor": 1
}
