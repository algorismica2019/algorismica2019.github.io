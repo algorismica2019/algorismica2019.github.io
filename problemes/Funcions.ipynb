{
 "cells": [
  {
   "cell_type": "markdown",
   "metadata": {},
   "source": [
    "<div id=\"capcalera\">\n",
    "<p><a href=\"https://colab.research.google.com/github/algorismica2019/algorismica2019.github.io/blob/master/problemes/Funcions.ipynb\"><img style=\"margin:-10px 10px 20px 0\" width=\"150px\" align=\"right\" src=\"https://raw.githubusercontent.com/algorismica2019/algorismica2019.github.io/master/problemes/assets/colab-badge.png?raw=1\" alt=\"Obrir a Colab\" title=\"Obrir i executar a Google Colaboratory\"></a></p>\n",
    "<p style=\"clear:both\"><img align='left' width=\"300px\" style=\"padding-right:10px;float=left\" src=\"https://raw.githubusercontent.com/algorismica2019/algorismica2019.github.io/master/problemes/assets/al-khwarizmi.png\">Aquest notebook forma part dels continguts teòrics dels problemes de l'assignatura d'<strong>Algorísmica</strong> del Grau d'Enginyeria Informàtica a la <a href=\"https://mat.ub.edu\">Facultat de Matemàtiques i Informàtica</a> de la <a href=\"https://www.ub.edu\">Universitat de Barcelona</a> impartida per <em>Jordi Vitrià</em> i <em>Mireia Ribera</em></p>\n",
    "\n",
    "<p>Els problemes s'ofereixen sota llicència <a href=\"https://creativecommons.org/licenses/by-nc-nd/3.0/us/legalcode\">CC-BY-NC-ND license</a>, i el codi sota <a href=\"https://opensource.org/licenses/MIT\">Llicència MIT</a>.</p>\n",
    "\n",
    "<p style=\"clear:both;text-align:center\">&lt; <a href=\"Teoria.ipynb\">Explicacions teòriques</a> | <a href=\"LListatProblemes.ipynb\">LListat de problemes</a> | <a href=\"Variables.ipynb\">Variables</a> &gt; </p>\n",
    "</div>\n",
    "\n",
    "</div>"
   ]
  },
  {
   "cell_type": "markdown",
   "metadata": {},
   "source": [
    "# <span class=\"tema\">( Continguts teòrics)</span> Funcions"
   ]
  },
  {
   "cell_type": "markdown",
   "metadata": {},
   "source": [
    "### Documentació Python de referència\n",
    "\n",
    "Podeu trobar més recursos sobre recursió a:\n",
    "    \n",
    "Alguns exemples mostrats com un arbre\n",
    "https://visualgo.net/en/recursion\n",
    "\n",
    "\n",
    "Curs Think like a computer scientist\n",
    "explicació recursivitat\n",
    "http://interactivepython.org/courselib/static/thinkcspy/IntroRecursion/CalculatingtheSumofaListofNumbers.html"
   ]
  },
  {
   "cell_type": "markdown",
   "metadata": {},
   "source": [
    "## Python i Jupyter Notebooks\n",
    "\n",
    "Si escrius la instrucció  ``print (“Hola Mon!”)`` a una cel·la i l'executes, veuràs el resultat a la següent cel.la ``Hola Mon!``.\n",
    "\n",
    "Per executar la cel·la, (1) selecciona-la amb el ratolí, (2) executa-la fent servir la combinació de tecles ``Mayús-Enter`` o prement el botó ``Run`` a la barra de botons superior.\n",
    "\n",
    "Fixa't que hi ha dos formats de cel.les, de codi, per executar codi, i de markdown, per posar explicacions.\n",
    "\n",
    "Explora la resta de botons, que et permeten afegir una cel·la (botó +), eliminar una cel·la (botó tisores), copiar una cel·la (botó dos documents), canviar el format d'una cel·la, etc."
   ]
  },
  {
   "cell_type": "code",
   "execution_count": null,
   "metadata": {},
   "outputs": [],
   "source": [
    "print(\"Hola món\")"
   ]
  },
  {
   "cell_type": "markdown",
   "metadata": {},
   "source": [
    "D’aquesta manera has interactuat amb Python directament, sense escriure el programa en un fitxer, i has obtingut una resposta. Si el que escrius no és correcte, Python no ho entén i rebràs un missatge d’error:"
   ]
  },
  {
   "cell_type": "code",
   "execution_count": null,
   "metadata": {},
   "outputs": [],
   "source": [
    "print \"Hola\""
   ]
  },
  {
   "cell_type": "markdown",
   "metadata": {},
   "source": [
    "## Funcions\n",
    "\n",
    "Quan volem fer un seguit d'instruccions repetidament, les posem dins d'una funció. El codi d'una funció no s'executarà fins que la cridem explícitament. Les funcions comencen amb def, el nom de la funció i parèntesi, seguit de :. Les instruccions de dins la funció queden indentades quatre caràcters a la dreta com a mínim per indicar que pertanyen a la funció."
   ]
  },
  {
   "cell_type": "code",
   "execution_count": 11,
   "metadata": {},
   "outputs": [],
   "source": [
    "def funcio1():\n",
    "    print(\"hola\")\n",
    "    \n",
    "def funcio2():\n",
    "    print(\"a\")"
   ]
  },
  {
   "cell_type": "code",
   "execution_count": 12,
   "metadata": {},
   "outputs": [
    {
     "name": "stdout",
     "output_type": "stream",
     "text": [
      "hola\n",
      "a\n",
      "hola\n"
     ]
    }
   ],
   "source": [
    "funcio1()\n",
    "funcio2()\n",
    "funcio1()"
   ]
  },
  {
   "cell_type": "markdown",
   "metadata": {},
   "source": [
    "### Paràmetres: \n",
    "\n",
    "Les funcions amb paràmetres permeten que els indiquem el valor d'algunes variables en el moment de cridar-les. Veiem un exemple d'una funció amb paràmetres i una sense"
   ]
  },
  {
   "cell_type": "code",
   "execution_count": 13,
   "metadata": {},
   "outputs": [],
   "source": [
    "def suma():\n",
    "    var1 = 5\n",
    "    var2 = 3\n",
    "    suma_nombres = var1 + var2\n",
    "    print(suma_nombres)"
   ]
  },
  {
   "cell_type": "markdown",
   "metadata": {},
   "source": [
    "Amb aquesta funció només puc sumar els valors 5 i 3, que són els que estan escrits en el codi."
   ]
  },
  {
   "cell_type": "code",
   "execution_count": 14,
   "metadata": {},
   "outputs": [],
   "source": [
    "def sumabis (var1, var2):\n",
    "    suma_nombres = var1 + var2\n",
    "    print(suma_nombres)"
   ]
  },
  {
   "cell_type": "code",
   "execution_count": 15,
   "metadata": {},
   "outputs": [
    {
     "name": "stdout",
     "output_type": "stream",
     "text": [
      "8\n",
      "3\n"
     ]
    }
   ],
   "source": [
    "sumabis(3, 5)\n",
    "sumabis(1, 2)"
   ]
  },
  {
   "cell_type": "markdown",
   "metadata": {},
   "source": [
    "Amb aquesta funció puc sumar qualssevol valors perquè els indico amb els paràmetres."
   ]
  },
  {
   "cell_type": "markdown",
   "metadata": {},
   "source": [
    "### <span class=\"exercici\">Exercici 1:  Fes una funció amb dos paràmetres i en retorni la divisió</span>"
   ]
  },
  {
   "cell_type": "markdown",
   "metadata": {},
   "source": [
    "### Descomposició en funcions\n",
    "\n",
    "En cursos més avançats realitzareu funcions força complexes que consistiran en molts passos. I en l'entorn laboral sovint aquestes funcions complexes repeteixen codi ja fet.\n",
    "\n",
    "Per tal de facilitar la reutilització del codi, i facilitar el manteniment i llegibilitat, es recomana descomposar les funcions en parts petites amb significat.\n",
    "\n",
    "Quan us enfronteu amb un problema, heu de mirar d'identificar aquelles parts del codi que resolen un problema i separar-les del codi principal.\n",
    "Finalment, hi haurà una funció principal, que anirà cridant aquestes funcions més petites de forma ordenada, per resoldre el problema gran."
   ]
  },
  {
   "cell_type": "markdown",
   "metadata": {},
   "source": [
    "### <span class=\"exercici\">Exercici 2:  Escriu una funció a la que li passis el teu nom i l'edat i et saludi dient-te quants anys et falten per arribar a 100. Descomposa la funció en dos, i fes-ne una que donat un enter et digui quant falta per a 100.\n",
    "\n",
    "Per exemple: salutacio(\"Aina\", 25)  => Hola Aina, et falten 75 anys per arribar a 100.</span>"
   ]
  },
  {
   "cell_type": "code",
   "execution_count": 2,
   "metadata": {},
   "outputs": [
    {
     "name": "stdout",
     "output_type": "stream",
     "text": [
      "L\n",
      "122\n"
     ]
    }
   ],
   "source": [
    "# Exemple\n",
    "\n",
    "print(chr(76))\n",
    "print(ord('z'))"
   ]
  },
  {
   "cell_type": "markdown",
   "metadata": {},
   "source": [
    "## Recursió\n",
    "\n",
    "La recursió consisteix en què un programa es crida a si mateix. Un programa recursiu ben fet ha de complir 2 condicions:\n",
    "\n",
    "- ha d'haver-hi un o més casos base: són condicions de les dades que es resolen directament, sense que calgui una nova crida al programa\n",
    "- a cada crida recursiva ens apropem a un dels casos base: ja sigui perquè es decrementa una variable, perquè es redueix una llista...\n",
    "\n",
    "\n",
    "D'una manera simplificada podríem dir que els algorismes recursius segueixen el patró:\n",
    "\n",
    "    def recursiu(x):\n",
    "        if x=cas_final:\n",
    "            return VALOR\n",
    "        else:\n",
    "            return CRIDA_RECURSIVA(x reduïda)+Calculs\n",
    "            \n",
    "\n",
    "```python\n",
    "Exemple\n",
    "def imprimirLlistaRec(num):\n",
    "    if (num == 0):\n",
    "        print(num)\n",
    "        return 0\n",
    "    else:\n",
    "        print(num)\n",
    "        imprimirLlistaRec(num-1)\n",
    "\n",
    "imprimirLlistaRec(5)\n",
    "5\n",
    "4\n",
    "3\n",
    "2\n",
    "1\n",
    "0\n",
    "```\n",
    "\n",
    "- A la primera execució del programa num valia 5, per tant no és un cas base, es fa el print i es fa una crida recursiva amb 4.\n",
    "- A la segona execució val 4, s'imprimeix i es fa crida amb 3.\n",
    "- A la tercera val 3, s'imprimeix i es fa crida amb 2.\n",
    "- A la quarta val 2, s'imprimeix i es fa crida amb 1.\n",
    "- A la cinquena val 1, s'imprimeix i es fa crida amb 0.\n",
    "- A la sisena val 0, som al cas base!, s'imprimeix i acaba.\n",
    "\n",
    "A vegades dins del programa no es fa una crida recursiva sinó dues o més. També pot variar com s'alteren les variables a cada crida, però sempre ens hem d'anar apropant al cas base.\n",
    "\n",
    "Sovint farem un programa principal que faci un preprocés de les dades, cridi al programa recursiu, i després faci un postprocés.\n",
    "\n",
    "```python\n",
    "\n",
    "def imprimirLlista(num):\n",
    "    print(f\"Ara mostrarem els nombres de {num} a 0 de manera decreixent\")\n",
    "    imprimirLlistaRec(num)\n",
    "    print(\"I això és tot.\")\n",
    "    \n",
    "imprimirLlista(3)\n",
    "\n",
    "\n",
    "Ara mostrarem els nombres de 3 a 0 de manera decreixent\n",
    "3\n",
    "2\n",
    "1\n",
    "0\n",
    "I això és tot.\n",
    "```"
   ]
  },
  {
   "cell_type": "markdown",
   "metadata": {},
   "source": [
    "Per tal de veure el que passa en una recursió, podem usar el mode de visualització de Code Skulptor, una eina que executa Python online:\n",
    "\n",
    "http://www.codeskulptor.org/viz/index.html  \n",
    "(heu de clicar la clau anglesa i executar el programa pas a pas per veure cada crida)\n",
    "\n",
    "El provarem amb la següent funció:"
   ]
  },
  {
   "cell_type": "code",
   "execution_count": null,
   "metadata": {},
   "outputs": [],
   "source": [
    "# Implementació eficient del càlcul de la potència\n",
    "def potenciarec(x, y):\n",
    "    if y == 0:\n",
    "        return 1\n",
    "    if y == 1:\n",
    "        return x\n",
    "    potencia = potenciarec(x, y // 2)\n",
    "    if (y % 2 == 0):\n",
    "        return potencia * potencia\n",
    "    else:\n",
    "        return potencia * potencia * x \n",
    "    \n",
    "# Abans d'executar-lo penseu quines crides farà per potenciarec(2,10)"
   ]
  },
  {
   "cell_type": "code",
   "execution_count": 1,
   "metadata": {},
   "outputs": [
    {
     "name": "stdout",
     "output_type": "stream",
     "text": [
      "25\n"
     ]
    }
   ],
   "source": [
    "# Un altre exemple de programa recursiu \n",
    "# font: http://interactivepython.org/courselib/static/thinkcspy/IntroRecursion/CalculatingtheSumofaListofNumbers.html\n",
    "def listsum(numList):\n",
    "    if len(numList) == 1:\n",
    "        return numList[0]\n",
    "    else:\n",
    "        return numList[0] + listsum(numList[1:])\n",
    "\n",
    "print(listsum([1,3,5,7,9]))"
   ]
  },
  {
   "cell_type": "markdown",
   "metadata": {},
   "source": [
    "## Estil de programació\n",
    "\n",
    "Els programes sovint es comparteixen entre diferents programadors o es modifiquen al cap d'un temps.\n",
    "\n",
    "Per això és important que estiguin escrits de forma clara i seguint unes convencions d'estil per fer-los més llegibles.\n",
    "\n",
    "Cada llenguatge sol tenir unes directrius d'estil. A Python s'usen les directrius [PEP8](https://www.python.org/dev/peps/pep-0008/)\n",
    "\n",
    "Spyder ens ajuda a seguir aquestes directrius si configurem l'editor per a què ens avisi. Això es fa amb ``Herramientas - Preferencias - Editor - Análisis de estilo del código en el Editor``.\n",
    "\n",
    "Amb això Spyder ja ens avisarà si no seguim les convencions bàsiques de PEP8.\n",
    "\n",
    "### Comentaris\n",
    "\n",
    "Inicieu les funcions amb unes línies de comentaris delimitades per \"\"\" que indiquin l'objectiu de la funció. Incloeu una línia de comentari pels paràmetres, i una línia pel què retorna.\n",
    "\n",
    "Incloeu comentaris breus addicionals entre línies amb # per explicar algun detall del codi en particular que no quedi prou clar.\n",
    "\n",
    "```python\n",
    "# Exemple\n",
    "\n",
    "def primerDarrer8(llista):\n",
    "    \"\"\"\n",
    "    Aquesta funció, donada una llista d’enters,\n",
    "    retorna True si 8 és el primer o el darrer element de la llista,\n",
    "    retorna False altrament\n",
    "    :param llista una llista d'enters\n",
    "    :return: True si 8 és a l'inici o final, False altrament\n",
    "    \"\"\"\n",
    "    if llista[0] == 8 or llista[-1] == 8:  # Amb -1 comencem pel darrera\n",
    "        return True\n",
    "    else:\n",
    "        return False\n",
    "```\t\t\n",
    "\n",
    "\n",
    "### Noms de funcions i de variables\n",
    "Useu noms en minúscules per les funcions i variables. Si són compostes per dues o més paraules, inicieu la segona i següents amb majúscules.\n",
    "\n",
    "```python\n",
    "a = 5\n",
    "meuCotxe = \"Toyota\"\n",
    "valorAproximat = 3.567\n",
    "def calculSuma(a,b):\n",
    "    pass\n",
    "```\n",
    "Ara bé, per a les constants useu majúscules\n",
    "```python\n",
    "MAXIM = 9999999\n",
    "```\n",
    "\n",
    "### Identació\n",
    "Useu 4 espais per marcar els diferents nivells de blocs.\n",
    "\n",
    "Si el codi d'una funció ocupa dues línies, identeu-lo per a què siguin consistents.\n",
    "```python\n",
    "def funcio():\n",
    "    print(\"les instruccions comencen 4 espais a la dreta\")\n",
    "    for i in range(2):\n",
    "        print(\"per cada nou bloc, 4 espais més\")\n",
    "\t\tprint(\"pero si vull posar moltes coses en un print\",\n",
    "              \"i no m'hi caben, idento per a què sigui\",\n",
    "              \"consistent\")\n",
    "```\n",
    "\n",
    "### Llargada de les línies\n",
    "Una línia de codi ha d'ocupar com a màxim 79 caràcters.\n",
    "Si una línia no hi cap en 79 caràcters, la puc continuar amb el caràcter \\\n",
    "\n",
    "```python\n",
    "with open('/path/to/some/file/you/want/to/read') as file_1, \\\n",
    "     open('/path/to/some/file/being/written', 'w') as file_2:\n",
    "    pass\n",
    "```\n",
    " El caràcter \\ no cal si la continuació és dintre el mateix parèntesi que la línia anterior\n",
    "\n",
    "```python\n",
    "print('a', 'b', 'c', 'd', 'e', 'f', 'g', 'h', 'i', 'j', 'k', 'l', 'm', 'n', 'o', 'p', 'q', 'r',\n",
    "      's', 't', 'u', 'v', 'x', 'y', 'z')\n",
    "```\n",
    "\n",
    "### Línies en blanc\n",
    "Les funcions han d'anar precedides i seguides de dues línies en blanc.\n",
    "\n",
    "### Espais en blanc\n",
    "Deixeu espais en blanc davant i darrera dels operadors. Deixeu un espai en blanc darrera de la coma. No poseu espais en blanc al final de les línies de codi. Acabeu sempre les funcions amb un salt de línia.\n",
    "\n",
    "```python\n",
    "a = b + c\n",
    "llista = ['a', 'b', 'c']\n",
    "```\n",
    "\n",
    "### Import\n",
    "Posar cada import en una línia diferent. Situar-los al principi de tot.\n",
    "\n",
    "```python\n",
    "import math\n",
    "import string\n",
    "\n",
    "\n",
    "def funcio():\n",
    "    pass\n",
    "```"
   ]
  },
  {
   "cell_type": "markdown",
   "metadata": {},
   "source": [
    "Per a **frikis**: ara que ja saps Python pots memoritzar el *mantra* de Python, executa la següent línia."
   ]
  },
  {
   "cell_type": "code",
   "execution_count": null,
   "metadata": {},
   "outputs": [],
   "source": [
    "import this"
   ]
  },
  {
   "cell_type": "markdown",
   "metadata": {},
   "source": [
    "### <span class=\"exercici\"> Exercici 3. Reescriu les solucions d'aquest notebook amb un bon estil de programació.</span>"
   ]
  },
  {
   "cell_type": "code",
   "execution_count": null,
   "metadata": {},
   "outputs": [],
   "source": [
    "# Solució a l'exercici 1"
   ]
  },
  {
   "cell_type": "code",
   "execution_count": null,
   "metadata": {},
   "outputs": [],
   "source": [
    "# Solució a l'exercici 2"
   ]
  },
  {
   "cell_type": "code",
   "execution_count": null,
   "metadata": {},
   "outputs": [],
   "source": [
    "# Solució a l'exercici 3\n",
    "Les solucions ja estan escrites amb bon estil de programació"
   ]
  },
  {
   "cell_type": "markdown",
   "metadata": {},
   "source": [
    "## Referències\n",
    "Les explicacions, exemples i exercicis s'han basat en les següents fonts:\n",
    "\n",
    "- Singh et al. “Time complexity of algorithms” dins Study tonight [http://www.studytonight.com/data-structures/time-complexity-of-algorithms] consultat el 26 de novembre de 2015\n",
    "- Umesh V. Vazirani “Chapter 2: divide and conquer algorithms” [https://www.cs.berkeley.edu/~vazirani/algorithms/chap2.pdf] consultat el 26 de novembre de 2015\n",
    "- Cormen, T. C., Leiserson, C. E., Rivest, R. L., & Stein, C. (2009). *Introduction to algorithms* (3rd ed.). Cambridge: The MIT Press. ISBN 9780262033848"
   ]
  },
  {
   "cell_type": "code",
   "execution_count": 1,
   "metadata": {},
   "outputs": [
    {
     "data": {
      "text/html": [
       "<style><style>\n",
       "\n",
       "@import url('http://fonts.googleapis.com/css?family=Source+Code+Pro');\n",
       "@import url('http://fonts.googleapis.com/css?family=Lora');\n",
       "\n",
       "/*   adapted from https://github.com/edwardtufte/et-book/blob/gh-pages/et-book.css */\n",
       "\n",
       "@charset \"UTF-8\";\n",
       "\n",
       "@font-face {\n",
       "  font-family: \"et-book\";\n",
       "  src: url(\"et-book/roman-line-figures.ttf\") format(\"truetype\");\n",
       "  font-weight: normal;\n",
       "  font-style: normal\n",
       "}\n",
       "\n",
       "@font-face {\n",
       "  font-family: \"et-book\";\n",
       "  src: url(\"et-book/display-italic-old-style-figures.ttf\") format(\"truetype\");\n",
       "  font-weight: normal;\n",
       "  font-style: italic\n",
       "}\n",
       "\n",
       "@font-face {\n",
       "  font-family: \"et-book\";\n",
       "  src: url(\"et-book/bold-line-figures.ttf\") format(\"truetype\");\n",
       "  font-weight: bold;\n",
       "  font-style: normal\n",
       "}\n",
       "\n",
       "@font-face {\n",
       "  font-family: \"et-book-roman-old-style\";\n",
       "  src: url(\"et-book/roman-old-style-figures.ttf\") format(\"truetype\");\n",
       "  font-weight: normal;\n",
       "  font-style: normal;\n",
       "}\n",
       "\n",
       "html {\n",
       "       font-size: 15px !important;\n",
       "}\n",
       "\n",
       ".tema, h1 span { font-size: 14pt;\n",
       "\tfont-style: italic;\n",
       "\tfont-weight: 100;}\n",
       "\n",
       "#capcalera {\tfont-family:Arial;\n",
       "\t\tfont-size:12pt;\n",
       "\t\tbackground-color:#fff1f1;\n",
       "\t\tpadding:5px;\n",
       "\t\t}\n",
       "#peu {\tfont-family:Arial;\n",
       "\tfont-size:12pt;\n",
       "\tbackground-color:#fff1f1;\n",
       "\tpadding:2px;\n",
       "\tline-height:1}\n",
       "\n",
       ".exercici {color:#a60d0d;\n",
       "\t   /* border-width:0 0 2px 2px !important;\n",
       "\t   border-style:solid !important;\n",
       "\t   border-color:#5e3333 !important; */ }\n",
       "\n",
       ".explicacio {}\n",
       "\n",
       ".avaluacio {}\n",
       "\n",
       "\n",
       "#notebook-container, .notebook_cell_list {\n",
       "       font-size: 1rem !important;\n",
       "       line-height: 1.5 !important;\n",
       "       width: 100%  !important;\n",
       "       margin-left: auto !important;\n",
       "       margin-right: auto !important;\n",
       "       padding-left: 12.5% !important;\n",
       "       font-family: et-book, Palatino, \"Palatino Linotype\", \"Palatino LT STD\", \"Book Antiqua\", Georgia, serif  !important;\n",
       "       background-color: #fffff8 !important;\n",
       "       color: #111 !important;\n",
       "       max-width: 1400px !important; }\n",
       "\n",
       " .rendered .input_prompt {\n",
       "\t min-width:0 !important; } \n",
       "\n",
       ".text_cell_render h1, .markdown h1 { \n",
       "     font-weight: 400;\n",
       "     font-style: normal;\n",
       "     margin-top: 0rem;\n",
       "     margin-bottom: 0rem;\n",
       "     font-size: 2rem; }\n",
       "\n",
       " .text_cell_render h2 { font-style: italic;\n",
       "     font-weight: 400;\n",
       "     font-size: 1.5rem;\n",
       "     margin-top: 1.5rem;\n",
       "     margin-bottom: 1.5em; }\n",
       "\n",
       " .text_cell_render h3 { font-style: italic;\n",
       "             font-weight: 400;\n",
       "             margin-top: 1rem;\n",
       "             margin-bottom: 1rem;\n",
       "             font-size: 1.2rem;\n",
       "             display: block; }\n",
       "\n",
       " .text_cell_render h4 {\n",
       "    font-size: 1.1rem;\n",
       "    font-weight: 400;\n",
       "    margin: 1rem auto; }\n",
       "\n",
       ".rendered_html p { \n",
       "\tfont-size: 1rem !important; \n",
       "    \tmargin-top: 1rem !important;;\n",
       "    \tmargin-bottom: 1rem !important;;\n",
       "    \tpadding-right: 0 !important;;\n",
       "    \tvertical-align: baseline !important;; }\n",
       "\n",
       ".rendered_html blockquote { font-size: 1.1rem !important;}\n",
       "\n",
       ".rendered_html ol, ul { width: 75% !important;; }\n",
       "\n",
       ".rendered_html li { padding: 0.5rem 0 !important;; }\n",
       "\n",
       ".rendered_html table {\n",
       "  border-top: 2px solid #111 !important;\n",
       "  border-bottom: 2px solid #111 !important;\n",
       "  font-size: 0.8rem !important;\n",
       "}\n",
       "\n",
       ".rendered_html th {\n",
       "  border-bottom: 1px solid #111 !important;\n",
       "}\n",
       "\t \n",
       ".rendered_html a { text-decoration: none !important;\n",
       "         background: linear-gradient(#fffff8, #fffff8), linear-gradient(#fffff8, #fffff8), linear-gradient(#333, #333);\n",
       "         background-size: 0.05em 1px, 0.05em 1px, 1px 1px;\n",
       "         background-repeat: no-repeat, no-repeat, repeat-x;\n",
       "         text-shadow: 0.03em 0 #fffff8, -0.03em 0 #fffff8, 0 0.03em #fffff8, 0 -0.03em #fffff8, 0.06em 0 #fffff8, -0.06em 0 #fffff8, 0.09em 0 #fffff8, -0.09em 0 #fffff8, 0.12em 0 #fffff8, -0.12em 0 #fffff8, 0.15em 0 #fffff8, -0.15em 0 #fffff8;\n",
       "         background-position: 0% 93%, 100% 93%, 0% 93%; }\n",
       "\n",
       ".rendered_html a:link::selection { text-shadow: 0.03em 0 #b4d5fe, -0.03em 0 #b4d5fe, 0 0.03em #b4d5fe, 0 -0.03em #b4d5fe, 0.06em 0 #b4d5fe, -0.06em 0 #b4d5fe, 0.09em 0 #b4d5fe, -0.09em 0 #b4d5fe, 0.12em 0 #b4d5fe, -0.12em 0 #b4d5fe, 0.15em 0 #b4d5fe, -0.15em 0 #b4d5fe;\n",
       "                    background: #b4d5fe; }\n",
       " \n",
       ".rendered_html pre { \n",
       "\tborder:1px solid #cccccc !important; }\n",
       "\n",
       ".rendered_html * code { \n",
       "\tfont-size: 1rem !important;\n",
       "        line-height: 1.5 !important;\n",
       "\tfont-family: Consolas, \"Liberation Mono\", Menlo, Courier, monospace !important;\n",
       "\tbackground-color: #fff !important }\n",
       "</style> \n",
       "<script>\n",
       "    MathJax.Hub.Config({\n",
       "                        TeX: {\n",
       "                           extensions: [\"AMSmath.js\"],\n",
       "                           equationNumbers: { autoNumber: \"AMS\", useLabelIds: true}\n",
       "                           },\n",
       "                tex2jax: {\n",
       "                    inlineMath: [ ['$','$'], [\"\\\\(\",\"\\\\)\"] ],\n",
       "                    displayMath: [ ['$$','$$'], [\"\\\\[\",\"\\\\]\"] ]\n",
       "                },\n",
       "                displayAlign: 'center', // Change this to 'center' to center equations.\n",
       "                \"HTML-CSS\": {\n",
       "                    scale: 95,\n",
       "                        availableFonts: [],\n",
       "                        preferredFont:null,\n",
       "                        webFont: \"TeX\",\n",
       "                    styles: {'.MathJax_Display': {\"margin\": 4}}\n",
       "                },\n",
       "                 \"fast-preview\": {\n",
       "                    \"disabled\": false\n",
       "                }\n",
       "        });\n",
       "</script>\n",
       "</style>"
      ],
      "text/plain": [
       "<IPython.core.display.HTML object>"
      ]
     },
     "execution_count": 1,
     "metadata": {},
     "output_type": "execute_result"
    }
   ],
   "source": [
    "# Executar aquesta cel.la per donar estil al notebook\n",
    "from IPython.core.display import HTML\n",
    "import requests\n",
    "style=requests.get('https://raw.githubusercontent.com/MireiaUB/algorismica2019.github.io/patch-1/prova.css').text\n",
    "HTML('<style>{}</style>'.format(style))"
   ]
  },
  {
   "cell_type": "markdown",
   "metadata": {},
   "source": [
    "<div id=\"peu\">\n",
    "<p><a href=\"https://colab.research.google.com/github/algorismica2019/algorismica2019.github.io/blob/master/problemes/Funcions.ipynb\"><img style=\"margin:-10px 10px 20px 0\" width=\"150px\" align=\"right\" src=\"https://raw.githubusercontent.com/algorismica2019/algorismica2019.github.io/master/problemes/assets/colab-badge.png?raw=1\" alt=\"Obrir a Colab\" title=\"Obrir i executar a Google Colaboratory\"></a></p>\n",
    "<p style=\"clear:both;text-align:center\">&lt; <a href=\"Teoria.ipynb\">Explicacions teòriques</a> | <a href=\"LListatProblemes.ipynb\">LListat de problemes</a> | <a href=\"Variables.ipynb\">Variables</a> &gt; </p>\n",
    "</div>"
   ]
  }
 ],
 "metadata": {
  "kernelspec": {
   "display_name": "Python 3",
   "language": "python",
   "name": "python3"
  },
  "language_info": {
   "codemirror_mode": {
    "name": "ipython",
    "version": 3
   },
   "file_extension": ".py",
   "mimetype": "text/x-python",
   "name": "python",
   "nbconvert_exporter": "python",
   "pygments_lexer": "ipython3",
   "version": "3.7.3"
  }
 },
 "nbformat": 4,
 "nbformat_minor": 2
}
