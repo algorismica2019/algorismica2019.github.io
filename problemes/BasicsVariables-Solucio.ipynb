{
 "cells": [
  {
   "cell_type": "markdown",
   "metadata": {},
   "source": [
    "\n",
    "<div id=\"capcalera\">\n",
    "<p><a href=\"https://colab.research.google.com/github/algorismica2019/algorismica2019.github.io/blob/master/problemes/BasicsVariables-Solucio.ipynb\"><img style=\"margin:-10px 10px 20px 0\" width=\"150px\" align=\"right\" src=\"https://raw.githubusercontent.com/algorismica2019/algorismica2019.github.io/master/problemes/assets/colab-badge.png?raw=1\" alt=\"Obrir a Colab\" title=\"Obrir i executar a Google Colaboratory\"></a></p>\n",
    "<p style=\"clear:both\"><img align='left' width=\"300px\" style=\"padding-right:10px;float=left\" src=\"https://raw.githubusercontent.com/algorismica2019/algorismica2019.github.io/master/problemes/assets/al-khwarizmi.png\">Aquest notebook forma part dels continguts teòrics dels problemes de l'assignatura d'<strong>Algorísmica</strong> deL Grau d'Enginyeria Informàtica a la <a href=\"https://mat.ub.edu\">Facultat de Matemàtiques i Informàtica</a> de la <a href=\"https://www.ub.edu\">Universitat de Barcelona</a> impartida per <em>Jordi Vitrià</em> i <em>Mireia Ribera</em></p>\n",
    "\n",
    "<p>Els problemes s'ofereixen sota llicència <a href=\"https://creativecommons.org/licenses/by-nc-nd/3.0/us/legalcode\">CC-BY-NC-ND license</a>, i el codi sota <a href=\"https://opensource.org/licenses/MIT\">Llicència MIT</a>.</p>\n",
    "\n",
    "<p style=\"clear:both;text-align:center\">&lt; <a href=\"BasicsControl.ipynb\">Bàsics control</a> | <a href=\"Basics.ipynb\">Problemes Bàsics de Python</a> | <a href=\"LListatProblemes.ipynb\">LListat de problemes general</a> | <a href=\"BasicsListComprehensions.ipynb\">Bàsics List Comprehensions</a> &gt; </p>\n",
    "\n",
    "</div>"
   ]
  },
  {
   "cell_type": "markdown",
   "metadata": {},
   "source": [
    "# <span class=\"tema\">(Bàsics Python)</span> Variables - Solucions"
   ]
  },
  {
   "cell_type": "markdown",
   "metadata": {},
   "source": [
    "Solucions al problemari [Variables](BasicsVariables.ipynb)"
   ]
  },
  {
   "cell_type": "markdown",
   "metadata": {},
   "source": [
    "<p class=\"exercici\">Exercici 1: Calcular resposta</p>\n",
    "\n",
    "Què imprimirà el següent codi? Indica la resposta correcta, i després prova-ho en una cel·la de codi.\n",
    "\n",
    "    x = 43\n",
    "    x += 1\n",
    "    print(x)\n",
    "\n",
    "- 44"
   ]
  },
  {
   "cell_type": "code",
   "execution_count": 1,
   "metadata": {},
   "outputs": [
    {
     "name": "stdout",
     "output_type": "stream",
     "text": [
      "44\n"
     ]
    }
   ],
   "source": [
    "x = 43\n",
    "x += 1\n",
    "print(x)"
   ]
  },
  {
   "cell_type": "markdown",
   "metadata": {},
   "source": [
    "<p class=\"exercici\">Exercici 2: Input i print</p>\n",
    "\n",
    "Escriu un programa que demani el nom a l'usuari i després el saludi"
   ]
  },
  {
   "cell_type": "code",
   "execution_count": 2,
   "metadata": {},
   "outputs": [
    {
     "name": "stdout",
     "output_type": "stream",
     "text": [
      "Com et dius?Cristina\n",
      "Hola Cristina\n"
     ]
    }
   ],
   "source": [
    "def salutacio():\n",
    "    nom = input(\"Com et dius?\")\n",
    "    print(\"Hola\", nom)\n",
    "\n",
    "\n",
    "salutacio()\n"
   ]
  },
  {
   "cell_type": "markdown",
   "metadata": {},
   "source": [
    "<p class=\"exercici\">Exercici 3: Input i print amb algun càlcul</p>\n",
    "\n",
    "Escriu un programa que demani el nom  i la seva edat, i li digui en quin any tindrà 100 anys."
   ]
  },
  {
   "cell_type": "code",
   "execution_count": 3,
   "metadata": {},
   "outputs": [
    {
     "name": "stdout",
     "output_type": "stream",
     "text": [
      "Com et dius?Cristina\n",
      "Quina edat tens?19\n",
      "Faràs 100 l'any 2100\n"
     ]
    }
   ],
   "source": [
    "def centAnys():\n",
    "    nom = input(\"Com et dius?\")\n",
    "    edat = int(input(\"Quina edat tens?\"))\n",
    "    fara100 = 2019 - edat + 100\n",
    "    print(\"Faràs 100 l'any\", fara100)\n",
    "\n",
    "\n",
    "centAnys()\n"
   ]
  },
  {
   "cell_type": "markdown",
   "metadata": {},
   "source": [
    "<p class=\"exercici\">Exercici 4: Input i print</p>\n",
    "\n",
    "Escriu un programa que demani a un usuari quantes hores ha treballat i quant cobra per hora, i després calculi el sou en brut."
   ]
  },
  {
   "cell_type": "code",
   "execution_count": 4,
   "metadata": {},
   "outputs": [
    {
     "name": "stdout",
     "output_type": "stream",
     "text": [
      "Quantes hores has treballat?10\n",
      "Quant cobres per hora?20\n",
      "El teu sou brut serà de 200\n"
     ]
    }
   ],
   "source": [
    "def souBrut():\n",
    "    hores = int(input(\"Quantes hores has treballat?\"))\n",
    "    souPerHora = int(input(\"Quant cobres per hora?\"))\n",
    "    print(\"El teu sou brut serà de\", hores * souPerHora)\n",
    "\n",
    "\n",
    "souBrut()\n"
   ]
  },
  {
   "cell_type": "markdown",
   "metadata": {},
   "source": [
    "<p class=\"exercici\">Exercici 5: Resultats i tipus de variables</p>\n",
    "\n",
    "Sigui $amplada = 17$ i $altura = 12$, per cadascuna de les següentes operacions indica el resultat numèric i el tipus del resultat (int, float, string..).\n",
    "1. amplada /2\n",
    "1. amplada //2\n",
    "1. altura / 3\n",
    "1. 1 + 2 * 5"
   ]
  },
  {
   "cell_type": "code",
   "execution_count": 5,
   "metadata": {},
   "outputs": [
    {
     "name": "stdout",
     "output_type": "stream",
     "text": [
      "8.5\n",
      "<class 'float'>\n",
      "8\n",
      "<class 'int'>\n",
      "4.0\n",
      "<class 'float'>\n",
      "11\n",
      "<class 'int'>\n"
     ]
    }
   ],
   "source": [
    "amplada = 17\n",
    "altura = 12\n",
    "print(amplada / 2)\n",
    "print(type(amplada / 2))\n",
    "print(amplada //2)\n",
    "print(type(amplada //2))\n",
    "print(altura / 3)\n",
    "print(type(altura / 3))\n",
    "print(1 + 2 * 5)\n",
    "print(type(1 + 2 * 5))"
   ]
  },
  {
   "cell_type": "markdown",
   "metadata": {},
   "source": [
    "<p class=\"exercici\">Exercici 6: Condicionals simples</p>\n",
    "\n",
    "Escriu una funció que li demani un número a l'usuari. Depenent de si és senar o parell mostra el missatge corresponent a pantalla."
   ]
  },
  {
   "cell_type": "code",
   "execution_count": 6,
   "metadata": {},
   "outputs": [
    {
     "name": "stdout",
     "output_type": "stream",
     "text": [
      "Digues-me un número: 14\n",
      "El número és parell\n"
     ]
    }
   ],
   "source": [
    "def senarParell():\n",
    "    num = int(input(\"Digues-me un número: \"))\n",
    "    if num % 2 == 0:\n",
    "        print(\"El número és parell\")\n",
    "    else:\n",
    "        print(\"El número és senar\")\n",
    "\n",
    "\n",
    "senarParell()\n"
   ]
  },
  {
   "cell_type": "code",
   "execution_count": 7,
   "metadata": {},
   "outputs": [
    {
     "name": "stdout",
     "output_type": "stream",
     "text": [
      "Digues-me un número: 17\n",
      "El número és senar\n"
     ]
    }
   ],
   "source": [
    "senarParell()"
   ]
  },
  {
   "cell_type": "markdown",
   "metadata": {},
   "source": [
    "<p class=\"exercici\">Exercici 7: Condicionals compostos</p>\n",
    "\n",
    "Escriu una funció que té tres paràmetres d'entrada, tres enters i retorna el més gran de tots. No pots usar la funció ```max()``` de Python."
   ]
  },
  {
   "cell_type": "code",
   "execution_count": 8,
   "metadata": {},
   "outputs": [],
   "source": [
    "def elMesGran(a, b, c):\n",
    "    if a>b:\n",
    "        if a>c:\n",
    "            print(a)\n",
    "        else:\n",
    "            print(c)\n",
    "    else:\n",
    "        if b>c:\n",
    "            print(b)\n",
    "        else:\n",
    "            print(c)\n"
   ]
  },
  {
   "cell_type": "code",
   "execution_count": 9,
   "metadata": {},
   "outputs": [
    {
     "name": "stdout",
     "output_type": "stream",
     "text": [
      "6\n"
     ]
    }
   ],
   "source": [
    "elMesGran(2, 4, 6)"
   ]
  },
  {
   "cell_type": "code",
   "execution_count": 10,
   "metadata": {},
   "outputs": [
    {
     "name": "stdout",
     "output_type": "stream",
     "text": [
      "6\n"
     ]
    }
   ],
   "source": [
    "elMesGran(2, 6, 4)"
   ]
  },
  {
   "cell_type": "code",
   "execution_count": 11,
   "metadata": {},
   "outputs": [
    {
     "name": "stdout",
     "output_type": "stream",
     "text": [
      "6\n"
     ]
    }
   ],
   "source": [
    "elMesGran(4, 2, 6)"
   ]
  },
  {
   "cell_type": "code",
   "execution_count": 12,
   "metadata": {},
   "outputs": [
    {
     "name": "stdout",
     "output_type": "stream",
     "text": [
      "6\n"
     ]
    }
   ],
   "source": [
    "elMesGran(4, 6, 2)"
   ]
  },
  {
   "cell_type": "code",
   "execution_count": 13,
   "metadata": {},
   "outputs": [
    {
     "name": "stdout",
     "output_type": "stream",
     "text": [
      "6\n"
     ]
    }
   ],
   "source": [
    "elMesGran(6, 2, 4)"
   ]
  },
  {
   "cell_type": "code",
   "execution_count": 14,
   "metadata": {},
   "outputs": [
    {
     "name": "stdout",
     "output_type": "stream",
     "text": [
      "6\n"
     ]
    }
   ],
   "source": [
    "elMesGran(6, 4, 2)"
   ]
  },
  {
   "cell_type": "markdown",
   "metadata": {},
   "source": [
    "<p class=\"exercici\">Exercici 8: Input i print. Càlculs previs amb entrada</p>\n",
    "\n",
    "Reescriu l'exercici del sou brut tenint en compte que les hores per sobre de les 40 les cobrarà 1.5 vegades més."
   ]
  },
  {
   "cell_type": "code",
   "execution_count": 16,
   "metadata": {},
   "outputs": [
    {
     "name": "stdout",
     "output_type": "stream",
     "text": [
      "Quantes hores has treballat? 50\n",
      "Quant cobres per hora? 20\n",
      "El teu sou brut serà de 1100.0\n"
     ]
    }
   ],
   "source": [
    "def souBrutHoresExtres():\n",
    "    hores = int(input(\"Quantes hores has treballat? \"))\n",
    "    souPerHora = int(input(\"Quant cobres per hora? \"))\n",
    "    if hores > 40:\n",
    "        horesExtres = hores - 40\n",
    "        hores = 40\n",
    "    else:\n",
    "        horesExtres = 0\n",
    "    print(\"El teu sou brut serà de\",\n",
    "          hores * souPerHora + horesExtres * souPerHora * 1.5)\n",
    "\n",
    "\n",
    "souBrutHoresExtres()\n"
   ]
  },
  {
   "cell_type": "markdown",
   "metadata": {},
   "source": [
    "<p class=\"exercici\">Exercici 9: Input i print. Control d'entrada</p>\n",
    "\n",
    "Reescriu l'exercici del sou brut tenint en compte que si l'usuari introdueix un text en comptes d'un número el programa li ha de respondre que ha d'introduir un número."
   ]
  },
  {
   "cell_type": "code",
   "execution_count": 17,
   "metadata": {},
   "outputs": [
    {
     "name": "stdout",
     "output_type": "stream",
     "text": [
      "Quantes hores has treballat?deu\n",
      "Has d'introduir un número\n"
     ]
    }
   ],
   "source": [
    "def souBrutControlEntrada():\n",
    "    hores = input(\"Quantes hores has treballat? \")\n",
    "    if hores.isdigit():\n",
    "        souPerHora = int(input(\"Quant cobres per hora? \"))\n",
    "        print(\"El teu sou brut serà de\", int(hores) * souPerHora)\n",
    "    else:\n",
    "        print(\"Has d'introduir un número \")\n",
    "\n",
    "\n",
    "souBrutControlEntrada()\n"
   ]
  },
  {
   "cell_type": "code",
   "execution_count": 18,
   "metadata": {},
   "outputs": [
    {
     "name": "stdout",
     "output_type": "stream",
     "text": [
      "Quantes hores has treballat?10\n",
      "Quant cobres per hora?20\n",
      "El teu sou brut serà de 200\n"
     ]
    }
   ],
   "source": [
    "souBrutControlEntrada()"
   ]
  },
  {
   "cell_type": "markdown",
   "metadata": {},
   "source": [
    "<p class=\"exercici\">Exercici 10: Llenguatge Python</p>\n",
    "\n",
    "Quina és la funció de la paraula reservada ```def``` a Python?\n",
    "\n",
    "1. Indica l'inici de la funció\n",
    "1. Indica que el codi indentat que segueix s'ha de guardar a memòria per poder-lo usar més tard\n",
    "1. 2 i 3 són certes"
   ]
  },
  {
   "cell_type": "markdown",
   "metadata": {},
   "source": [
    "<p class=\"exercici\">Exercici 11: Calcular resposta</p>\n",
    "\n",
    "Què imprimirà el següent codi? Indica la resposta correcta, i després prova-ho en una cel·la de codi.\n",
    "\n",
    "    def albert():\n",
    "        print(\"Zap\")\n",
    "\n",
    "\n",
    "    def cristina():\n",
    "        print(\"ABC\")\n",
    "\n",
    "\n",
    "    cristina()\n",
    "    albert()\n",
    "    cristina()\n",
    "\n",
    "- ABC Zap ABC"
   ]
  },
  {
   "cell_type": "code",
   "execution_count": 19,
   "metadata": {},
   "outputs": [
    {
     "name": "stdout",
     "output_type": "stream",
     "text": [
      "ABC\n",
      "Zap\n",
      "ABC\n"
     ]
    }
   ],
   "source": [
    "def albert():\n",
    "    print(\"Zap\")\n",
    "\n",
    "\n",
    "def cristina():\n",
    "    print(\"ABC\")\n",
    "\n",
    "\n",
    "cristina()\n",
    "albert()\n",
    "cristina()"
   ]
  },
  {
   "cell_type": "markdown",
   "metadata": {},
   "source": [
    "<p class=\"exercici\">Exercici 12: Input amb paràmetres i print. Càlculs previs amb entrada</p>\n",
    "\n",
    "Reescriu l'exercici del sou brut tenint en compte que les hores per sobre de les 40 les cobrarà 1.5 vegades més. Ara l'entrada es farà per paràmetres i no per pantalla"
   ]
  },
  {
   "cell_type": "code",
   "execution_count": 20,
   "metadata": {},
   "outputs": [
    {
     "name": "stdout",
     "output_type": "stream",
     "text": [
      "El teu sou brut serà de 1100.0\n"
     ]
    }
   ],
   "source": [
    "def souBrutHoresExtresParametres(hores, souPerHora):\n",
    "    if hores > 40:\n",
    "        horesExtres = hores - 40\n",
    "        hores = 40\n",
    "    else:\n",
    "        horesExtres = 0\n",
    "    print(\"El teu sou brut serà de\",\n",
    "          hores * souPerHora + horesExtres * souPerHora * 1.5)\n",
    "\n",
    "\n",
    "souBrutHoresExtresParametres(50, 20)"
   ]
  },
  {
   "cell_type": "markdown",
   "metadata": {},
   "source": [
    "<p class=\"exercici\">Exercici 13: Operadors matemàtics</p>\n",
    "\n",
    "Calcula la següent expressió $cos\\left ( \\pi * \\frac{12^{1.5}+4^2+3^3}{42} \\right )$"
   ]
  },
  {
   "cell_type": "code",
   "execution_count": 21,
   "metadata": {},
   "outputs": [
    {
     "name": "stdout",
     "output_type": "stream",
     "text": [
      "0.9990937147385679\n"
     ]
    }
   ],
   "source": [
    "import math\n",
    "\n",
    "\n",
    "print(math.cos(math.pi * (12 ** 1.5 + 4 ** 2 + 3 ** 3) / 42))"
   ]
  },
  {
   "cell_type": "code",
   "execution_count": 1,
   "metadata": {},
   "outputs": [
    {
     "data": {
      "text/html": [
       "<style><style>\n",
       "\n",
       "@import url('http://fonts.googleapis.com/css?family=Source+Code+Pro');\n",
       "@import url('http://fonts.googleapis.com/css?family=Lora');\n",
       "\n",
       "/*   adapted from https://github.com/edwardtufte/et-book/blob/gh-pages/et-book.css */\n",
       "\n",
       "@charset \"UTF-8\";\n",
       "\n",
       "@font-face {\n",
       "  font-family: \"et-book\";\n",
       "  src: url(\"et-book/roman-line-figures.ttf\") format(\"truetype\");\n",
       "  font-weight: normal;\n",
       "  font-style: normal\n",
       "}\n",
       "\n",
       "@font-face {\n",
       "  font-family: \"et-book\";\n",
       "  src: url(\"et-book/display-italic-old-style-figures.ttf\") format(\"truetype\");\n",
       "  font-weight: normal;\n",
       "  font-style: italic\n",
       "}\n",
       "\n",
       "@font-face {\n",
       "  font-family: \"et-book\";\n",
       "  src: url(\"et-book/bold-line-figures.ttf\") format(\"truetype\");\n",
       "  font-weight: bold;\n",
       "  font-style: normal\n",
       "}\n",
       "\n",
       "@font-face {\n",
       "  font-family: \"et-book-roman-old-style\";\n",
       "  src: url(\"et-book/roman-old-style-figures.ttf\") format(\"truetype\");\n",
       "  font-weight: normal;\n",
       "  font-style: normal;\n",
       "}\n",
       "\n",
       "html {\n",
       "       font-size: 15px !important;\n",
       "}\n",
       "\n",
       ".tema, h1 span { font-size: 14pt;\n",
       "\tfont-style: italic;\n",
       "\tfont-weight: 100;}\n",
       "\n",
       "#capcalera {\tfont-family:Arial;\n",
       "\t\tfont-size:12pt;\n",
       "\t\tbackground-color:#fff1f1;\n",
       "\t\tpadding:5px;\n",
       "\t\t}\n",
       "#peu {\tfont-family:Arial;\n",
       "\tfont-size:12pt;\n",
       "\tbackground-color:#fff1f1;\n",
       "\tpadding:2px;\n",
       "\tline-height:1}\n",
       "\n",
       ".exercici {color:#a60d0d;\n",
       "\t   /* border-width:0 0 2px 2px !important;\n",
       "\t   border-style:solid !important;\n",
       "\t   border-color:#5e3333 !important; */ }\n",
       "\n",
       ".explicacio {}\n",
       "\n",
       ".avaluacio {}\n",
       "\n",
       "\n",
       "#notebook-container, .notebook_cell_list {\n",
       "       font-size: 1rem !important;\n",
       "       line-height: 1.5 !important;\n",
       "       width: 100%  !important;\n",
       "       margin-left: auto !important;\n",
       "       margin-right: auto !important;\n",
       "       padding-left: 12.5% !important;\n",
       "       font-family: et-book, Palatino, \"Palatino Linotype\", \"Palatino LT STD\", \"Book Antiqua\", Georgia, serif  !important;\n",
       "       background-color: #fffff8 !important;\n",
       "       color: #111 !important;\n",
       "       max-width: 1400px !important; }\n",
       "\n",
       " .rendered .input_prompt {\n",
       "\t min-width:0 !important; } \n",
       "\n",
       ".text_cell_render h1, .markdown h1 { \n",
       "     font-weight: 400;\n",
       "     font-style: normal;\n",
       "     margin-top: 0rem;\n",
       "     margin-bottom: 0rem;\n",
       "     font-size: 2rem; }\n",
       "\n",
       " .text_cell_render h2 { font-style: italic;\n",
       "     font-weight: 400;\n",
       "     font-size: 1.5rem;\n",
       "     margin-top: 1.5rem;\n",
       "     margin-bottom: 1.5em; }\n",
       "\n",
       " .text_cell_render h3 { font-style: italic;\n",
       "             font-weight: 400;\n",
       "             margin-top: 1rem;\n",
       "             margin-bottom: 1rem;\n",
       "             font-size: 1.2rem;\n",
       "             display: block; }\n",
       "\n",
       " .text_cell_render h4 {\n",
       "    font-size: 1.1rem;\n",
       "    font-weight: 400;\n",
       "    margin: 1rem auto; }\n",
       "\n",
       ".rendered_html p { \n",
       "\tfont-size: 1rem !important; \n",
       "    \tmargin-top: 1rem !important;;\n",
       "    \tmargin-bottom: 1rem !important;;\n",
       "    \tpadding-right: 0 !important;;\n",
       "    \tvertical-align: baseline !important;; }\n",
       "\n",
       ".rendered_html blockquote { font-size: 1.1rem !important;}\n",
       "\n",
       ".rendered_html ol, ul { width: 75% !important;; }\n",
       "\n",
       ".rendered_html li { padding: 0.5rem 0 !important;; }\n",
       "\n",
       ".rendered_html table {\n",
       "  border-top: 2px solid #111 !important;\n",
       "  border-bottom: 2px solid #111 !important;\n",
       "  font-size: 0.8rem !important;\n",
       "}\n",
       "\n",
       ".rendered_html th {\n",
       "  border-bottom: 1px solid #111 !important;\n",
       "}\n",
       "\t \n",
       ".rendered_html a { text-decoration: none !important;\n",
       "         background: linear-gradient(#fffff8, #fffff8), linear-gradient(#fffff8, #fffff8), linear-gradient(#333, #333);\n",
       "         background-size: 0.05em 1px, 0.05em 1px, 1px 1px;\n",
       "         background-repeat: no-repeat, no-repeat, repeat-x;\n",
       "         text-shadow: 0.03em 0 #fffff8, -0.03em 0 #fffff8, 0 0.03em #fffff8, 0 -0.03em #fffff8, 0.06em 0 #fffff8, -0.06em 0 #fffff8, 0.09em 0 #fffff8, -0.09em 0 #fffff8, 0.12em 0 #fffff8, -0.12em 0 #fffff8, 0.15em 0 #fffff8, -0.15em 0 #fffff8;\n",
       "         background-position: 0% 93%, 100% 93%, 0% 93%; }\n",
       "\n",
       ".rendered_html a:link::selection { text-shadow: 0.03em 0 #b4d5fe, -0.03em 0 #b4d5fe, 0 0.03em #b4d5fe, 0 -0.03em #b4d5fe, 0.06em 0 #b4d5fe, -0.06em 0 #b4d5fe, 0.09em 0 #b4d5fe, -0.09em 0 #b4d5fe, 0.12em 0 #b4d5fe, -0.12em 0 #b4d5fe, 0.15em 0 #b4d5fe, -0.15em 0 #b4d5fe;\n",
       "                    background: #b4d5fe; }\n",
       " \n",
       ".rendered_html pre { \n",
       "\tborder:1px solid #cccccc !important; }\n",
       "\n",
       ".rendered_html * code { \n",
       "\tfont-size: 1rem !important;\n",
       "        line-height: 1.5 !important;\n",
       "\tfont-family: Consolas, \"Liberation Mono\", Menlo, Courier, monospace !important;\n",
       "\tbackground-color: #fff !important }\n",
       "</style> \n",
       "<script>\n",
       "    MathJax.Hub.Config({\n",
       "                        TeX: {\n",
       "                           extensions: [\"AMSmath.js\"],\n",
       "                           equationNumbers: { autoNumber: \"AMS\", useLabelIds: true}\n",
       "                           },\n",
       "                tex2jax: {\n",
       "                    inlineMath: [ ['$','$'], [\"\\\\(\",\"\\\\)\"] ],\n",
       "                    displayMath: [ ['$$','$$'], [\"\\\\[\",\"\\\\]\"] ]\n",
       "                },\n",
       "                displayAlign: 'center', // Change this to 'center' to center equations.\n",
       "                \"HTML-CSS\": {\n",
       "                    scale: 95,\n",
       "                        availableFonts: [],\n",
       "                        preferredFont:null,\n",
       "                        webFont: \"TeX\",\n",
       "                    styles: {'.MathJax_Display': {\"margin\": 4}}\n",
       "                },\n",
       "                 \"fast-preview\": {\n",
       "                    \"disabled\": false\n",
       "                }\n",
       "        });\n",
       "</script>\n",
       "</style>"
      ],
      "text/plain": [
       "<IPython.core.display.HTML object>"
      ]
     },
     "execution_count": 1,
     "metadata": {},
     "output_type": "execute_result"
    }
   ],
   "source": [
    "# Executar aquesta cel.la per donar estil al notebook\n",
    "from IPython.core.display import HTML\n",
    "import requests\n",
    "style=requests.get('https://raw.githubusercontent.com/MireiaUB/algorismica2019.github.io/patch-1/prova.css').text\n",
    "HTML('<style>{}</style>'.format(style))"
   ]
  },
  {
   "cell_type": "markdown",
   "metadata": {},
   "source": [
    "<div id=\"peu\">\n",
    "<p><a href=\"https://colab.research.google.com/github/algorismica2019/algorismica2019.github.io/blob/master/problemes/BasicsVariables-Solucio.ipynb\"><img style=\"margin:-10px 10px 20px 0\" width=\"150px\" align=\"right\" src=\"https://raw.githubusercontent.com/algorismica2019/algorismica2019.github.io/master/problemes/assets/colab-badge.png?raw=1\" alt=\"Obrir a Colab\" title=\"Obrir i executar a Google Colaboratory\"></a></p>\n",
    "<p style=\"clear:both;text-align:center\">&lt; <a href=\"BasicsControl.ipynb\">Bàsics control</a> | <a href=\"Basics.ipynb\">Problemes Bàsics de Python</a> | <a href=\"LListatProblemes.ipynb\">LListat de problemes general</a> | <a href=\"BasicsListComprehensions.ipynb\">Bàsics List Comprehensions</a> &gt; </p>\n",
    "</div>"
   ]
  }
 ],
 "metadata": {
  "kernelspec": {
   "display_name": "Python 3",
   "language": "python",
   "name": "python3"
  },
  "language_info": {
   "codemirror_mode": {
    "name": "ipython",
    "version": 3
   },
   "file_extension": ".py",
   "mimetype": "text/x-python",
   "name": "python",
   "nbconvert_exporter": "python",
   "pygments_lexer": "ipython3",
   "version": "3.7.3"
  }
 },
 "nbformat": 4,
 "nbformat_minor": 2
}
