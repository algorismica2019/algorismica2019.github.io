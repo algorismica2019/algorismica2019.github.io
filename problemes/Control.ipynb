{
 "cells": [
  {
   "cell_type": "markdown",
   "metadata": {},
   "source": [
    "\n",
    "<div id=\"capcalera\">\n",
    "<p><a href=\"https://colab.research.google.com/github/algorismica2019/algorismica2019.github.io/blob/master/problemes/Control.ipynb\"><img style=\"margin:-10px 10px 20px 0\" width=\"150px\" align=\"right\" src=\"https://raw.githubusercontent.com/algorismica2019/algorismica2019.github.io/master/problemes/assets/colab-badge.png?raw=1\" alt=\"Obrir a Colab\" title=\"Obrir i executar a Google Colaboratory\"></a></p>\n",
    "<p style=\"clear:both\"><img align='left' width=\"300px\" style=\"padding-right:10px;float=left\" src=\"https://raw.githubusercontent.com/algorismica2019/algorismica2019.github.io/master/problemes/assets/al-khwarizmi.png\">Aquest notebook forma part dels continguts teòrics dels problemes de l'assignatura d'<strong>Algorísmica</strong> deL Grau d'Enginyeria Informàtica a la <a href=\"https://mat.ub.edu\">Facultat de Matemàtiques i Informàtica</a> de la <a href=\"https://www.ub.edu\">Universitat de Barcelona</a> impartida per <em>Jordi Vitrià</em> i <em>Mireia Ribera</em></p>\n",
    "\n",
    "<p>Els problemes s'ofereixen sota llicència <a href=\"https://creativecommons.org/licenses/by-nc-nd/3.0/us/legalcode\">CC-BY-NC-ND license</a>, i el codi sota <a href=\"https://opensource.org/licenses/MIT\">Llicència MIT</a>.</p>\n",
    "\n",
    "<p style=\"clear:both;text-align:center\">&lt; <a href=\"Booleans.ipynb\">Booleans</a> | <a href=\"Teoria.ipynb\">Explicacions teòriques</a> | <a href=\"LListatProblemes.ipynb\">LListat de problemes</a> | <a href=\"Fitxers,ipynb\">IO i Fitxers</a> &gt; </p>\n",
    "\n",
    "</div>"
   ]
  },
  {
   "cell_type": "markdown",
   "metadata": {},
   "source": [
    "# <span class=\"tema\">( Continguts teòrics)</span> Estructures de control"
   ]
  },
  {
   "cell_type": "markdown",
   "metadata": {},
   "source": [
    "## Documentació de Python relacionada\n",
    "\n",
    "- Compound statements: https://docs.python.org/3/reference/compound_stmts.html"
   ]
  },
  {
   "cell_type": "markdown",
   "metadata": {},
   "source": [
    "## Introducció\n",
    "\n",
    "Les estructures de control ens permeten alterar la seqüència d'execució de les instruccions d'un programa.\n",
    "\n",
    "Sense elles els programes s'executarien sempre línia a línia."
   ]
  },
  {
   "cell_type": "markdown",
   "metadata": {},
   "source": [
    "## Condicionals\n",
    "\n",
    "Podem decidir quin codi executar a partir d’una comprovació amb if,elif i else. \n",
    "\n",
    "El programa primer avaluarà la condició de l’if, i si es compleix executarà el codi indentat a continuació. Si no es compleix passarà a avaluar la condició de l’elif (poden haver tants elifs com siguin necessaris o pot no haver-n'hi cap), i així fins a que cap es compleixi, cas en el què s’executaran les instruccions de l’else."
   ]
  },
  {
   "cell_type": "code",
   "execution_count": 1,
   "metadata": {},
   "outputs": [
    {
     "name": "stdout",
     "output_type": "stream",
     "text": [
      "a és major que 4\n"
     ]
    }
   ],
   "source": [
    "# Exemple\n",
    "a = 5\n",
    "if a > 4:\n",
    "    print(\"a és major que 4\")\n",
    "elif a > 2:\n",
    "    print(\"a és major que 2 i igual o menor que 4\")\n",
    "else:\n",
    "    print(\"a és igual o menor que 2\")\n",
    "\n",
    "# Prova el mateix exemple canviant el valor d'a per a = 3 i per a = 1"
   ]
  },
  {
   "cell_type": "markdown",
   "metadata": {},
   "source": [
    "Exercici 1\n",
    "\n",
    "Escriu una funció que donats quatre nombres comprovi si la suma dels dos primers és més gran que la suma dels dos darrers. Hem de tenir en compte també el cas que siguin iguals!\n",
    "\n",
    "Genera tres casos tals que:\n",
    "1. El nombre més gran sigui la suma dels dos primers\n",
    "2. El nombre més gran sigui la suma dels dos darrers\n",
    "3. Els dos primers i els dos darrers sumin el mateix"
   ]
  },
  {
   "cell_type": "markdown",
   "metadata": {},
   "source": [
    "## Iteracions\n",
    "\n",
    "Les iteracions són estructures que ens permeten repetir un conjunt d’instruccions amb diferents valors.\n",
    "La repetició ve determinada o bé pel compliment d'una condició o per un rang de valors a recorrer."
   ]
  },
  {
   "cell_type": "code",
   "execution_count": 2,
   "metadata": {},
   "outputs": [
    {
     "name": "stdout",
     "output_type": "stream",
     "text": [
      "1\n",
      "2\n",
      "3\n",
      "4\n"
     ]
    }
   ],
   "source": [
    "# Exemple\n",
    "a = 1\n",
    "while (a < 5):\n",
    "    print(a)\n",
    "    a += 1    # A Python l'operació d'autoincrement s'escriu així\n",
    "\n",
    "# Prova el mateix exemple canviant el valor de la condició per 3 \n",
    "# i del valor inicial d'a per 4"
   ]
  },
  {
   "cell_type": "markdown",
   "metadata": {},
   "source": [
    "### Iteració while\n",
    "\n",
    "A la iteració while establim una condició de sortida. Mentre la condició sigui certa, les instruccions dins la iteració s'aniran repetint.\n",
    "\n",
    "Per tant és molt important verificar que la condició varia, ja sigui per l'entrada de l'usuari o perquè el programa incrementa la variable de la condició. Altrament podem crear bucles infinits que no acabaran mai.\n",
    "\n",
    "Aquest tipus d'iteració s'usa quan en temps de programació no es coneix en quin moment cal acabar la repetició d'instruccions."
   ]
  },
  {
   "cell_type": "code",
   "execution_count": 3,
   "metadata": {},
   "outputs": [
    {
     "name": "stdout",
     "output_type": "stream",
     "text": [
      "Introdueix un nombre menor que 5: 4\n",
      "molt bé, 4  és menor que 5\n"
     ]
    }
   ],
   "source": [
    "# Exemple\n",
    "a = int(input(\"Introdueix un nombre menor que 5: \"))\n",
    "while (a >= 5):\n",
    "    print(\"El nombre introduit no és menor que 5\")\n",
    "    a = int(input(\"Introdueix un nombre menor que 5: \"))\n",
    "print(\"molt bé,\", a, \" és menor que 5\")\n",
    "# prova diverses execucions del codi"
   ]
  },
  {
   "cell_type": "markdown",
   "metadata": {},
   "source": [
    "### Iteració for\n",
    "\n",
    "A la iteració for hi ha una variable que va prenent valors dins un rang. Aquesta variable pot ser numèrica però també pot ser de qualsevol altre tipus si el rang és una llista d'aquest tipus.\n",
    "\n",
    "Si s'usa una variable numèrica se sol definir el valor inicial, el valor final i l'increment a cada iteració amb un rang segons el model start (valor inicial), stop (valor final al que no s'ha d'arribar), step (salt). \n",
    "\n",
    "Aquest tipus d'iteració s'usa quan en temps de programació es coneix exactament quan es començarà i quan s'acabarà el recorregut.\n"
   ]
  },
  {
   "cell_type": "code",
   "execution_count": 4,
   "metadata": {},
   "outputs": [
    {
     "name": "stdout",
     "output_type": "stream",
     "text": [
      "0\n",
      "1\n",
      "2\n",
      "3\n",
      "4\n",
      "5\n",
      "6\n",
      "7\n",
      "8\n",
      "9\n"
     ]
    }
   ],
   "source": [
    "# Exemple\n",
    "for i in range(0, 10): # valor inicial:0 \n",
    "                       # valor final: 10 [quan hi arriba surt, no itera]\n",
    "                       # increment: no s'indica, per defecte és 1\n",
    "    print(i)"
   ]
  },
  {
   "cell_type": "markdown",
   "metadata": {},
   "source": [
    "Fixeu-vos que el 10 no es mostra, ja que quan arriba a 10 surt del bucle."
   ]
  },
  {
   "cell_type": "code",
   "execution_count": 5,
   "metadata": {},
   "outputs": [
    {
     "name": "stdout",
     "output_type": "stream",
     "text": [
      "0\n",
      "2\n",
      "4\n",
      "6\n",
      "8\n"
     ]
    }
   ],
   "source": [
    "# Exemple\n",
    "for i in range(0, 10, 2):  # valor inicial:0 \n",
    "                           # valor final: 10 [quan hi arriba surt, no itera]\n",
    "                           # increment: 2\n",
    "    print(i)"
   ]
  },
  {
   "cell_type": "code",
   "execution_count": 6,
   "metadata": {},
   "outputs": [
    {
     "name": "stdout",
     "output_type": "stream",
     "text": [
      "10\n",
      "5\n"
     ]
    }
   ],
   "source": [
    "# Exemple\n",
    "for i in range(10, 0, -5):  # valor inicial: 10 \n",
    "                            # valor final: 0 [quan hi arriba surt, no itera]\n",
    "                            # increment: -5\n",
    "    print(i)\n",
    "# Abans d'executar el codi, pensa quin resultat apareixerà"
   ]
  },
  {
   "cell_type": "code",
   "execution_count": 7,
   "metadata": {},
   "outputs": [
    {
     "name": "stdout",
     "output_type": "stream",
     "text": [
      "gat\n",
      "gos\n",
      "canari\n"
     ]
    }
   ],
   "source": [
    "# Exemple\n",
    "for animal in [\"gat\", \"gos\", \"canari\"]:  \n",
    "    print(animal)\n",
    "# En aquest cas la variable, \"animal\", va prenent els valors dins la llista"
   ]
  },
  {
   "cell_type": "markdown",
   "metadata": {},
   "source": [
    "### Inicialització i valors finals\n",
    "\n",
    "Quan usem bucles sovint hem de pensar a inicialitzar algunes variables abans d'entrar al bucle, i a tractar els casos finals després de sortir del bucle."
   ]
  },
  {
   "cell_type": "markdown",
   "metadata": {},
   "source": [
    "### <span class=\"exercici\">Exercici 1: Converteix a una iteració ``while`` la següent iteració ``for``:</span>\n",
    "    \n",
    "```python\n",
    "word = 'hola'\n",
    "for a in word:\n",
    "    print(a)\n",
    "```"
   ]
  },
  {
   "cell_type": "markdown",
   "metadata": {},
   "source": [
    "### <span class=\"exercici\">Exercici 2: Conversió a dolars</span>\n",
    "\n",
    "Escriu una funció que converteixi dolars en euros per a 100, 200, 300... fins a 1000 dolars. Pots inspirar-te en la funció convert que et donem feta. Fes una versió amb for i una versió amb while."
   ]
  },
  {
   "cell_type": "code",
   "execution_count": 8,
   "metadata": {},
   "outputs": [
    {
     "name": "stdout",
     "output_type": "stream",
     "text": [
      "Quants dolars vols convertir? 10\n",
      "Amb 10 $, pots obtenir  8.6 €\n"
     ]
    }
   ],
   "source": [
    "def convert():\n",
    "    dolars = int(input(\"Quants dolars vols convertir? \"))\n",
    "    euros = dolars * 0.86\n",
    "    print(\"Amb\", dolars, \"$, pots obtenir \",euros,\"€\")\n",
    "    \n",
    "convert()"
   ]
  },
  {
   "cell_type": "markdown",
   "metadata": {},
   "source": [
    "Quina estructura t'ha semblat més adient per aquest problema (for o while)? Perquè?"
   ]
  },
  {
   "cell_type": "markdown",
   "metadata": {},
   "source": [
    "### <span class=\"exercici\">Exercici 3: Suma múltiples de 4 fins a 10000</span>\n",
    "\n",
    "Fes una funció, ``suma``, que sumi tots els nombres naturals menors que 10000  múltiples de 4. En aquesta funció has de fer servir una variable de tipus *acumulador* que va incrementant-se a cada iteració. Aquest tipus de variables és comú en els bucles."
   ]
  },
  {
   "cell_type": "code",
   "execution_count": 1,
   "metadata": {},
   "outputs": [
    {
     "data": {
      "text/html": [
       "<style><style>\n",
       "\n",
       "@import url('http://fonts.googleapis.com/css?family=Source+Code+Pro');\n",
       "@import url('http://fonts.googleapis.com/css?family=Lora');\n",
       "\n",
       "/*   adapted from https://github.com/edwardtufte/et-book/blob/gh-pages/et-book.css */\n",
       "\n",
       "@charset \"UTF-8\";\n",
       "\n",
       "@font-face {\n",
       "  font-family: \"et-book\";\n",
       "  src: url(\"et-book/roman-line-figures.ttf\") format(\"truetype\");\n",
       "  font-weight: normal;\n",
       "  font-style: normal\n",
       "}\n",
       "\n",
       "@font-face {\n",
       "  font-family: \"et-book\";\n",
       "  src: url(\"et-book/display-italic-old-style-figures.ttf\") format(\"truetype\");\n",
       "  font-weight: normal;\n",
       "  font-style: italic\n",
       "}\n",
       "\n",
       "@font-face {\n",
       "  font-family: \"et-book\";\n",
       "  src: url(\"et-book/bold-line-figures.ttf\") format(\"truetype\");\n",
       "  font-weight: bold;\n",
       "  font-style: normal\n",
       "}\n",
       "\n",
       "@font-face {\n",
       "  font-family: \"et-book-roman-old-style\";\n",
       "  src: url(\"et-book/roman-old-style-figures.ttf\") format(\"truetype\");\n",
       "  font-weight: normal;\n",
       "  font-style: normal;\n",
       "}\n",
       "\n",
       "html {\n",
       "       font-size: 15px !important;\n",
       "}\n",
       "\n",
       ".tema, h1 span { font-size: 14pt;\n",
       "\tfont-style: italic;\n",
       "\tfont-weight: 100;}\n",
       "\n",
       "#capcalera {\tfont-family:Arial;\n",
       "\t\tfont-size:12pt;\n",
       "\t\tbackground-color:#fff1f1;\n",
       "\t\tpadding:5px;\n",
       "\t\t}\n",
       "#peu {\tfont-family:Arial;\n",
       "\tfont-size:12pt;\n",
       "\tbackground-color:#fff1f1;\n",
       "\tpadding:2px;\n",
       "\tline-height:1}\n",
       "\n",
       ".exercici {color:#a60d0d;\n",
       "\t   /* border-width:0 0 2px 2px !important;\n",
       "\t   border-style:solid !important;\n",
       "\t   border-color:#5e3333 !important; */ }\n",
       "\n",
       ".explicacio {}\n",
       "\n",
       ".avaluacio {}\n",
       "\n",
       "\n",
       "#notebook-container, .notebook_cell_list {\n",
       "       font-size: 1rem !important;\n",
       "       line-height: 1.5 !important;\n",
       "       width: 100%  !important;\n",
       "       margin-left: auto !important;\n",
       "       margin-right: auto !important;\n",
       "       padding-left: 12.5% !important;\n",
       "       font-family: et-book, Palatino, \"Palatino Linotype\", \"Palatino LT STD\", \"Book Antiqua\", Georgia, serif  !important;\n",
       "       background-color: #fffff8 !important;\n",
       "       color: #111 !important;\n",
       "       max-width: 1400px !important; }\n",
       "\n",
       " .rendered .input_prompt {\n",
       "\t min-width:0 !important; } \n",
       "\n",
       ".text_cell_render h1, .markdown h1 { \n",
       "     font-weight: 400;\n",
       "     font-style: normal;\n",
       "     margin-top: 0rem;\n",
       "     margin-bottom: 0rem;\n",
       "     font-size: 2rem; }\n",
       "\n",
       " .text_cell_render h2 { font-style: italic;\n",
       "     font-weight: 400;\n",
       "     font-size: 1.5rem;\n",
       "     margin-top: 1.5rem;\n",
       "     margin-bottom: 1.5em; }\n",
       "\n",
       " .text_cell_render h3 { font-style: italic;\n",
       "             font-weight: 400;\n",
       "             margin-top: 1rem;\n",
       "             margin-bottom: 1rem;\n",
       "             font-size: 1.2rem;\n",
       "             display: block; }\n",
       "\n",
       " .text_cell_render h4 {\n",
       "    font-size: 1.1rem;\n",
       "    font-weight: 400;\n",
       "    margin: 1rem auto; }\n",
       "\n",
       ".rendered_html p { \n",
       "\tfont-size: 1rem !important; \n",
       "    \tmargin-top: 1rem !important;;\n",
       "    \tmargin-bottom: 1rem !important;;\n",
       "    \tpadding-right: 0 !important;;\n",
       "    \tvertical-align: baseline !important;; }\n",
       "\n",
       ".rendered_html blockquote { font-size: 1.1rem !important;}\n",
       "\n",
       ".rendered_html ol, ul { width: 75% !important;; }\n",
       "\n",
       ".rendered_html li { padding: 0.5rem 0 !important;; }\n",
       "\n",
       ".rendered_html table {\n",
       "  border-top: 2px solid #111 !important;\n",
       "  border-bottom: 2px solid #111 !important;\n",
       "  font-size: 0.8rem !important;\n",
       "}\n",
       "\n",
       ".rendered_html th {\n",
       "  border-bottom: 1px solid #111 !important;\n",
       "}\n",
       "\t \n",
       ".rendered_html a { text-decoration: none !important;\n",
       "         background: linear-gradient(#fffff8, #fffff8), linear-gradient(#fffff8, #fffff8), linear-gradient(#333, #333);\n",
       "         background-size: 0.05em 1px, 0.05em 1px, 1px 1px;\n",
       "         background-repeat: no-repeat, no-repeat, repeat-x;\n",
       "         text-shadow: 0.03em 0 #fffff8, -0.03em 0 #fffff8, 0 0.03em #fffff8, 0 -0.03em #fffff8, 0.06em 0 #fffff8, -0.06em 0 #fffff8, 0.09em 0 #fffff8, -0.09em 0 #fffff8, 0.12em 0 #fffff8, -0.12em 0 #fffff8, 0.15em 0 #fffff8, -0.15em 0 #fffff8;\n",
       "         background-position: 0% 93%, 100% 93%, 0% 93%; }\n",
       "\n",
       ".rendered_html a:link::selection { text-shadow: 0.03em 0 #b4d5fe, -0.03em 0 #b4d5fe, 0 0.03em #b4d5fe, 0 -0.03em #b4d5fe, 0.06em 0 #b4d5fe, -0.06em 0 #b4d5fe, 0.09em 0 #b4d5fe, -0.09em 0 #b4d5fe, 0.12em 0 #b4d5fe, -0.12em 0 #b4d5fe, 0.15em 0 #b4d5fe, -0.15em 0 #b4d5fe;\n",
       "                    background: #b4d5fe; }\n",
       " \n",
       ".rendered_html pre { \n",
       "\tborder:1px solid #cccccc !important; }\n",
       "\n",
       ".rendered_html * code { \n",
       "\tfont-size: 1rem !important;\n",
       "        line-height: 1.5 !important;\n",
       "\tfont-family: Consolas, \"Liberation Mono\", Menlo, Courier, monospace !important;\n",
       "\tbackground-color: #fff !important }\n",
       "</style> \n",
       "<script>\n",
       "    MathJax.Hub.Config({\n",
       "                        TeX: {\n",
       "                           extensions: [\"AMSmath.js\"],\n",
       "                           equationNumbers: { autoNumber: \"AMS\", useLabelIds: true}\n",
       "                           },\n",
       "                tex2jax: {\n",
       "                    inlineMath: [ ['$','$'], [\"\\\\(\",\"\\\\)\"] ],\n",
       "                    displayMath: [ ['$$','$$'], [\"\\\\[\",\"\\\\]\"] ]\n",
       "                },\n",
       "                displayAlign: 'center', // Change this to 'center' to center equations.\n",
       "                \"HTML-CSS\": {\n",
       "                    scale: 95,\n",
       "                        availableFonts: [],\n",
       "                        preferredFont:null,\n",
       "                        webFont: \"TeX\",\n",
       "                    styles: {'.MathJax_Display': {\"margin\": 4}}\n",
       "                },\n",
       "                 \"fast-preview\": {\n",
       "                    \"disabled\": false\n",
       "                }\n",
       "        });\n",
       "</script>\n",
       "</style>"
      ],
      "text/plain": [
       "<IPython.core.display.HTML object>"
      ]
     },
     "execution_count": 1,
     "metadata": {},
     "output_type": "execute_result"
    }
   ],
   "source": [
    "# Executar aquesta cel.la per donar estil al notebook\n",
    "from IPython.core.display import HTML\n",
    "import requests\n",
    "style=requests.get('https://raw.githubusercontent.com/MireiaUB/algorismica2019.github.io/patch-1/prova.css').text\n",
    "HTML('<style>{}</style>'.format(style))"
   ]
  },
  {
   "cell_type": "markdown",
   "metadata": {},
   "source": [
    "<div id=\"peu\">\n",
    "<p><a href=\"https://colab.research.google.com/github/algorismica2019/algorismica2019.github.io/blob/master/problemes/Control.ipynb\"><img style=\"margin:-10px 10px 20px 0\" width=\"150px\" align=\"right\" src=\"https://raw.githubusercontent.com/algorismica2019/algorismica2019.github.io/master/problemes/assets/colab-badge.png?raw=1\" alt=\"Obrir a Colab\" title=\"Obrir i executar a Google Colaboratory\"></a></p>\n",
    "<p style=\"clear:both;text-align:center\">&lt; <a href=\"Booleans.ipynb\">Booleans</a> | <a href=\"Teoria.ipynb\">Explicacions teòriques</a> | <a href=\"LListatProblemes.ipynb\">LListat de problemes</a> | <a href=\"Fitxers,ipynb\">IO i Fitxers</a> &gt; </p>\n",
    "</div>"
   ]
  }
 ],
 "metadata": {
  "kernelspec": {
   "display_name": "Python 3",
   "language": "python",
   "name": "python3"
  },
  "language_info": {
   "codemirror_mode": {
    "name": "ipython",
    "version": 3
   },
   "file_extension": ".py",
   "mimetype": "text/x-python",
   "name": "python",
   "nbconvert_exporter": "python",
   "pygments_lexer": "ipython3",
   "version": "3.7.3"
  }
 },
 "nbformat": 4,
 "nbformat_minor": 1
}
