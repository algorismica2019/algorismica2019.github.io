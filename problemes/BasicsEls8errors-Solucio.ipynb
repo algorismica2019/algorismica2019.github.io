{
 "cells": [
  {
   "cell_type": "markdown",
   "metadata": {},
   "source": [
    "\n",
    "<div id=\"capcalera\">\n",
    "<p><a href=\"https://colab.research.google.com/github/algorismica2019/algorismica2019.github.io/blob/master/problemes/BasicsEls8errors-Solucio.ipynb\"><img style=\"margin:-10px 10px 20px 0\" width=\"150px\" align=\"right\" src=\"https://raw.githubusercontent.com/algorismica2019/algorismica2019.github.io/master/problemes/assets/colab-badge.png?raw=1\" alt=\"Obrir a Colab\" title=\"Obrir i executar a Google Colaboratory\"></a></p>\n",
    "<p style=\"clear:both\"><img align='left' width=\"300px\" style=\"padding-right:10px;float=left\" src=\"https://raw.githubusercontent.com/algorismica2019/algorismica2019.github.io/master/problemes/assets/al-khwarizmi.png\">Aquest notebook forma part dels continguts teòrics dels problemes de l'assignatura d'<strong>Algorísmica</strong> deL Grau d'Enginyeria Informàtica a la <a href=\"https://mat.ub.edu\">Facultat de Matemàtiques i Informàtica</a> de la <a href=\"https://www.ub.edu\">Universitat de Barcelona</a> impartida per <em>Jordi Vitrià</em> i <em>Mireia Ribera</em></p>\n",
    "\n",
    "<p>Els problemes s'ofereixen sota llicència <a href=\"https://creativecommons.org/licenses/by-nc-nd/3.0/us/legalcode\">CC-BY-NC-ND license</a>, i el codi sota <a href=\"https://opensource.org/licenses/MIT\">Llicència MIT</a>.</p>\n",
    "\n",
    "<p style=\"clear:both;text-align:center\">&lt; <a href=\"BasicsCalculComplexitat.ipynb\">Bàsics  càlcul complexitat</a>| <a href=\"Basics.ipynb\">Problemes Bàsics de Python</a> | <a href=\"LListatProblemes.ipynb\">LListat de problemes general</a> | <a href=\"Python.ipynb\">Algorismes senzills amb Python</a> &gt; </p>\n",
    "\n",
    "</div>"
   ]
  },
  {
   "cell_type": "markdown",
   "metadata": {},
   "source": [
    "# <span class=\"tema\">(Bàsics Python)</span> Els 8 errors - Solucions"
   ]
  },
  {
   "cell_type": "markdown",
   "metadata": {},
   "source": [
    "Aquest fitxer mostra les solucions als exercicis bàsics de cadenes [Basics els 8 errors](BasicsEls8Errors.ipynb)"
   ]
  },
  {
   "cell_type": "markdown",
   "metadata": {},
   "source": [
    "En aquest notebook hem introduït un seguit d'errors de programació (alguns garrafals, altres d'estil, altres com a males pràctiques), inspirats per errors habituals trobats en els exercicis presentats en aquesta assignatura.\n",
    "\n",
    "Si aprens a detectar aquests errors abans de fer-los la teva programació millorarà i el teu codi serà més llegible.</p>"
   ]
  },
  {
   "cell_type": "markdown",
   "metadata": {},
   "source": [
    "<p class=\"exercici\">Exercici 1. Estructures de control</p> \n",
    "\n",
    "+ Abans d'executar el codi següent mira'l bé i detecta que falla. Explica quin és el problema"
   ]
  },
  {
   "cell_type": "code",
   "execution_count": null,
   "metadata": {
    "collapsed": true
   },
   "outputs": [],
   "source": [
    "def recorregut():\n",
    "    llista = [4, 5, 7, 2, 4, 9]\n",
    "    i = llista[0]\n",
    "    while i in llista:\n",
    "        print(i)\n"
   ]
  },
  {
   "cell_type": "code",
   "execution_count": 13,
   "metadata": {},
   "outputs": [
    {
     "name": "stdout",
     "output_type": "stream",
     "text": [
      "4\n",
      "5\n",
      "7\n",
      "2\n",
      "4\n",
      "9\n"
     ]
    }
   ],
   "source": [
    "# Introdueix aquí la correcció de la funció i l'explicació de l'error. \n",
    "\n",
    "\n",
    "def recorregut2():\n",
    "    llista = [4, 5, 7, 2, 4, 9]\n",
    "    i = llista[0]\n",
    "    for i in llista:\n",
    "        print(i)\n",
    "\n",
    "\n",
    "recorregut2()\n"
   ]
  },
  {
   "cell_type": "markdown",
   "metadata": {},
   "source": [
    "Explicació desxifrada: En aquest exercici hi ha dos problemes. Un de garrafal que és que el while és infinit, perquè la variable involucrada en la comparació no s'actualitza. L'altre d'estil, que essent una llista coneguda i un recorregut complet, seria millor usar el for."
   ]
  },
  {
   "cell_type": "markdown",
   "metadata": {},
   "source": [
    "\n",
    "<p class=\"exercici\"> Exercici 2. Rangs</p>\n",
    "\n",
    "+ Prova d'executar la següent funció amb diverses paraules, i també amb \"acaben\". Què passa? per què?"
   ]
  },
  {
   "cell_type": "code",
   "execution_count": 6,
   "metadata": {},
   "outputs": [],
   "source": [
    "def trobarny(paraula):\n",
    "    trobat = \"False\"\n",
    "    lon = len(paraula)\n",
    "    for i in range(lon):\n",
    "        if paraula[i] == \"n\" and paraula[i + 1] == \"y\":\n",
    "            trobat = \"True\"\n",
    "            break\n",
    "    return trobat\n"
   ]
  },
  {
   "cell_type": "code",
   "execution_count": 14,
   "metadata": {},
   "outputs": [
    {
     "data": {
      "text/plain": [
       "False"
      ]
     },
     "execution_count": 14,
     "metadata": {},
     "output_type": "execute_result"
    }
   ],
   "source": [
    "# Introdueix aquí la correcció de la funció i l'explicació de l'error.\n",
    "\n",
    "\n",
    "def trobarny2(paraula):\n",
    "    trobat = False\n",
    "    lon = len(paraula)\n",
    "    i = 0\n",
    "    while i in range(lon-1) and not(trobat):\n",
    "        if paraula[i] == \"n\" and paraula[i + 1] == \"y\":\n",
    "            trobat = True\n",
    "        i += 1\n",
    "    return trobat\n",
    "\n",
    "\n",
    "trobarny2(\"acaben\")\n"
   ]
  },
  {
   "cell_type": "markdown",
   "metadata": {},
   "source": [
    "Explicació desxifrada: En aquest cas es produeix un índex fora de rang, perquè el codi controla el valor de i, però no de i+1. Per altra banda, per estil, caldria usar un while en comptes d'un for."
   ]
  },
  {
   "cell_type": "markdown",
   "metadata": {},
   "source": [
    "<p class=\"exercici\">Exercici 3. Rangs i estructures de control</p> \n",
    "\n",
    "+ El següent codi ha de mostrar a pantalla les centenes de 0 a 1000. És correcte? I què et sembla el codi de centenar2? abans d'executar-los analitza el codi i intenta respondre."
   ]
  },
  {
   "cell_type": "code",
   "execution_count": null,
   "metadata": {},
   "outputs": [],
   "source": [
    "def centenars():\n",
    "    for i in range(0, 1000, 100):\n",
    "        print(i)\n",
    "\n",
    "def centenars2():\n",
    "    while i < 1000:\n",
    "        i += 100\n",
    "        print(i)\n"
   ]
  },
  {
   "cell_type": "code",
   "execution_count": 15,
   "metadata": {},
   "outputs": [
    {
     "name": "stdout",
     "output_type": "stream",
     "text": [
      "0\n",
      "100\n",
      "200\n",
      "300\n",
      "400\n",
      "500\n",
      "600\n",
      "700\n",
      "800\n",
      "900\n",
      "1000\n",
      "0\n",
      "100\n",
      "200\n",
      "300\n",
      "400\n",
      "500\n",
      "600\n",
      "700\n",
      "800\n",
      "900\n",
      "1000\n"
     ]
    }
   ],
   "source": [
    "# Introdueix aquí la correcció de la funció i l'explicació de l'error.\n",
    "\n",
    "\n",
    "def centenars3():\n",
    "    for i in range(0, 1100, 100):\n",
    "        print(i)\n",
    "\n",
    "\n",
    "def centenars4():\n",
    "    i = 0\n",
    "    while i <= 1000:\n",
    "        print(i)\n",
    "        i += 100\n",
    "\n",
    "\n",
    "centenars3()\n",
    "centenars4()\n"
   ]
  },
  {
   "cell_type": "markdown",
   "metadata": {},
   "source": [
    "Explicació desxifrada: En el primer cas el rang està mal definit i mai s'arribarà a 1000. En el segon cal inicialitzar la variable i usar un while per un rang conegut prèviament no és una bona pràctica."
   ]
  },
  {
   "cell_type": "markdown",
   "metadata": {},
   "source": [
    "<p class=\"exercici\">Exercici 4. Els diccionarisa</p>\n",
    "\n",
    "+ Abans d'executar el següent codi mira si funcionarà i en cas contrari explica per què"
   ]
  },
  {
   "cell_type": "code",
   "execution_count": null,
   "metadata": {},
   "outputs": [],
   "source": [
    "def colortriat():\n",
    "    diccionari = {\"vermell\": 1, \"blau\": 2, \"verd\": 3}\n",
    "    a = input(\"Digues un número de l'1 al 3 \")\n",
    "    return diccionari[a]\n"
   ]
  },
  {
   "cell_type": "code",
   "execution_count": 17,
   "metadata": {},
   "outputs": [
    {
     "name": "stdout",
     "output_type": "stream",
     "text": [
      "Digues un número de l'1 al 3 2\n"
     ]
    },
    {
     "data": {
      "text/plain": [
       "'blau'"
      ]
     },
     "execution_count": 17,
     "metadata": {},
     "output_type": "execute_result"
    }
   ],
   "source": [
    "# Introdueix aquí la correcció de la funció i l'explicació de l'error.\n",
    "\n",
    "\n",
    "def colortriat2():\n",
    "    diccionari = {1: \"vermell\", 2: \"blau\", 3: \"verd\"}\n",
    "    a = int(input(\"Digues un número de l'1 al 3 \"))\n",
    "    return diccionari[a]\n",
    "\n",
    "\n",
    "colortriat2()\n"
   ]
  },
  {
   "cell_type": "markdown",
   "metadata": {},
   "source": [
    "Explicació desxifrada: Per recuperar el valor d'una parella del diccionari, cal cridar-la per la clau. Caldria redefinir el diccionari com a 1:'vermell', 2:'blau'... A més cal fer la conversió a integer"
   ]
  },
  {
   "cell_type": "markdown",
   "metadata": {},
   "source": [
    "\n",
    "<p class=\"exercici\">Exercici 5. Els noms de les variables</p>\n",
    "\n",
    "+ Llegeix les dues funcions següents (ambdues correctes) i explica què fan. Quina t'ha sigut més fàcil d'entendre?"
   ]
  },
  {
   "cell_type": "code",
   "execution_count": null,
   "metadata": {},
   "outputs": [],
   "source": [
    "def conversio(n):\n",
    "    z = n % 60\n",
    "    x = ((n - z) % 3600) / 60\n",
    "    y = (n - x * 60 - z) / 3600\n",
    "    print(y, ':', x, ':', z)\n",
    "\n",
    "\n",
    "def conversio2(euros):\n",
    "    USD = 1.14 * euros\n",
    "    UKP = 0.74 * euros\n",
    "    print(euros, \" € equivalen a \", USD, \" dòlars americans i a \",\n",
    "          UKP, \" lliures esterlines\")\n"
   ]
  },
  {
   "cell_type": "code",
   "execution_count": null,
   "metadata": {
    "collapsed": true
   },
   "outputs": [],
   "source": [
    "# Introdueix aquí la correcció de la funció i l'explicació de l'error. "
   ]
  },
  {
   "cell_type": "markdown",
   "metadata": {},
   "source": [
    "Explicació desxifrada: Aquí no hi ha cap error garrafal, simplement es vol demostrar que tenir variables amb un nom aclaridor facilita la llegibilitat del codi."
   ]
  },
  {
   "cell_type": "markdown",
   "metadata": {},
   "source": [
    "<p class=\"exercici\">Exercici 6. Acumuladors i returns</p>\n",
    "\n",
    "+ Uuups, quin làpsus! què passa a la funció següent?"
   ]
  },
  {
   "cell_type": "code",
   "execution_count": null,
   "metadata": {},
   "outputs": [],
   "source": [
    "def suma():\n",
    "    a = -1\n",
    "    while a != 0:\n",
    "        a = input(\"Entra el preu del producte, 0 per acabar \")\n",
    "        compra = compra + a\n",
    "    return suma\n"
   ]
  },
  {
   "cell_type": "code",
   "execution_count": null,
   "metadata": {
    "collapsed": true
   },
   "outputs": [],
   "source": [
    "# Introdueix aquí la correcció de la funció i l'explicació de l'error.\n",
    "\n",
    "\n",
    "def suma():\n",
    "    compra = 0\n",
    "    a = -1\n",
    "    while a != 0:\n",
    "        a = input(\"Entra el preu del producte, 0 per acabar \")\n",
    "        compra = compra + a\n",
    "    return compra\n"
   ]
  },
  {
   "cell_type": "markdown",
   "metadata": {},
   "source": [
    "Explicació desxifrada: En primer lloc cal inicialitzar compra, i en segon cal retornar compra i no suma!"
   ]
  },
  {
   "cell_type": "markdown",
   "metadata": {},
   "source": [
    "<p class=\"exercici\">Exercici 7. Fitxers</p>\n",
    "+ Què creus que hauria de donar com a resultat aquesta funció? per què no ho fa?"
   ]
  },
  {
   "cell_type": "code",
   "execution_count": null,
   "metadata": {
    "collapsed": true
   },
   "outputs": [],
   "source": [
    "def llegiriescriure():\n",
    "    fitxer = \"prova.txt\"\n",
    "    o = open(fitxer, \"w\")\n",
    "    o.write(\"Hola\")\n",
    "    i = open(fitxer, \"r\")\n",
    "    text = i.read()\n",
    "    print(text)\n"
   ]
  },
  {
   "cell_type": "code",
   "execution_count": 1,
   "metadata": {},
   "outputs": [],
   "source": [
    "# Introdueix aquí la correcció de la funció i l'explicació de l'error.\n",
    "\n",
    "\n",
    "def llegiriescriure():\n",
    "    fitxer = \"prova.txt\"\n",
    "    o = open(fitxer, \"w\")\n",
    "    o.write(\"Hola\")\n",
    "    o.close()\n",
    "    i = open(fitxer, \"r\")\n",
    "    text = i.read()\n",
    "    print(text)\n",
    "    i.close()\n"
   ]
  },
  {
   "cell_type": "markdown",
   "metadata": {},
   "source": [
    "Explicació desxifrada: Si un fitxer no es tanca a temps, pot donar problemes amb el contingut que s'hi ha escrit."
   ]
  },
  {
   "cell_type": "code",
   "execution_count": 1,
   "metadata": {},
   "outputs": [
    {
     "data": {
      "text/html": [
       "<style><style>\n",
       "\n",
       "@import url('http://fonts.googleapis.com/css?family=Source+Code+Pro');\n",
       "@import url('http://fonts.googleapis.com/css?family=Lora');\n",
       "\n",
       "/*   adapted from https://github.com/edwardtufte/et-book/blob/gh-pages/et-book.css */\n",
       "\n",
       "@charset \"UTF-8\";\n",
       "\n",
       "@font-face {\n",
       "  font-family: \"et-book\";\n",
       "  src: url(\"et-book/roman-line-figures.ttf\") format(\"truetype\");\n",
       "  font-weight: normal;\n",
       "  font-style: normal\n",
       "}\n",
       "\n",
       "@font-face {\n",
       "  font-family: \"et-book\";\n",
       "  src: url(\"et-book/display-italic-old-style-figures.ttf\") format(\"truetype\");\n",
       "  font-weight: normal;\n",
       "  font-style: italic\n",
       "}\n",
       "\n",
       "@font-face {\n",
       "  font-family: \"et-book\";\n",
       "  src: url(\"et-book/bold-line-figures.ttf\") format(\"truetype\");\n",
       "  font-weight: bold;\n",
       "  font-style: normal\n",
       "}\n",
       "\n",
       "@font-face {\n",
       "  font-family: \"et-book-roman-old-style\";\n",
       "  src: url(\"et-book/roman-old-style-figures.ttf\") format(\"truetype\");\n",
       "  font-weight: normal;\n",
       "  font-style: normal;\n",
       "}\n",
       "\n",
       "html {\n",
       "       font-size: 15px !important;\n",
       "}\n",
       "\n",
       ".tema, h1 span { font-size: 14pt;\n",
       "\tfont-style: italic;\n",
       "\tfont-weight: 100;}\n",
       "\n",
       "#capcalera {\tfont-family:Arial;\n",
       "\t\tfont-size:12pt;\n",
       "\t\tbackground-color:#fff1f1;\n",
       "\t\tpadding:5px;\n",
       "\t\t}\n",
       "#peu {\tfont-family:Arial;\n",
       "\tfont-size:12pt;\n",
       "\tbackground-color:#fff1f1;\n",
       "\tpadding:2px;\n",
       "\tline-height:1}\n",
       "\n",
       ".exercici {color:#a60d0d;\n",
       "\t   /* border-width:0 0 2px 2px !important;\n",
       "\t   border-style:solid !important;\n",
       "\t   border-color:#5e3333 !important; */ }\n",
       "\n",
       ".explicacio {}\n",
       "\n",
       ".avaluacio {}\n",
       "\n",
       "\n",
       "#notebook-container, .notebook_cell_list {\n",
       "       font-size: 1rem !important;\n",
       "       line-height: 1.5 !important;\n",
       "       width: 100%  !important;\n",
       "       margin-left: auto !important;\n",
       "       margin-right: auto !important;\n",
       "       padding-left: 12.5% !important;\n",
       "       font-family: et-book, Palatino, \"Palatino Linotype\", \"Palatino LT STD\", \"Book Antiqua\", Georgia, serif  !important;\n",
       "       background-color: #fffff8 !important;\n",
       "       color: #111 !important;\n",
       "       max-width: 1400px !important; }\n",
       "\n",
       " .rendered .input_prompt {\n",
       "\t min-width:0 !important; } \n",
       "\n",
       ".text_cell_render h1, .markdown h1 { \n",
       "     font-weight: 400;\n",
       "     font-style: normal;\n",
       "     margin-top: 0rem;\n",
       "     margin-bottom: 0rem;\n",
       "     font-size: 2rem; }\n",
       "\n",
       " .text_cell_render h2 { font-style: italic;\n",
       "     font-weight: 400;\n",
       "     font-size: 1.5rem;\n",
       "     margin-top: 1.5rem;\n",
       "     margin-bottom: 1.5em; }\n",
       "\n",
       " .text_cell_render h3 { font-style: italic;\n",
       "             font-weight: 400;\n",
       "             margin-top: 1rem;\n",
       "             margin-bottom: 1rem;\n",
       "             font-size: 1.2rem;\n",
       "             display: block; }\n",
       "\n",
       " .text_cell_render h4 {\n",
       "    font-size: 1.1rem;\n",
       "    font-weight: 400;\n",
       "    margin: 1rem auto; }\n",
       "\n",
       ".rendered_html p { \n",
       "\tfont-size: 1rem !important; \n",
       "    \tmargin-top: 1rem !important;;\n",
       "    \tmargin-bottom: 1rem !important;;\n",
       "    \tpadding-right: 0 !important;;\n",
       "    \tvertical-align: baseline !important;; }\n",
       "\n",
       ".rendered_html blockquote { font-size: 1.1rem !important;}\n",
       "\n",
       ".rendered_html ol, ul { width: 75% !important;; }\n",
       "\n",
       ".rendered_html li { padding: 0.5rem 0 !important;; }\n",
       "\n",
       ".rendered_html table {\n",
       "  border-top: 2px solid #111 !important;\n",
       "  border-bottom: 2px solid #111 !important;\n",
       "  font-size: 0.8rem !important;\n",
       "}\n",
       "\n",
       ".rendered_html th {\n",
       "  border-bottom: 1px solid #111 !important;\n",
       "}\n",
       "\t \n",
       ".rendered_html a { text-decoration: none !important;\n",
       "         background: linear-gradient(#fffff8, #fffff8), linear-gradient(#fffff8, #fffff8), linear-gradient(#333, #333);\n",
       "         background-size: 0.05em 1px, 0.05em 1px, 1px 1px;\n",
       "         background-repeat: no-repeat, no-repeat, repeat-x;\n",
       "         text-shadow: 0.03em 0 #fffff8, -0.03em 0 #fffff8, 0 0.03em #fffff8, 0 -0.03em #fffff8, 0.06em 0 #fffff8, -0.06em 0 #fffff8, 0.09em 0 #fffff8, -0.09em 0 #fffff8, 0.12em 0 #fffff8, -0.12em 0 #fffff8, 0.15em 0 #fffff8, -0.15em 0 #fffff8;\n",
       "         background-position: 0% 93%, 100% 93%, 0% 93%; }\n",
       "\n",
       ".rendered_html a:link::selection { text-shadow: 0.03em 0 #b4d5fe, -0.03em 0 #b4d5fe, 0 0.03em #b4d5fe, 0 -0.03em #b4d5fe, 0.06em 0 #b4d5fe, -0.06em 0 #b4d5fe, 0.09em 0 #b4d5fe, -0.09em 0 #b4d5fe, 0.12em 0 #b4d5fe, -0.12em 0 #b4d5fe, 0.15em 0 #b4d5fe, -0.15em 0 #b4d5fe;\n",
       "                    background: #b4d5fe; }\n",
       " \n",
       ".rendered_html pre { \n",
       "\tborder:1px solid #cccccc !important; }\n",
       "\n",
       ".rendered_html * code { \n",
       "\tfont-size: 1rem !important;\n",
       "        line-height: 1.5 !important;\n",
       "\tfont-family: Consolas, \"Liberation Mono\", Menlo, Courier, monospace !important;\n",
       "\tbackground-color: #fff !important }\n",
       "</style> \n",
       "<script>\n",
       "    MathJax.Hub.Config({\n",
       "                        TeX: {\n",
       "                           extensions: [\"AMSmath.js\"],\n",
       "                           equationNumbers: { autoNumber: \"AMS\", useLabelIds: true}\n",
       "                           },\n",
       "                tex2jax: {\n",
       "                    inlineMath: [ ['$','$'], [\"\\\\(\",\"\\\\)\"] ],\n",
       "                    displayMath: [ ['$$','$$'], [\"\\\\[\",\"\\\\]\"] ]\n",
       "                },\n",
       "                displayAlign: 'center', // Change this to 'center' to center equations.\n",
       "                \"HTML-CSS\": {\n",
       "                    scale: 95,\n",
       "                        availableFonts: [],\n",
       "                        preferredFont:null,\n",
       "                        webFont: \"TeX\",\n",
       "                    styles: {'.MathJax_Display': {\"margin\": 4}}\n",
       "                },\n",
       "                 \"fast-preview\": {\n",
       "                    \"disabled\": false\n",
       "                }\n",
       "        });\n",
       "</script>\n",
       "</style>"
      ],
      "text/plain": [
       "<IPython.core.display.HTML object>"
      ]
     },
     "execution_count": 1,
     "metadata": {},
     "output_type": "execute_result"
    }
   ],
   "source": [
    "# Executar aquesta cel.la per donar estil al notebook\n",
    "from IPython.core.display import HTML\n",
    "import requests\n",
    "style=requests.get('https://raw.githubusercontent.com/MireiaUB/algorismica2019.github.io/patch-1/prova.css').text\n",
    "HTML('<style>{}</style>'.format(style))\n"
   ]
  },
  {
   "cell_type": "code",
   "execution_count": null,
   "metadata": {},
   "outputs": [],
   "source": []
  }
 ],
 "metadata": {
  "kernelspec": {
   "display_name": "Python 3",
   "language": "python",
   "name": "python3"
  },
  "language_info": {
   "codemirror_mode": {
    "name": "ipython",
    "version": 3
   },
   "file_extension": ".py",
   "mimetype": "text/x-python",
   "name": "python",
   "nbconvert_exporter": "python",
   "pygments_lexer": "ipython3",
   "version": "3.7.3"
  }
 },
 "nbformat": 4,
 "nbformat_minor": 2
}
