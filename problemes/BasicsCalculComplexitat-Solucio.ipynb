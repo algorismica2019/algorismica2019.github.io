{
 "cells": [
  {
   "cell_type": "markdown",
   "metadata": {},
   "source": [
    "\n",
    "<div id=\"capcalera\">\n",
    "<p><a href=\"https://colab.research.google.com/github/algorismica2019/algorismica2019.github.io/blob/master/problemes/BasicsCalculComplexitat-Solucio.ipynb\"><img style=\"margin:-10px 10px 20px 0\" width=\"150px\" align=\"right\" src=\"https://raw.githubusercontent.com/algorismica2019/algorismica2019.github.io/master/problemes/assets/colab-badge.png?raw=1\" alt=\"Obrir a Colab\" title=\"Obrir i executar a Google Colaboratory\"></a></p>\n",
    "<p style=\"clear:both\"><img align='left' width=\"300px\" style=\"padding-right:10px;float=left\" src=\"https://raw.githubusercontent.com/algorismica2019/algorismica2019.github.io/master/problemes/assets/al-khwarizmi.png\">Aquest notebook forma part dels continguts teòrics dels problemes de l'assignatura d'<strong>Algorísmica</strong> deL Grau d'Enginyeria Informàtica a la <a href=\"https://mat.ub.edu\">Facultat de Matemàtiques i Informàtica</a> de la <a href=\"https://www.ub.edu\">Universitat de Barcelona</a> impartida per <em>Jordi Vitrià</em> i <em>Mireia Ribera</em></p>\n",
    "\n",
    "<p>Els problemes s'ofereixen sota llicència <a href=\"https://creativecommons.org/licenses/by-nc-nd/3.0/us/legalcode\">CC-BY-NC-ND license</a>, i el codi sota <a href=\"https://opensource.org/licenses/MIT\">Llicència MIT</a>.</p>\n",
    "\n",
    "<p>Els problemes s'ofereixen sota llicència <a href=\"https://creativecommons.org/licenses/by-nc-nd/3.0/us/legalcode\">CC-BY-NC-ND license</a>, i el codi sota <a href=\"https://opensource.org/licenses/MIT\">Llicència MIT</a>.</p>\n",
    "\n",
    "<p style=\"clear:both;text-align:center\">&lt; <a href=\"BasicsFitxers.ipynb\">Bàsics Fitxers</a>| <a href=\"Basics.ipynb\">Problemes Bàsics de Python</a> | <a href=\"LListatProblemes.ipynb\">LListat de problemes general</a> | <a href=\"BasicsCercaHash.ipynb\">Cerca amb Hash</a> &gt; </p>\n",
    "\n",
    "</div>"
   ]
  },
  {
   "cell_type": "markdown",
   "metadata": {},
   "source": [
    "# <span class=\"tema\">(Bàsics Python)</span> Càlcul Complexitat - Solucions"
   ]
  },
  {
   "cell_type": "markdown",
   "metadata": {},
   "source": [
    "Aquest fitxer mostra les solucions als problemes [bàsics de complexitat](BasicsCalculComplexitat.ipynb)"
   ]
  },
  {
   "cell_type": "markdown",
   "metadata": {},
   "source": [
    "<p class=\"exercici\">Exercici 1: Ordre invers. Tenim una llista ordenada (no necessàriament amb un ordre natural) de mida $n$. El que volem ara és donar-li la volta, és a dir, tenir l'ordre invers.</p> "
   ]
  },
  {
   "cell_type": "code",
   "execution_count": 1,
   "metadata": {},
   "outputs": [],
   "source": [
    "def reverse_order(arr):\n",
    "    size = len(arr)\n",
    "    if(size == 1):\n",
    "        return arr\n",
    "    elif(size == 2):\n",
    "        listAux = [arr[1], arr[0]]\n",
    "        return listAux\n",
    "    else:\n",
    "        leftArr = arr[:size//2]\n",
    "        rightArr = arr[size//2:]\n",
    "        revLeftArr = reverse_order(leftArr)\n",
    "        revRightArr = reverse_order(rightArr)\n",
    "        return revRightArr + revLeftArr\n"
   ]
  },
  {
   "cell_type": "markdown",
   "metadata": {},
   "source": [
    "Per a cada recursió agafem dues llistes de n/2 elements. => a = 2; b = 2\n",
    "En sumar la llista a l'últim return gastem O(len(invRightArr+invLeftArr))=O(n) en crear la nova llista. => d = 1\n",
    "Aplicant el teorema master que log_b(a)=log_2(2)=1 i d=1, per tant estem en el cas 2\n",
    "Complexitat = =(n^1*logn)=O(nlogn) "
   ]
  },
  {
   "cell_type": "markdown",
   "metadata": {},
   "source": [
    "<p class=\"exercici\">Exercici 2: Teorema màster. Suposem algorismes la complexitat dels quals podem escriure com:\n",
    "\n",
    "1. $T(n)=3T(n/3)+\\sqrt{n}$\n",
    "2. $T(n)=3T(n/2)+n^2$\n",
    "3. $T(n)=4T(n/2)+n^2$\n",
    "\n",
    "Calcula la seva complexitat mitjançant el teorema Master</p>"
   ]
  },
  {
   "cell_type": "markdown",
   "metadata": {},
   "source": [
    " 1. log_3(3)=1 > d=1/2  => Cas 1 => O(n^1) = O(n)\n",
    " 2. log_2(3) < d=2      => Cas 3 => O(n^2)\n",
    " 3. log_2(4) = 2 == d=2 => Cas 2 = O(n^2log(n))"
   ]
  },
  {
   "cell_type": "markdown",
   "metadata": {},
   "source": [
    "<p class=\"exercici\">Exercici 3: Norma en el infinit. Definim la norma a l'infinit d'una matriu $A$ cuadrada $nxn$ com: \n",
    "$$\\Vert{A}\\Vert_{\\infty}=max_{1\\leq{j}\\leq{n}}{\\sum_{k=1}^n}{|A_{j,k}|}$$</p>"
   ]
  },
  {
   "cell_type": "code",
   "execution_count": 2,
   "metadata": {},
   "outputs": [],
   "source": [
    "def infinity_norm(A):\n",
    "    inf_norm = 0\n",
    "    for j in range(len(A)):\n",
    "        row_sum = 0\n",
    "        for k in range(len(A[j])):\n",
    "            row_sum += abs(A[j][k])\n",
    "        if(inf_norm < row_sum):\n",
    "            inf_norm = row_sum\n",
    "    return inf_norm\n"
   ]
  },
  {
   "cell_type": "markdown",
   "metadata": {},
   "source": [
    "    def infinity_norm(A):\n",
    "        inf_norm=0\n",
    "        for j in range(len(A)):--------------- el de dintre del bucle x n   n x (n+3) O(n^2)\n",
    "            row_sum = 0 ---------------------- O(1)\n",
    "            for k in range(len(A[j])):-------- el de dintre del bucle x n    O(n)\n",
    "                row_sum += abs(A[j][k])------- O(1)\n",
    "            if(inf_norm < row_sum):----------- O(1)\n",
    "                inf_norm = row_sum------------ O(1)\n",
    "        return inf_norm----------------------- O(1)\n",
    "\n",
    "\n",
    "La complexitat de l'algorisme és O(n^2). Si suposem una matrix nxm llavors la complexitat seria O(nxm)"
   ]
  },
  {
   "cell_type": "markdown",
   "metadata": {},
   "source": [
    "<p class=\"exercici\">Exercici 4: La jugada de Bernoulli. En aquest problema tirarem una moneda $n$ cops. Suposarem que una moneda només pot treure cara (C) o creu (X). Volem saber totes les situacions possibles quan tirem la moneda els $n$ cops. Per exemple, per a $n=2$ les possibilitats són $(C,C), (C,X), (X,C), (X,X)$</p>"
   ]
  },
  {
   "cell_type": "code",
   "execution_count": 3,
   "metadata": {},
   "outputs": [],
   "source": [
    "import itertools\n",
    "\n",
    "\n",
    "def bernoulli_possibilities(n):\n",
    "    a = list(set(itertools.product((\"X\", \"C\"), repeat=n)))\n",
    "    return(a)\n"
   ]
  },
  {
   "cell_type": "markdown",
   "metadata": {},
   "source": [
    "Estem bàsicament creant variacions amb repetició de n elements sobre un conjunt de 2 elements('x','c'), per tant, exactament fem  (2^n) llistes. \n",
    "\n",
    "Cada llista té n elements i la creem de zero.\n",
    "\n",
    "La complexitat és d'ordre n*2^n => O(n 2^n)"
   ]
  },
  {
   "cell_type": "markdown",
   "metadata": {},
   "source": [
    "<p class=\"exercici\">Exercici 5: Residus quadràtics. Volem trobar els elements $r$ tal que $x^2 = r \\ (mod \\ m)$</p>"
   ]
  },
  {
   "cell_type": "code",
   "execution_count": 4,
   "metadata": {},
   "outputs": [],
   "source": [
    "def quadratic_residue(m):\n",
    "    q_residues = set()\n",
    "    for x in range(m):\n",
    "        r = (x**2) % m\n",
    "        if(r != 0):\n",
    "            q_residues.add(r)\n",
    "    return q_residues\n"
   ]
  },
  {
   "cell_type": "markdown",
   "metadata": {},
   "source": [
    "Considerem que treballem amb nombres petits, i per tant les operacions de comparació i aritmètiques tenen un cost de $\\mathcal{O}(1)$\n",
    "\n",
    "    def quadratic_residue(m):\n",
    "        q_residues = set() ---------------- O(1)\n",
    "        for x in range(m): ---------------- el de dintre del bucle x m   n x (3) O(n)\n",
    "            r = (x**2) % m ------------------ O(1)\n",
    "            if(r is not 0):---------------- O(1)\n",
    "                q_residues.add(r)---------- O(1)\n",
    "        return q_residues\n",
    "    \n",
    "La complexitat és O(n)"
   ]
  },
  {
   "cell_type": "markdown",
   "metadata": {},
   "source": [
    "<p class=\"exercici\">Exercici 6: Fusió de llistes. Donades dues llistes $A, B$ de mida $n$ i $m$ respectivament llistes volem fusionar-les sense alterar la llista inicial. Una manera de fer-ho és la següent:</p>"
   ]
  },
  {
   "cell_type": "code",
   "execution_count": 5,
   "metadata": {},
   "outputs": [],
   "source": [
    "def fusio(A, B):\n",
    "    novaA = A[:]\n",
    "    for i in range(len(B)):\n",
    "        novaA.append(B[i])\n",
    "    return novaA\n"
   ]
  },
  {
   "cell_type": "markdown",
   "metadata": {},
   "source": [
    "    def fusio(A, B):\n",
    "        novaA = A[:]---------------------- O(n) on n és la longitud d'A\n",
    "        for i in range(len(B)):--------- el de dintre el bucle x m, on m és la longitud de B   O(m)\n",
    "            novaA.append(B[i])---------- O(1)\n",
    "        return novaA\n",
    "        \n",
    " La complexitat és O(n+m), on n és la longitud d'A i m la longitud de B"
   ]
  },
  {
   "cell_type": "markdown",
   "metadata": {},
   "source": [
    "<p class=\"exercici\">Exercici 7: Eliminar duplicats. Suposem que tenim una llista amb $n$ elements $[a_1,a_2,...,a_n]$. Volem generar una nova llista amb el mateix ordre però amb només una còpia de cada element: la primera que surt a la llista. Un algorisme per fer açò és:</p>"
   ]
  },
  {
   "cell_type": "code",
   "execution_count": 6,
   "metadata": {},
   "outputs": [],
   "source": [
    "def delete_duplicates(A):\n",
    "    idx = 0\n",
    "    newList = []\n",
    "    while(idx < len(A)):\n",
    "        actual_elem = A[idx]       \n",
    "        if(actual_elem != 'repetit'):\n",
    "            newList.append(actual_elem)\n",
    "            for idx2 in range(idx+1, len(A)):\n",
    "                if(A[idx2] == actual_elem):\n",
    "                    A[idx2] = 'repetit'\n",
    "        idx += 1\n",
    "    return newList\n"
   ]
  },
  {
   "cell_type": "markdown",
   "metadata": {},
   "source": [
    "Analitzarem el pitjor cas.\n",
    "\n",
    "Mitjançant el while iterem pels n elements de la llista A. Per a l'element i de la llista, com no estarà duplicat entrarem al segón bucle, on farem un recorregut de n-i elements. \n",
    "\n",
    "Per a cada iteració fem operacions constants. \n",
    "\n",
    "Per tant el nombre de operacions serà \n",
    "- (n-1)+(n-2)+...+(n-(n-1)) =  (n-1) + (n-2) + ... + 3 + 2 + 1 \n",
    "- = suma dels primers n-1 termes = (utilitzant la fòrmula de Gauss) \n",
    "- = (n*(n+1))/2 = (n^2)/2 - n/2 = O(n^2)"
   ]
  },
  {
   "cell_type": "markdown",
   "metadata": {},
   "source": [
    "<p class=\"exercici\">Exercici 8: Producte dels $log(n)$ primers nombres. Donat un n real volem saber quin és el producte dels enters des d'1 fins a l'enter més gran més petit que $log(n)$</p>"
   ]
  },
  {
   "cell_type": "code",
   "execution_count": 7,
   "metadata": {},
   "outputs": [],
   "source": [
    "from math import log\n",
    "\n",
    "\n",
    "def multiplicacio(n):\n",
    "    condicio = False\n",
    "    i = 1\n",
    "    producte = 1\n",
    "    while(not condicio):\n",
    "        producte *= i\n",
    "        i += 1\n",
    "        if(i >= log(n)):\n",
    "            condicio = True\n",
    "    return producte\n"
   ]
  },
  {
   "cell_type": "markdown",
   "metadata": {},
   "source": [
    "    def multiplicacio(n):\n",
    "        condicio = False ------------------------------------- O(1)\n",
    "        i=1 -------------------------------------------------- O(1)\n",
    "        producte = 1 ----------------------------------------- O(1)\n",
    "        while(not condicio): --------------------------------- O(logn)\n",
    "s'executarà enter(log(n)) cops ja que iterem des d'1 fins l'enter més proper per abaix al log(n), per tant el de dins x log(n) (ya que el més proper és log(n) per una constant ja què és molt pròxim i per a una n gran és el mateix\n",
    "\n",
    "            producte *= i ------------------------------------ O(1)\n",
    "            i+=1 --------------------------------------------- O(1)\n",
    "            if(i >= log(n)): --------------------------------- O(1)\n",
    "                condicio = True -------------------------------- O(1)\n",
    "        return producte -------------------------------------- O(1)\n",
    "\n",
    "Per tant la complexitat és O(logn)"
   ]
  },
  {
   "cell_type": "markdown",
   "metadata": {},
   "source": [
    "<p class=\"exercici\">Exercici 9: Comprovar si un nombre és primer. Sigui $n$ un nombre, volem saber si és primer o no. Per fer-ho només necessitem saber si te algún divisor menor que $\\sqrt{n}$. Si no en té no serà primer.</p>"
   ]
  },
  {
   "cell_type": "code",
   "execution_count": null,
   "metadata": {},
   "outputs": [],
   "source": [
    "from math import sqrt\n",
    "\n",
    "\n",
    "def check_prime_number(n):\n",
    "    prime = True\n",
    "    sqrtn = int(sqrt(n))\n",
    "    i = 2\n",
    "    while i <= sqrtn:\n",
    "        if(n % i == 0):\n",
    "            prime = False\n",
    "        i += 1\n",
    "    return prime\n"
   ]
  },
  {
   "cell_type": "markdown",
   "metadata": {},
   "source": [
    "    def check_prime_number(n):\n",
    "        prime = True ------------------------------------- O(1)\n",
    "        sqrtn = int(sqrt(n)) ----------------------------- O(1)\n",
    "        i = 2 ---------------------------------------------- O(1)\n",
    "        while i<=sqrtn: ---------------------------------- O(sqrt(n)). \n",
    "Es repetirà la part entera(sqrt(n)) cops, què és una constant per sqrt(n). Llavors la complexitat serà sqrt(n)*complexitat del de dins\n",
    "\n",
    "             if(n % i == 0): ---------------------------------- O(1)\n",
    "                prime = False ---------------------------- O(1)\n",
    "            i += 1 ----------------------------------------- O(1)\n",
    "        return prime ------------------------------------- O(1)\n",
    "\n",
    "Per tant la complexitat és O(sqrt(n))"
   ]
  },
  {
   "cell_type": "markdown",
   "metadata": {},
   "source": [
    "<p class=\"exercici\">Exercici 10: Llista de repeticions. Volem saber quants cops surt cada nombre si fem totes les multiplicacions possibles d'1 fins a $n$ tres cops, és a dir, el següent algorisme:</p>"
   ]
  },
  {
   "cell_type": "code",
   "execution_count": null,
   "metadata": {},
   "outputs": [],
   "source": [
    "def count_repetitions(n):\n",
    "    dict_of_reps = {}\n",
    "    for i in range(1, n+1):\n",
    "        for j in range(1, n+1):\n",
    "            for k in range(1, n+1):\n",
    "                if (i*j*k) not in dict_of_reps:\n",
    "                    dict_of_reps[(i*j*k)] = 1\n",
    "                else:\n",
    "                    dict_of_reps[(i*j*k)] += 1\n",
    "    return dict_of_reps\n"
   ]
  },
  {
   "cell_type": "markdown",
   "metadata": {},
   "source": [
    "Retorna només els nombres que surten com a key i el nombre de cops com a value."
   ]
  },
  {
   "cell_type": "markdown",
   "metadata": {},
   "source": [
    "    def count_repetitions(n):\n",
    "        dict_of_reps = {} ------------------------------ O(1)\n",
    "        for i in range(1, n+1): ------------------------- n per el de dins\n",
    "            for j in range(1, n+1): --------------------- n per el de dins\n",
    "                for k in range(1,n+1): ----------------- n per el de dins\n",
    "                    if (i*j*k) not in dict_of_reps: ---- O(1)\n",
    "                        dict_of_reps[(i*j*k)] = 1 ------ O(1)\n",
    "                    else:\n",
    "                        dict_of_reps[(i*j*k)] += 1 ------ O(1)\n",
    "        return dict_of_reps\n",
    "\n",
    "Per tant la complexitat és O(n^3)"
   ]
  },
  {
   "cell_type": "code",
   "execution_count": 1,
   "metadata": {},
   "outputs": [
    {
     "data": {
      "text/html": [
       "<style><style>\n",
       "\n",
       "@import url('http://fonts.googleapis.com/css?family=Source+Code+Pro');\n",
       "@import url('http://fonts.googleapis.com/css?family=Lora');\n",
       "\n",
       "/*   adapted from https://github.com/edwardtufte/et-book/blob/gh-pages/et-book.css */\n",
       "\n",
       "@charset \"UTF-8\";\n",
       "\n",
       "@font-face {\n",
       "  font-family: \"et-book\";\n",
       "  src: url(\"et-book/roman-line-figures.ttf\") format(\"truetype\");\n",
       "  font-weight: normal;\n",
       "  font-style: normal\n",
       "}\n",
       "\n",
       "@font-face {\n",
       "  font-family: \"et-book\";\n",
       "  src: url(\"et-book/display-italic-old-style-figures.ttf\") format(\"truetype\");\n",
       "  font-weight: normal;\n",
       "  font-style: italic\n",
       "}\n",
       "\n",
       "@font-face {\n",
       "  font-family: \"et-book\";\n",
       "  src: url(\"et-book/bold-line-figures.ttf\") format(\"truetype\");\n",
       "  font-weight: bold;\n",
       "  font-style: normal\n",
       "}\n",
       "\n",
       "@font-face {\n",
       "  font-family: \"et-book-roman-old-style\";\n",
       "  src: url(\"et-book/roman-old-style-figures.ttf\") format(\"truetype\");\n",
       "  font-weight: normal;\n",
       "  font-style: normal;\n",
       "}\n",
       "\n",
       "html {\n",
       "       font-size: 15px !important;\n",
       "}\n",
       "\n",
       ".tema, h1 span { font-size: 14pt;\n",
       "\tfont-style: italic;\n",
       "\tfont-weight: 100;}\n",
       "\n",
       "#capcalera {\tfont-family:Arial;\n",
       "\t\tfont-size:12pt;\n",
       "\t\tbackground-color:#fff1f1;\n",
       "\t\tpadding:5px;\n",
       "\t\t}\n",
       "#peu {\tfont-family:Arial;\n",
       "\tfont-size:12pt;\n",
       "\tbackground-color:#fff1f1;\n",
       "\tpadding:2px;\n",
       "\tline-height:1}\n",
       "\n",
       ".exercici {color:#a60d0d;\n",
       "\t   /* border-width:0 0 2px 2px !important;\n",
       "\t   border-style:solid !important;\n",
       "\t   border-color:#5e3333 !important; */ }\n",
       "\n",
       ".explicacio {}\n",
       "\n",
       ".avaluacio {}\n",
       "\n",
       "\n",
       "#notebook-container, .notebook_cell_list {\n",
       "       font-size: 1rem !important;\n",
       "       line-height: 1.5 !important;\n",
       "       width: 100%  !important;\n",
       "       margin-left: auto !important;\n",
       "       margin-right: auto !important;\n",
       "       padding-left: 12.5% !important;\n",
       "       font-family: et-book, Palatino, \"Palatino Linotype\", \"Palatino LT STD\", \"Book Antiqua\", Georgia, serif  !important;\n",
       "       background-color: #fffff8 !important;\n",
       "       color: #111 !important;\n",
       "       max-width: 1400px !important; }\n",
       "\n",
       " .rendered .input_prompt {\n",
       "\t min-width:0 !important; } \n",
       "\n",
       ".text_cell_render h1, .markdown h1 { \n",
       "     font-weight: 400;\n",
       "     font-style: normal;\n",
       "     margin-top: 0rem;\n",
       "     margin-bottom: 0rem;\n",
       "     font-size: 2rem; }\n",
       "\n",
       " .text_cell_render h2 { font-style: italic;\n",
       "     font-weight: 400;\n",
       "     font-size: 1.5rem;\n",
       "     margin-top: 1.5rem;\n",
       "     margin-bottom: 1.5em; }\n",
       "\n",
       " .text_cell_render h3 { font-style: italic;\n",
       "             font-weight: 400;\n",
       "             margin-top: 1rem;\n",
       "             margin-bottom: 1rem;\n",
       "             font-size: 1.2rem;\n",
       "             display: block; }\n",
       "\n",
       " .text_cell_render h4 {\n",
       "    font-size: 1.1rem;\n",
       "    font-weight: 400;\n",
       "    margin: 1rem auto; }\n",
       "\n",
       ".rendered_html p { \n",
       "\tfont-size: 1rem !important; \n",
       "    \tmargin-top: 1rem !important;;\n",
       "    \tmargin-bottom: 1rem !important;;\n",
       "    \tpadding-right: 0 !important;;\n",
       "    \tvertical-align: baseline !important;; }\n",
       "\n",
       ".rendered_html blockquote { font-size: 1.1rem !important;}\n",
       "\n",
       ".rendered_html ol, ul { width: 75% !important;; }\n",
       "\n",
       ".rendered_html li { padding: 0.5rem 0 !important;; }\n",
       "\n",
       ".rendered_html table {\n",
       "  border-top: 2px solid #111 !important;\n",
       "  border-bottom: 2px solid #111 !important;\n",
       "  font-size: 0.8rem !important;\n",
       "}\n",
       "\n",
       ".rendered_html th {\n",
       "  border-bottom: 1px solid #111 !important;\n",
       "}\n",
       "\t \n",
       ".rendered_html a { text-decoration: none !important;\n",
       "         background: linear-gradient(#fffff8, #fffff8), linear-gradient(#fffff8, #fffff8), linear-gradient(#333, #333);\n",
       "         background-size: 0.05em 1px, 0.05em 1px, 1px 1px;\n",
       "         background-repeat: no-repeat, no-repeat, repeat-x;\n",
       "         text-shadow: 0.03em 0 #fffff8, -0.03em 0 #fffff8, 0 0.03em #fffff8, 0 -0.03em #fffff8, 0.06em 0 #fffff8, -0.06em 0 #fffff8, 0.09em 0 #fffff8, -0.09em 0 #fffff8, 0.12em 0 #fffff8, -0.12em 0 #fffff8, 0.15em 0 #fffff8, -0.15em 0 #fffff8;\n",
       "         background-position: 0% 93%, 100% 93%, 0% 93%; }\n",
       "\n",
       ".rendered_html a:link::selection { text-shadow: 0.03em 0 #b4d5fe, -0.03em 0 #b4d5fe, 0 0.03em #b4d5fe, 0 -0.03em #b4d5fe, 0.06em 0 #b4d5fe, -0.06em 0 #b4d5fe, 0.09em 0 #b4d5fe, -0.09em 0 #b4d5fe, 0.12em 0 #b4d5fe, -0.12em 0 #b4d5fe, 0.15em 0 #b4d5fe, -0.15em 0 #b4d5fe;\n",
       "                    background: #b4d5fe; }\n",
       " \n",
       ".rendered_html pre { \n",
       "\tborder:1px solid #cccccc !important; }\n",
       "\n",
       ".rendered_html * code { \n",
       "\tfont-size: 1rem !important;\n",
       "        line-height: 1.5 !important;\n",
       "\tfont-family: Consolas, \"Liberation Mono\", Menlo, Courier, monospace !important;\n",
       "\tbackground-color: #fff !important }\n",
       "</style> \n",
       "<script>\n",
       "    MathJax.Hub.Config({\n",
       "                        TeX: {\n",
       "                           extensions: [\"AMSmath.js\"],\n",
       "                           equationNumbers: { autoNumber: \"AMS\", useLabelIds: true}\n",
       "                           },\n",
       "                tex2jax: {\n",
       "                    inlineMath: [ ['$','$'], [\"\\\\(\",\"\\\\)\"] ],\n",
       "                    displayMath: [ ['$$','$$'], [\"\\\\[\",\"\\\\]\"] ]\n",
       "                },\n",
       "                displayAlign: 'center', // Change this to 'center' to center equations.\n",
       "                \"HTML-CSS\": {\n",
       "                    scale: 95,\n",
       "                        availableFonts: [],\n",
       "                        preferredFont:null,\n",
       "                        webFont: \"TeX\",\n",
       "                    styles: {'.MathJax_Display': {\"margin\": 4}}\n",
       "                },\n",
       "                 \"fast-preview\": {\n",
       "                    \"disabled\": false\n",
       "                }\n",
       "        });\n",
       "</script>\n",
       "</style>"
      ],
      "text/plain": [
       "<IPython.core.display.HTML object>"
      ]
     },
     "execution_count": 1,
     "metadata": {},
     "output_type": "execute_result"
    }
   ],
   "source": [
    "# Executar aquesta cel.la per donar estil al notebook\n",
    "from IPython.core.display import HTML\n",
    "import requests\n",
    "style=requests.get('https://raw.githubusercontent.com/MireiaUB/algorismica2019.github.io/patch-1/prova.css').text\n",
    "HTML('<style>{}</style>'.format(style))"
   ]
  },
  {
   "cell_type": "markdown",
   "metadata": {},
   "source": [
    "<div id=\"peu\">\n",
    "<p><a href=\"https://colab.research.google.com/github/algorismica2019/algorismica2019.github.io/blob/master/problemes/BasicsCalculComplexitat-Solucio.ipynb\"><img style=\"margin:-10px 10px 20px 0\" width=\"150px\" align=\"right\" src=\"https://raw.githubusercontent.com/algorismica2019/algorismica2019.github.io/master/problemes/assets/colab-badge.png?raw=1\" alt=\"Obrir a Colab\" title=\"Obrir i executar a Google Colaboratory\"></a></p>\n",
    "<p style=\"clear:both;text-align:center\">&lt; <a href=\"BasicsFitxers.ipynb\">Bàsics Fitxers</a>| <a href=\"Basics.ipynb\">Problemes Bàsics de Python</a> | <a href=\"LListatProblemes.ipynb\">LListat de problemes general</a> | <a href=\"BasicsCercaHash.ipynb\">Cerca amb Hash</a> &gt; </p>\n",
    "</div>"
   ]
  }
 ],
 "metadata": {
  "kernelspec": {
   "display_name": "Python 3",
   "language": "python",
   "name": "python3"
  },
  "language_info": {
   "codemirror_mode": {
    "name": "ipython",
    "version": 3
   },
   "file_extension": ".py",
   "mimetype": "text/x-python",
   "name": "python",
   "nbconvert_exporter": "python",
   "pygments_lexer": "ipython3",
   "version": "3.7.3"
  }
 },
 "nbformat": 4,
 "nbformat_minor": 2
}
